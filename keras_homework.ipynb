{
 "cells": [
  {
   "cell_type": "markdown",
   "metadata": {
    "id": "Qx7gD5SOa0oT"
   },
   "source": [
    "# Домашнее задание\n",
    "\n",
    "В этом домашнем задании вам предстоит обучить модель классификации рукописных цифр на Tensorflow.\n",
    "\n",
    "Важным дополненительным требованием будет сохранение чекпоинтов на ваш гугл диск (не переживайте ниже будут подсказки как это сделать). Это пригодится вам в дальнейшем при обучении более сложных моделей, на случай потери данных при неожиданном отключении Colab."
   ]
  },
  {
   "cell_type": "code",
   "execution_count": 2,
   "metadata": {
    "colab": {
     "base_uri": "https://localhost:8080/"
    },
    "id": "tRPzy1zPDyYD",
    "outputId": "b67ec2f2-b0ca-468f-b1e1-9b40ef952fb3"
   },
   "outputs": [
    {
     "name": "stdout",
     "output_type": "stream",
     "text": [
      "2.4.0\n"
     ]
    }
   ],
   "source": [
    "import tensorflow as tf\n",
    "print(tf.__version__)\n",
    "from google.colab import drive\n",
    "from pathlib import Path\n",
    "import matplotlib.pyplot as plt\n",
    "import numpy as np\n",
    "\n"
   ]
  },
  {
   "cell_type": "markdown",
   "metadata": {
    "id": "8oA_nuENcFnQ"
   },
   "source": [
    "####Вспомогательный код"
   ]
  },
  {
   "cell_type": "code",
   "execution_count": 80,
   "metadata": {
    "id": "dFjoXlmJYyJJ"
   },
   "outputs": [],
   "source": [
    "#@title \n",
    "def show_mnist(images, labels, predicted_labels=None):\n",
    "    plt.figure(figsize=(10,10))\n",
    "    for i in range(16):\n",
    "        plt.subplot(4,4, i+1)\n",
    "        plt.xticks([])\n",
    "        plt.yticks([])\n",
    "        plt.grid(False)\n",
    "        plt.imshow(images[i], cmap=plt.cm.gray)\n",
    "        if predicted_labels is not None:\n",
    "            title_obj = plt.title(f\"Real: {labels[i]}. Pred: {predicted_labels[i]}\")\n",
    "            if labels[i] != predicted_labels[i]:\n",
    "                plt.setp(title_obj, color='r')\n",
    "        else:\n",
    "            plt.title(f\"Real label: {labels[i]}\")\n",
    "\n",
    "def show_progress(history: dict):\n",
    "    plt.figure(figsize=(10, 5))\n",
    "    ax1 = plt.subplot(1,2,1)    \n",
    "    plt.plot(history[\"accuracy\"],label='train accuracy')\n",
    "    plt.plot(history[\"val_accuracy\"], label='test accuracy')\n",
    "    ax2 = plt.subplot(1,2,2)\n",
    "    plt.plot(history[\"loss\"],label='train_loss')\n",
    "    plt.plot(history[\"val_loss\"],label='test_loss')\n",
    "    \n",
    "    ax1.legend(loc='best')\n",
    "    ax2.legend(loc='best')\n",
    "    plt.grid()\n",
    "    plt.tight_layout()\n",
    "    plt.show()"
   ]
  },
  {
   "cell_type": "markdown",
   "metadata": {
    "id": "nL_nICZ4cMOx"
   },
   "source": [
    "## Загрузка данных"
   ]
  },
  {
   "cell_type": "code",
   "execution_count": 6,
   "metadata": {
    "colab": {
     "base_uri": "https://localhost:8080/",
     "height": 594
    },
    "id": "AcMON-_rWqdK",
    "outputId": "8530bcf7-08a3-40cf-f508-d4a2da5d345f"
   },
   "outputs": [
    {
     "data": {
      "image/png": "[encoded data removed]",
      "text/plain": [
       "<Figure size 720x720 with 16 Axes>"
      ]
     },
     "metadata": {
      "tags": []
     },
     "output_type": "display_data"
    }
   ],
   "source": [
    "(x_train, y_train),(x_test, y_test) = tf.keras.datasets.mnist.load_data()\n",
    "x_train, x_test = x_train / 255.0, x_test / 255.0\n",
    "\n",
    "show_mnist(x_train, y_train)\n",
    "x_train = x_train.reshape((-1, 28*28)) # вытянули каждую картинку в вектор\n",
    "x_test = x_test.reshape((-1, 28*28))\n"
   ]
  },
  {
   "cell_type": "code",
   "execution_count": 7,
   "metadata": {
    "colab": {
     "base_uri": "https://localhost:8080/"
    },
    "id": "D9_g86msEud4",
    "outputId": "f591f885-e43f-4d6b-fd16-1da6a574be07"
   },
   "outputs": [
    {
     "name": "stdout",
     "output_type": "stream",
     "text": [
      "Mounted at /content/drive/\n"
     ]
    }
   ],
   "source": [
    "# прикрепим ваш гугл диск к виртуальной машине\n",
    "drive.mount('/content/drive/')"
   ]
  },
  {
   "cell_type": "code",
   "execution_count": 100,
   "metadata": {
    "id": "0yVUAhqPVVet"
   },
   "outputs": [],
   "source": [
    "# Путь до вашего гугл диска скорее всего выглядит так: /content/drive/My Drive/\n",
    "# если эта клетка вызывает ошибку, \n",
    "# измените путь согласно ! ls \"/content/drive/\"\n",
    "\n",
    "path = Path(\"/content/drive/My Drive/Skillbox/model_1\")\n",
    "path.mkdir(exist_ok=True, parents=True) # папка создается на вашем гугл диске. вместе с \"родителями\"\n",
    "assert path.exists()\n",
    "cpt_filename = \"best_checkpoint.hdf5\"  \n",
    "cpt_path =str(path / cpt_filename)\n",
    "# После выполнения этой клетки, в вашем гугл диске должна создаться папка: Skillbox/model_1\n",
    "# убедитесь в этом"
   ]
  },
  {
   "cell_type": "code",
   "execution_count": 101,
   "metadata": {
    "id": "jKuy-jLfhAZ_"
   },
   "outputs": [],
   "source": [
    "path = Path(\"model_1\")\n",
    "path.mkdir(exist_ok=True) # создаем папку на диске\n",
    "cpt_filename = \"{epoch:02d}_checkpoint_{accuracy:.4f}, loss={loss:.4f}, val_acc={val_accuracy:.4f}.hdf5\"  \n",
    "cpt_path = str(path / cpt_filename)\n",
    "\n",
    "checkpoint = tf.keras.callbacks.ModelCheckpoint(cpt_path, monitor='accuracy', verbose=1, save_best_only=True, mode='max')"
   ]
  },
  {
   "cell_type": "markdown",
   "metadata": {
    "id": "L1RVxtPzgr_g"
   },
   "source": [
    "А весь код ниже вы реализуете самостоятельно! Вы уже к этому готовы :)\n",
    "Требования к модели:\n",
    "1. Точность на тестовой части выборки >96%\n",
    "2. Чекпоинт модели с лучшими параметрами должен быть сохранен у вас на гугл диске\n",
    "3. Объект history, который получается из model.fit(...) должен содержать значения лосса и accuracy для трейна и теста"
   ]
  },
  {
   "cell_type": "code",
   "execution_count": 102,
   "metadata": {
    "colab": {
     "base_uri": "https://localhost:8080/"
    },
    "id": "oAHxE8wpEKD5",
    "outputId": "180df239-7a79-4861-ba63-135d5ecb158c"
   },
   "outputs": [
    {
     "name": "stdout",
     "output_type": "stream",
     "text": [
      "Epoch 1/50\n",
      "WARNING:tensorflow:Model was constructed with shape (None, 60000, 784) for input KerasTensor(type_spec=TensorSpec(shape=(None, 60000, 784), dtype=tf.float32, name='dense_101_input'), name='dense_101_input', description=\"created by layer 'dense_101_input'\"), but it was called on an input with incompatible shape (None, 784).\n",
      "WARNING:tensorflow:Model was constructed with shape (None, 60000, 784) for input KerasTensor(type_spec=TensorSpec(shape=(None, 60000, 784), dtype=tf.float32, name='dense_101_input'), name='dense_101_input', description=\"created by layer 'dense_101_input'\"), but it was called on an input with incompatible shape (None, 784).\n",
      "924/938 [============================>.] - ETA: 0s - loss: 0.5207 - accuracy: 0.8557WARNING:tensorflow:Model was constructed with shape (None, 60000, 784) for input KerasTensor(type_spec=TensorSpec(shape=(None, 60000, 784), dtype=tf.float32, name='dense_101_input'), name='dense_101_input', description=\"created by layer 'dense_101_input'\"), but it was called on an input with incompatible shape (None, 784).\n",
      "938/938 [==============================] - 3s 3ms/step - loss: 0.5173 - accuracy: 0.8566 - val_loss: 0.1710 - val_accuracy: 0.9470\n",
      "\n",
      "Epoch 00001: accuracy improved from -inf to 0.91183, saving model to model_1/01_checkpoint_0.9118, loss=0.3104, val_acc=0.9470.hdf5\n",
      "Epoch 2/50\n",
      "938/938 [==============================] - 2s 2ms/step - loss: 0.1552 - accuracy: 0.9537 - val_loss: 0.1251 - val_accuracy: 0.9620\n",
      "\n",
      "Epoch 00002: accuracy improved from 0.91183 to 0.95730, saving model to model_1/02_checkpoint_0.9573, loss=0.1430, val_acc=0.9620.hdf5\n",
      "Epoch 3/50\n",
      "938/938 [==============================] - 2s 2ms/step - loss: 0.1045 - accuracy: 0.9690 - val_loss: 0.1232 - val_accuracy: 0.9616\n",
      "\n",
      "Epoch 00003: accuracy improved from 0.95730 to 0.96915, saving model to model_1/03_checkpoint_0.9692, loss=0.1057, val_acc=0.9616.hdf5\n",
      "Epoch 4/50\n",
      "938/938 [==============================] - 2s 2ms/step - loss: 0.0829 - accuracy: 0.9747 - val_loss: 0.1035 - val_accuracy: 0.9674\n",
      "\n",
      "Epoch 00004: accuracy improved from 0.96915 to 0.97500, saving model to model_1/04_checkpoint_0.9750, loss=0.0848, val_acc=0.9674.hdf5\n",
      "Epoch 5/50\n",
      "938/938 [==============================] - 2s 2ms/step - loss: 0.0734 - accuracy: 0.9779 - val_loss: 0.0949 - val_accuracy: 0.9729\n",
      "\n",
      "Epoch 00005: accuracy improved from 0.97500 to 0.97823, saving model to model_1/05_checkpoint_0.9782, loss=0.0716, val_acc=0.9729.hdf5\n",
      "Epoch 6/50\n",
      "938/938 [==============================] - 2s 2ms/step - loss: 0.0607 - accuracy: 0.9819 - val_loss: 0.0916 - val_accuracy: 0.9738\n",
      "\n",
      "Epoch 00006: accuracy improved from 0.97823 to 0.98115, saving model to model_1/06_checkpoint_0.9811, loss=0.0624, val_acc=0.9738.hdf5\n",
      "Epoch 7/50\n",
      "938/938 [==============================] - 2s 2ms/step - loss: 0.0542 - accuracy: 0.9849 - val_loss: 0.0901 - val_accuracy: 0.9743\n",
      "\n",
      "Epoch 00007: accuracy improved from 0.98115 to 0.98438, saving model to model_1/07_checkpoint_0.9844, loss=0.0535, val_acc=0.9743.hdf5\n",
      "Epoch 8/50\n",
      "938/938 [==============================] - 2s 2ms/step - loss: 0.0445 - accuracy: 0.9867 - val_loss: 0.0995 - val_accuracy: 0.9723\n",
      "\n",
      "Epoch 00008: accuracy improved from 0.98438 to 0.98582, saving model to model_1/08_checkpoint_0.9858, loss=0.0478, val_acc=0.9723.hdf5\n",
      "Epoch 9/50\n",
      "938/938 [==============================] - 2s 2ms/step - loss: 0.0400 - accuracy: 0.9878 - val_loss: 0.1051 - val_accuracy: 0.9713\n",
      "\n",
      "Epoch 00009: accuracy improved from 0.98582 to 0.98702, saving model to model_1/09_checkpoint_0.9870, loss=0.0433, val_acc=0.9713.hdf5\n",
      "Epoch 10/50\n",
      "938/938 [==============================] - 2s 2ms/step - loss: 0.0361 - accuracy: 0.9886 - val_loss: 0.0955 - val_accuracy: 0.9745\n",
      "\n",
      "Epoch 00010: accuracy improved from 0.98702 to 0.98847, saving model to model_1/10_checkpoint_0.9885, loss=0.0383, val_acc=0.9745.hdf5\n",
      "Epoch 11/50\n",
      "938/938 [==============================] - 2s 2ms/step - loss: 0.0328 - accuracy: 0.9908 - val_loss: 0.0981 - val_accuracy: 0.9741\n",
      "\n",
      "Epoch 00011: accuracy improved from 0.98847 to 0.98972, saving model to model_1/11_checkpoint_0.9897, loss=0.0343, val_acc=0.9741.hdf5\n",
      "Epoch 12/50\n",
      "938/938 [==============================] - 2s 2ms/step - loss: 0.0283 - accuracy: 0.9910 - val_loss: 0.1044 - val_accuracy: 0.9757\n",
      "\n",
      "Epoch 00012: accuracy improved from 0.98972 to 0.99098, saving model to model_1/12_checkpoint_0.9910, loss=0.0302, val_acc=0.9757.hdf5\n",
      "Epoch 13/50\n",
      "938/938 [==============================] - 2s 2ms/step - loss: 0.0253 - accuracy: 0.9926 - val_loss: 0.1040 - val_accuracy: 0.9768\n",
      "\n",
      "Epoch 00013: accuracy improved from 0.99098 to 0.99162, saving model to model_1/13_checkpoint_0.9916, loss=0.0282, val_acc=0.9768.hdf5\n",
      "Epoch 14/50\n",
      "938/938 [==============================] - 2s 2ms/step - loss: 0.0220 - accuracy: 0.9941 - val_loss: 0.1016 - val_accuracy: 0.9764\n",
      "\n",
      "Epoch 00014: accuracy improved from 0.99162 to 0.99307, saving model to model_1/14_checkpoint_0.9931, loss=0.0250, val_acc=0.9764.hdf5\n",
      "Epoch 15/50\n",
      "938/938 [==============================] - 2s 2ms/step - loss: 0.0218 - accuracy: 0.9940 - val_loss: 0.1099 - val_accuracy: 0.9759\n",
      "\n",
      "Epoch 00015: accuracy improved from 0.99307 to 0.99358, saving model to model_1/15_checkpoint_0.9936, loss=0.0224, val_acc=0.9759.hdf5\n",
      "Epoch 16/50\n",
      "938/938 [==============================] - 2s 2ms/step - loss: 0.0190 - accuracy: 0.9945 - val_loss: 0.1102 - val_accuracy: 0.9757\n",
      "\n",
      "Epoch 00016: accuracy improved from 0.99358 to 0.99402, saving model to model_1/16_checkpoint_0.9940, loss=0.0200, val_acc=0.9757.hdf5\n",
      "Epoch 17/50\n",
      "938/938 [==============================] - 2s 2ms/step - loss: 0.0174 - accuracy: 0.9943 - val_loss: 0.1222 - val_accuracy: 0.9745\n",
      "\n",
      "Epoch 00017: accuracy did not improve from 0.99402\n",
      "Epoch 18/50\n",
      "938/938 [==============================] - 2s 2ms/step - loss: 0.0153 - accuracy: 0.9955 - val_loss: 0.1206 - val_accuracy: 0.9738\n",
      "\n",
      "Epoch 00018: accuracy improved from 0.99402 to 0.99525, saving model to model_1/18_checkpoint_0.9952, loss=0.0166, val_acc=0.9738.hdf5\n",
      "Epoch 19/50\n",
      "938/938 [==============================] - 2s 2ms/step - loss: 0.0142 - accuracy: 0.9957 - val_loss: 0.1204 - val_accuracy: 0.9757\n",
      "\n",
      "Epoch 00019: accuracy improved from 0.99525 to 0.99530, saving model to model_1/19_checkpoint_0.9953, loss=0.0163, val_acc=0.9757.hdf5\n",
      "Epoch 20/50\n",
      "938/938 [==============================] - 2s 2ms/step - loss: 0.0125 - accuracy: 0.9964 - val_loss: 0.1342 - val_accuracy: 0.9756\n",
      "\n",
      "Epoch 00020: accuracy improved from 0.99530 to 0.99605, saving model to model_1/20_checkpoint_0.9961, loss=0.0140, val_acc=0.9756.hdf5\n",
      "Epoch 21/50\n",
      "938/938 [==============================] - 2s 2ms/step - loss: 0.0117 - accuracy: 0.9964 - val_loss: 0.1314 - val_accuracy: 0.9764\n",
      "\n",
      "Epoch 00021: accuracy improved from 0.99605 to 0.99608, saving model to model_1/21_checkpoint_0.9961, loss=0.0125, val_acc=0.9764.hdf5\n",
      "Epoch 22/50\n",
      "938/938 [==============================] - 2s 2ms/step - loss: 0.0115 - accuracy: 0.9967 - val_loss: 0.1375 - val_accuracy: 0.9767\n",
      "\n",
      "Epoch 00022: accuracy improved from 0.99608 to 0.99628, saving model to model_1/22_checkpoint_0.9963, loss=0.0121, val_acc=0.9767.hdf5\n",
      "Epoch 23/50\n",
      "938/938 [==============================] - 2s 2ms/step - loss: 0.0085 - accuracy: 0.9974 - val_loss: 0.1256 - val_accuracy: 0.9779\n",
      "\n",
      "Epoch 00023: accuracy improved from 0.99628 to 0.99657, saving model to model_1/23_checkpoint_0.9966, loss=0.0112, val_acc=0.9779.hdf5\n",
      "Epoch 24/50\n",
      "938/938 [==============================] - 2s 2ms/step - loss: 0.0075 - accuracy: 0.9975 - val_loss: 0.1539 - val_accuracy: 0.9745\n",
      "\n",
      "Epoch 00024: accuracy improved from 0.99657 to 0.99720, saving model to model_1/24_checkpoint_0.9972, loss=0.0094, val_acc=0.9745.hdf5\n",
      "Epoch 25/50\n",
      "938/938 [==============================] - 2s 2ms/step - loss: 0.0079 - accuracy: 0.9976 - val_loss: 0.1498 - val_accuracy: 0.9759\n",
      "\n",
      "Epoch 00025: accuracy did not improve from 0.99720\n",
      "Epoch 26/50\n",
      "938/938 [==============================] - 2s 2ms/step - loss: 0.0076 - accuracy: 0.9974 - val_loss: 0.1482 - val_accuracy: 0.9749\n",
      "\n",
      "Epoch 00026: accuracy improved from 0.99720 to 0.99735, saving model to model_1/26_checkpoint_0.9973, loss=0.0086, val_acc=0.9749.hdf5\n",
      "Epoch 27/50\n",
      "938/938 [==============================] - 2s 2ms/step - loss: 0.0072 - accuracy: 0.9980 - val_loss: 0.1501 - val_accuracy: 0.9779\n",
      "\n",
      "Epoch 00027: accuracy improved from 0.99735 to 0.99788, saving model to model_1/27_checkpoint_0.9979, loss=0.0072, val_acc=0.9779.hdf5\n",
      "Epoch 28/50\n",
      "938/938 [==============================] - 2s 2ms/step - loss: 0.0060 - accuracy: 0.9980 - val_loss: 0.1590 - val_accuracy: 0.9753\n",
      "\n",
      "Epoch 00028: accuracy did not improve from 0.99788\n",
      "Epoch 29/50\n",
      "938/938 [==============================] - 2s 2ms/step - loss: 0.0048 - accuracy: 0.9984 - val_loss: 0.1607 - val_accuracy: 0.9764\n",
      "\n",
      "Epoch 00029: accuracy improved from 0.99788 to 0.99810, saving model to model_1/29_checkpoint_0.9981, loss=0.0065, val_acc=0.9764.hdf5\n",
      "Epoch 30/50\n",
      "938/938 [==============================] - 2s 2ms/step - loss: 0.0055 - accuracy: 0.9983 - val_loss: 0.1643 - val_accuracy: 0.9771\n",
      "\n",
      "Epoch 00030: accuracy improved from 0.99810 to 0.99813, saving model to model_1/30_checkpoint_0.9981, loss=0.0059, val_acc=0.9771.hdf5\n",
      "Epoch 31/50\n",
      "938/938 [==============================] - 2s 2ms/step - loss: 0.0053 - accuracy: 0.9982 - val_loss: 0.1665 - val_accuracy: 0.9774\n",
      "\n",
      "Epoch 00031: accuracy did not improve from 0.99813\n",
      "Epoch 32/50\n",
      "938/938 [==============================] - 2s 2ms/step - loss: 0.0039 - accuracy: 0.9990 - val_loss: 0.1746 - val_accuracy: 0.9767\n",
      "\n",
      "Epoch 00032: accuracy improved from 0.99813 to 0.99843, saving model to model_1/32_checkpoint_0.9984, loss=0.0052, val_acc=0.9767.hdf5\n",
      "Epoch 33/50\n",
      "938/938 [==============================] - 2s 2ms/step - loss: 0.0060 - accuracy: 0.9985 - val_loss: 0.1772 - val_accuracy: 0.9760\n",
      "\n",
      "Epoch 00033: accuracy did not improve from 0.99843\n",
      "Epoch 34/50\n",
      "938/938 [==============================] - 2s 2ms/step - loss: 0.0030 - accuracy: 0.9991 - val_loss: 0.1854 - val_accuracy: 0.9764\n",
      "\n",
      "Epoch 00034: accuracy improved from 0.99843 to 0.99858, saving model to model_1/34_checkpoint_0.9986, loss=0.0045, val_acc=0.9764.hdf5\n",
      "Epoch 35/50\n",
      "938/938 [==============================] - 2s 2ms/step - loss: 0.0033 - accuracy: 0.9989 - val_loss: 0.1814 - val_accuracy: 0.9781\n",
      "\n",
      "Epoch 00035: accuracy improved from 0.99858 to 0.99863, saving model to model_1/35_checkpoint_0.9986, loss=0.0043, val_acc=0.9781.hdf5\n",
      "Epoch 36/50\n",
      "938/938 [==============================] - 2s 2ms/step - loss: 0.0033 - accuracy: 0.9989 - val_loss: 0.1960 - val_accuracy: 0.9758\n",
      "\n",
      "Epoch 00036: accuracy improved from 0.99863 to 0.99872, saving model to model_1/36_checkpoint_0.9987, loss=0.0037, val_acc=0.9758.hdf5\n",
      "Epoch 37/50\n",
      "938/938 [==============================] - 2s 2ms/step - loss: 0.0026 - accuracy: 0.9992 - val_loss: 0.1929 - val_accuracy: 0.9775\n",
      "\n",
      "Epoch 00037: accuracy improved from 0.99872 to 0.99897, saving model to model_1/37_checkpoint_0.9990, loss=0.0034, val_acc=0.9775.hdf5\n",
      "Epoch 38/50\n",
      "938/938 [==============================] - 2s 2ms/step - loss: 0.0028 - accuracy: 0.9991 - val_loss: 0.2067 - val_accuracy: 0.9762\n",
      "\n",
      "Epoch 00038: accuracy did not improve from 0.99897\n",
      "Epoch 39/50\n",
      "938/938 [==============================] - 2s 2ms/step - loss: 0.0023 - accuracy: 0.9993 - val_loss: 0.1966 - val_accuracy: 0.9764\n",
      "\n",
      "Epoch 00039: accuracy improved from 0.99897 to 0.99900, saving model to model_1/39_checkpoint_0.9990, loss=0.0034, val_acc=0.9764.hdf5\n",
      "Epoch 40/50\n",
      "938/938 [==============================] - 2s 2ms/step - loss: 0.0028 - accuracy: 0.9992 - val_loss: 0.2094 - val_accuracy: 0.9768\n",
      "\n",
      "Epoch 00040: accuracy did not improve from 0.99900\n",
      "Epoch 41/50\n",
      "938/938 [==============================] - 2s 2ms/step - loss: 0.0024 - accuracy: 0.9991 - val_loss: 0.2214 - val_accuracy: 0.9769\n",
      "\n",
      "Epoch 00041: accuracy improved from 0.99900 to 0.99910, saving model to model_1/41_checkpoint_0.9991, loss=0.0026, val_acc=0.9769.hdf5\n",
      "Epoch 42/50\n",
      "938/938 [==============================] - 2s 2ms/step - loss: 0.0025 - accuracy: 0.9992 - val_loss: 0.2123 - val_accuracy: 0.9770\n",
      "\n",
      "Epoch 00042: accuracy did not improve from 0.99910\n",
      "Epoch 43/50\n",
      "938/938 [==============================] - 2s 2ms/step - loss: 0.0021 - accuracy: 0.9992 - val_loss: 0.2157 - val_accuracy: 0.9753\n",
      "\n",
      "Epoch 00043: accuracy did not improve from 0.99910\n",
      "Epoch 44/50\n",
      "938/938 [==============================] - 2s 2ms/step - loss: 0.0018 - accuracy: 0.9993 - val_loss: 0.2206 - val_accuracy: 0.9769\n",
      "\n",
      "Epoch 00044: accuracy did not improve from 0.99910\n",
      "Epoch 45/50\n",
      "938/938 [==============================] - 2s 2ms/step - loss: 0.0016 - accuracy: 0.9994 - val_loss: 0.2298 - val_accuracy: 0.9771\n",
      "\n",
      "Epoch 00045: accuracy improved from 0.99910 to 0.99927, saving model to model_1/45_checkpoint_0.9993, loss=0.0021, val_acc=0.9771.hdf5\n",
      "Epoch 46/50\n",
      "938/938 [==============================] - 2s 2ms/step - loss: 0.0019 - accuracy: 0.9995 - val_loss: 0.2304 - val_accuracy: 0.9745\n",
      "\n",
      "Epoch 00046: accuracy did not improve from 0.99927\n",
      "Epoch 47/50\n",
      "938/938 [==============================] - 2s 2ms/step - loss: 0.0015 - accuracy: 0.9995 - val_loss: 0.2240 - val_accuracy: 0.9782\n",
      "\n",
      "Epoch 00047: accuracy improved from 0.99927 to 0.99933, saving model to model_1/47_checkpoint_0.9993, loss=0.0021, val_acc=0.9782.hdf5\n",
      "Epoch 48/50\n",
      "938/938 [==============================] - 2s 2ms/step - loss: 0.0013 - accuracy: 0.9995 - val_loss: 0.2331 - val_accuracy: 0.9779\n",
      "\n",
      "Epoch 00048: accuracy improved from 0.99933 to 0.99935, saving model to model_1/48_checkpoint_0.9994, loss=0.0018, val_acc=0.9779.hdf5\n",
      "Epoch 49/50\n",
      "938/938 [==============================] - 2s 2ms/step - loss: 0.0015 - accuracy: 0.9995 - val_loss: 0.2449 - val_accuracy: 0.9753\n",
      "\n",
      "Epoch 00049: accuracy improved from 0.99935 to 0.99937, saving model to model_1/49_checkpoint_0.9994, loss=0.0018, val_acc=0.9753.hdf5\n",
      "Epoch 50/50\n",
      "938/938 [==============================] - 2s 2ms/step - loss: 0.0018 - accuracy: 0.9994 - val_loss: 0.2331 - val_accuracy: 0.9775\n",
      "\n",
      "Epoch 00050: accuracy did not improve from 0.99937\n"
     ]
    }
   ],
   "source": [
    "# < YOUR CODE STARTS HERE >\n",
    "model = tf.keras.Sequential()\n",
    "model.add(tf.keras.layers.Dense(64, input_shape = x_train.shape, activation = 'relu'))\n",
    "model.add(tf.keras.layers.Dense(64, activation = 'relu'))\n",
    "model.add(tf.keras.layers.Dense(10))\n",
    "\n",
    "optimizer = tf.keras.optimizers.RMSprop()\n",
    "loss = tf.keras.losses.SparseCategoricalCrossentropy(from_logits=True)\n",
    "\n",
    "\n",
    "model.compile(optimizer=optimizer, loss=loss, metrics='accuracy')\n",
    "history = model.fit(x_train, y_train, validation_data=(x_test,y_test), epochs=50, verbose=1, batch_size=64, shuffle=True, callbacks =[checkpoint] )\n",
    "\n",
    "\n",
    "\n",
    "\n",
    "\n",
    "# < YOUR CODE ENDS HERE >"
   ]
  },
  {
   "cell_type": "code",
   "execution_count": 90,
   "metadata": {
    "colab": {
     "base_uri": "https://localhost:8080/"
    },
    "id": "6ufRs29BgELW",
    "outputId": "243ff321-3e90-49c0-e074-3d2b1af15d58"
   },
   "outputs": [
    {
     "name": "stdout",
     "output_type": "stream",
     "text": [
      "'01_checkpoint_0.9074, loss=0.3232, val_acc=0.9482.hdf5'\n",
      " 01_checkpoint_0.9095.hdf5\n",
      " 01_checkpoint_0.9103.hdf5\n",
      " 01_checkpoint_0.9112_0.3111.hdf5\n",
      " 01_checkpoint_0.9115_loss0.3129.hdf5\n",
      "'01_checkpoint_0.9125, loss=0.3101, val_acc=0.9504.hdf5'\n",
      " 01_checkpoint_0.9131.hdf5\n",
      "'02_checkpoint_0.9554, loss=0.1527, val_acc=0.9602.hdf5'\n",
      " 02_checkpoint_0.9561_0.1479.hdf5\n",
      "'02_checkpoint_0.9574, loss=0.1434, val_acc=0.9629.hdf5'\n",
      " 02_checkpoint_0.9575.hdf5\n",
      " 02_checkpoint_0.9586.hdf5\n",
      " 02_checkpoint_0.9592_loss0.1400.hdf5\n",
      " 03_checkpoint_0.9665_0.1098.hdf5\n",
      "'03_checkpoint_0.9665, loss=0.1132, val_acc=0.9673.hdf5'\n",
      " 03_checkpoint_0.9675.hdf5\n",
      "'03_checkpoint_0.9688, loss=0.1056, val_acc=0.9717.hdf5'\n",
      " 03_checkpoint_0.9694.hdf5\n",
      " 03_checkpoint_0.9694_loss0.1022.hdf5\n",
      "'04_checkpoint_0.9721, loss=0.0922, val_acc=0.9695.hdf5'\n",
      " 04_checkpoint_0.9736_0.0878.hdf5\n",
      " 04_checkpoint_0.9742.hdf5\n",
      "'04_checkpoint_0.9744, loss=0.0852, val_acc=0.9672.hdf5'\n",
      " 04_checkpoint_0.9754_loss0.0827.hdf5\n",
      " 04_checkpoint_0.9757.hdf5\n",
      "'05_checkpoint_0.9772, loss=0.0766, val_acc=0.9719.hdf5'\n",
      " 05_checkpoint_0.9774_0.0749.hdf5\n",
      " 05_checkpoint_0.9782_loss0.0706.hdf5\n",
      " 05_checkpoint_0.9789.hdf5\n",
      " 05_checkpoint_0.9790.hdf5\n",
      "'05_checkpoint_0.9791, loss=0.0714, val_acc=0.9742.hdf5'\n",
      "'06_checkpoint_0.9800, loss=0.0665, val_acc=0.9727.hdf5'\n",
      " 06_checkpoint_0.9803_0.0638.hdf5\n",
      "'06_checkpoint_0.9814, loss=0.0620, val_acc=0.9757.hdf5'\n",
      " 06_checkpoint_0.9818_loss0.0606.hdf5\n",
      " 06_checkpoint_0.9819.hdf5\n",
      "'07_checkpoint_0.9825, loss=0.0586, val_acc=0.9740.hdf5'\n",
      " 07_checkpoint_0.9836_loss0.0535.hdf5\n",
      " 07_checkpoint_0.9838_0.0556.hdf5\n",
      " 07_checkpoint_0.9840.hdf5\n",
      "'07_checkpoint_0.9840, loss=0.0532, val_acc=0.9753.hdf5'\n",
      " 07_checkpoint_0.9843.hdf5\n",
      " 08_checkpoint_0.9848_0.0501.hdf5\n",
      "'08_checkpoint_0.9848, loss=0.0508, val_acc=0.9759.hdf5'\n",
      " 08_checkpoint_0.9856_loss0.0471.hdf5\n",
      "'08_checkpoint_0.9858, loss=0.0471, val_acc=0.9747.hdf5'\n",
      " 08_checkpoint_0.9860.hdf5\n",
      " 08_checkpoint_0.9862.hdf5\n",
      "'09_checkpoint_0.9863, loss=0.0446, val_acc=0.9741.hdf5'\n",
      " 09_checkpoint_0.9865_0.0451.hdf5\n",
      "'09_checkpoint_0.9872, loss=0.0424, val_acc=0.9762.hdf5'\n",
      " 09_checkpoint_0.9873.hdf5\n",
      "'09_checkpoint_0.9874, loss=0.0406, val_acc=0.9753.hdf5'\n",
      " 09_checkpoint_0.9876_loss0.0423.hdf5\n",
      " 09_checkpoint_0.9879.hdf5\n",
      "'10_checkpoint_0.9874, loss=0.0410, val_acc=0.9732.hdf5'\n",
      " 10_checkpoint_0.9880_0.0400.hdf5\n",
      " 10_checkpoint_0.9883_loss0.0378.hdf5\n",
      " 10_checkpoint_0.9886.hdf5\n",
      " 10_checkpoint_0.9887.hdf5\n",
      "'10_checkpoint_0.9890, loss=0.0374, val_acc=0.9748.hdf5'\n",
      "'10_checkpoint_0.9893, loss=0.0359, val_acc=0.9745.hdf5'\n",
      " 11_checkpoint_0.9895_0.0355.hdf5\n",
      "'11_checkpoint_0.9898, loss=0.0323, val_acc=0.9742.hdf5'\n",
      " 11_checkpoint_0.9903.hdf5\n",
      " 12_checkpoint_0.9900_0.0322.hdf5\n",
      "'12_checkpoint_0.9909, loss=0.0293, val_acc=0.9766.hdf5'\n",
      " 12_checkpoint_0.9912.hdf5\n",
      " 13_checkpoint_0.9911_0.0303.hdf5\n",
      "'13_checkpoint_0.9922, loss=0.0261, val_acc=0.9739.hdf5'\n",
      " 13_checkpoint_0.9924.hdf5\n",
      " 14_checkpoint_0.9927.hdf5\n",
      "'14_checkpoint_0.9932, loss=0.0229, val_acc=0.9765.hdf5'\n",
      "'15_checkpoint_0.9935, loss=0.0215, val_acc=0.9749.hdf5'\n",
      " 15_checkpoint_0.9942.hdf5\n",
      " 16_checkpoint_0.9942.hdf5\n",
      "'16_checkpoint_0.9944, loss=0.0200, val_acc=0.9771.hdf5'\n",
      " 17_checkpoint_0.9944.hdf5\n",
      "'17_checkpoint_0.9947, loss=0.0174, val_acc=0.9734.hdf5'\n",
      " 18_checkpoint_0.9950.hdf5\n",
      "'18_checkpoint_0.9950, loss=0.0166, val_acc=0.9741.hdf5'\n",
      "'19_checkpoint_0.9952, loss=0.0146, val_acc=0.9748.hdf5'\n",
      " 19_checkpoint_0.9959.hdf5\n",
      "'20_checkpoint_0.9959, loss=0.0133, val_acc=0.9745.hdf5'\n",
      " 20_checkpoint_0.9962.hdf5\n",
      " 21_checkpoint_0.9966.hdf5\n",
      "'21_checkpoint_0.9966, loss=0.0125, val_acc=0.9761.hdf5'\n",
      "'22_checkpoint_0.9969, loss=0.0107, val_acc=0.9744.hdf5'\n",
      " 22_checkpoint_0.9970.hdf5\n",
      "'24_checkpoint_0.9972, loss=0.0090, val_acc=0.9745.hdf5'\n",
      " 24_checkpoint_0.9974.hdf5\n",
      "'25_checkpoint_0.9974, loss=0.0081, val_acc=0.9752.hdf5'\n",
      " 25_checkpoint_0.9976.hdf5\n",
      "'27_checkpoint_0.9974, loss=0.0079, val_acc=0.9732.hdf5'\n",
      " 27_checkpoint_0.9979.hdf5\n",
      " 28_checkpoint_0.9980.hdf5\n",
      "'28_checkpoint_0.9981, loss=0.0062, val_acc=0.9742.hdf5'\n",
      "'30_checkpoint_0.9982, loss=0.0060, val_acc=0.9742.hdf5'\n",
      " 30_checkpoint_0.9986.hdf5\n",
      "'32_checkpoint_0.9984, loss=0.0051, val_acc=0.9734.hdf5'\n",
      " 32_checkpoint_0.9986.hdf5\n",
      "'33_checkpoint_0.9985, loss=0.0050, val_acc=0.9736.hdf5'\n",
      " 33_checkpoint_0.9988.hdf5\n",
      "'35_checkpoint_0.9989, loss=0.0038, val_acc=0.9744.hdf5'\n",
      " 37_checkpoint_0.9990.hdf5\n",
      "'39_checkpoint_0.9990, loss=0.0034, val_acc=0.9743.hdf5'\n",
      " 39_checkpoint_0.9992.hdf5\n",
      "'41_checkpoint_0.9992, loss=0.0030, val_acc=0.9758.hdf5'\n",
      " 43_checkpoint_0.9993.hdf5\n",
      " 44_checkpoint_0.9994.hdf5\n",
      "'45_checkpoint_0.9993, loss=0.0023, val_acc=0.9750.hdf5'\n",
      " 47_checkpoint_0.9994.hdf5\n",
      "'48_checkpoint_0.9993, loss=0.0022, val_acc=0.9750.hdf5'\n",
      " 50_checkpoint_0.9995.hdf5\n",
      "'50_checkpoint_0.9996, loss=0.0016, val_acc=0.9758.hdf5'\n"
     ]
    }
   ],
   "source": [
    "! ls \"model_1/\""
   ]
  },
  {
   "cell_type": "code",
   "execution_count": 103,
   "metadata": {
    "colab": {
     "base_uri": "https://localhost:8080/"
    },
    "id": "iPntu18cW1CR",
    "outputId": "d2b83b60-8166-43e7-8d90-d56452fd7134"
   },
   "outputs": [
    {
     "name": "stdout",
     "output_type": "stream",
     "text": [
      "Training tests passed\n"
     ]
    }
   ],
   "source": [
    "assert len(list(path.glob(\"*\"))) != 0, f\"Checkpoint dir {path}\"\n",
    "assert \"accuracy\" in history.history, \"History object must contain Accuracy. Please, retrain with this metric\"\n",
    "assert \"val_accuracy\" in history.history, \"Please, provide validation_data in model.fit.\"\n",
    "# Для старой версии (tf.__version__ == 1.x) запустить aseert-ы ниже:\n",
    "# assert \"acc\" in history.history, \"History object must contain Accuracy. Please, retrain with this metric\"\n",
    "# assert \"val_acc\" in history.history, \"Please, provide validation_data in model.fit.\"\n",
    "assert np.max(history.history[\"val_accuracy\"]) > 0.95, \"Validation accuracy must be more than 0.95\"\n",
    "print(\"Training tests passed\")"
   ]
  },
  {
   "cell_type": "markdown",
   "metadata": {
    "id": "3F8zo0Milj4c"
   },
   "source": [
    "Давайте посмотрим на графики обучения:"
   ]
  },
  {
   "cell_type": "code",
   "execution_count": 104,
   "metadata": {
    "colab": {
     "base_uri": "https://localhost:8080/",
     "height": 369
    },
    "id": "nGOrpkkAX8o5",
    "outputId": "936b5d18-8540-44d9-fd08-a6a9cec92ccb"
   },
   "outputs": [
    {
     "data": {
      "image/png": "[encoded data removed]",
      "text/plain": [
       "<Figure size 720x360 with 2 Axes>"
      ]
     },
     "metadata": {
      "needs_background": "light",
      "tags": []
     },
     "output_type": "display_data"
    }
   ],
   "source": [
    "show_progress(history.history)"
   ]
  },
  {
   "cell_type": "markdown",
   "metadata": {
    "id": "QSbdpY-LlotG"
   },
   "source": [
    "А теперь перейдем к загрузке модели. Если все реализовано правильно, то код ниже должен сработать без ошибок:"
   ]
  },
  {
   "cell_type": "code",
   "execution_count": 109,
   "metadata": {
    "colab": {
     "base_uri": "https://localhost:8080/"
    },
    "id": "lUrOvNfPd5B5",
    "outputId": "6a8ddb81-fabc-4754-cf3e-a2d93a736170"
   },
   "outputs": [
    {
     "name": "stdout",
     "output_type": "stream",
     "text": [
      "WARNING:tensorflow:Model was constructed with shape (None, 60000, 784) for input KerasTensor(type_spec=TensorSpec(shape=(None, 60000, 784), dtype=tf.float32, name='dense_92_input'), name='dense_92_input', description=\"created by layer 'dense_92_input'\"), but it was called on an input with incompatible shape (None, 784).\n",
      "313/313 [==============================] - 0s 1ms/step - loss: 0.2660 - accuracy: 0.9758\n",
      "Accuracy of restored model 97.58%\n"
     ]
    }
   ],
   "source": [
    "restored_model = tf.keras.models.load_model(\"model_1/50_checkpoint_0.9996, loss=0.0016, val_acc=0.9758.hdf5\")\n",
    "loss, accuracy = restored_model.evaluate(x_test, y_test)\n",
    "print(f\"Accuracy of restored model {accuracy*100 :.2f}%\")\n",
    "assert accuracy > 0.96"
   ]
  },
  {
   "cell_type": "markdown",
   "metadata": {
    "id": "F7XFRliomD6b"
   },
   "source": [
    "И, наконец, можно сравнить предсказания с реальными классами (с такой точностью найти ошибку будет сложно):"
   ]
  },
  {
   "cell_type": "code",
   "execution_count": 110,
   "metadata": {
    "colab": {
     "base_uri": "https://localhost:8080/",
     "height": 665
    },
    "id": "aYXxV5tjY4Xx",
    "outputId": "68ab3892-23e9-468c-e21d-eac5aa9fccee"
   },
   "outputs": [
    {
     "name": "stdout",
     "output_type": "stream",
     "text": [
      "WARNING:tensorflow:Model was constructed with shape (None, 60000, 784) for input KerasTensor(type_spec=TensorSpec(shape=(None, 60000, 784), dtype=tf.float32, name='dense_92_input'), name='dense_92_input', description=\"created by layer 'dense_92_input'\"), but it was called on an input with incompatible shape (None, 784).\n"
     ]
    },
    {
     "name": "stderr",
     "output_type": "stream",
     "text": [
      "/usr/local/lib/python3.6/dist-packages/tensorflow/python/keras/engine/sequential.py:450: UserWarning: `model.predict_classes()` is deprecated and will be removed after 2021-01-01. Please use instead:* `np.argmax(model.predict(x), axis=-1)`,   if your model does multi-class classification   (e.g. if it uses a `softmax` last-layer activation).* `(model.predict(x) > 0.5).astype(\"int32\")`,   if your model does binary classification   (e.g. if it uses a `sigmoid` last-layer activation).\n",
      "  warnings.warn('`model.predict_classes()` is deprecated and '\n"
     ]
    },
    {
     "data": {
      "image/png": "[encoded data removed]",
      "text/plain": [
       "<Figure size 720x720 with 16 Axes>"
      ]
     },
     "metadata": {
      "tags": []
     },
     "output_type": "display_data"
    }
   ],
   "source": [
    "predicted_labels = restored_model.predict_classes(x_test)\n",
    "idxs = np.random.choice(np.arange(len(x_test)), 16, replace=False)\n",
    "show_mnist(x_test[idxs].reshape((-1, 28, 28)), y_test[idxs], predicted_labels[idxs])"
   ]
  }
 ],
 "metadata": {
  "colab": {
   "collapsed_sections": [],
   "name": "keras_homework.ipynb",
   "provenance": []
  },
  "kernelspec": {
   "display_name": "Python 3",
   "language": "python",
   "name": "python3"
  },
  "language_info": {
   "codemirror_mode": {
    "name": "ipython",
    "version": 3
   },
   "file_extension": ".py",
   "mimetype": "text/x-python",
   "name": "python",
   "nbconvert_exporter": "python",
   "pygments_lexer": "ipython3",
   "version": "3.7.8"
  }
 },
 "nbformat": 4,
 "nbformat_minor": 1
}
