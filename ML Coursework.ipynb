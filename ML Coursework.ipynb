{
 "cells": [
  {
   "cell_type": "code",
   "execution_count": 1300,
   "metadata": {},
   "outputs": [],
   "source": [
    "import numpy as np\n",
    "import pandas as pd\n",
    "import math\n",
    "import missingno as mso\n",
    "from datetime import datetime, timedelta\n",
    "from datetime import datetime\n",
    "from datetime import date\n",
    "import datetime as dt\n",
    "import matplotlib.pyplot as plt\n",
    "%matplotlib inline \n",
    "import seaborn as sns"
   ]
  },
  {
   "cell_type": "code",
   "execution_count": 1370,
   "metadata": {},
   "outputs": [],
   "source": [
    "df = pd.read_csv('telecom_users.csv')"
   ]
  },
  {
   "cell_type": "markdown",
   "metadata": {},
   "source": [
    "заменим категориальные значения"
   ]
  },
  {
   "cell_type": "code",
   "execution_count": 1371,
   "metadata": {},
   "outputs": [],
   "source": [
    "#заменим категориальные значения\n",
    "df = df.replace(['Yes','No'], [1,0])   \n",
    "df = df.replace(['Credit card (automatic)','Bank transfer (automatic)', 'Mailed check', 'Electronic check'], [0,1,2,3])\n",
    "df = df.replace('No phone service', 2)\n",
    "df = df.replace(['Fiber optic','DSL'], [1,2])\n",
    "df = df.replace(['Month-to-month','One year','Two year'], [0,1,2])\n",
    "df = df.replace(['Male','Female'], [1,0])\n",
    "df = df.replace('No internet service', 2)"
   ]
  },
  {
   "cell_type": "code",
   "execution_count": 1372,
   "metadata": {},
   "outputs": [],
   "source": [
    "# переводим TotalCharges в float\n",
    "df['TotalCharges'] = df['TotalCharges'].apply(pd.to_numeric, errors='coerce') \n"
   ]
  },
  {
   "cell_type": "code",
   "execution_count": 1373,
   "metadata": {},
   "outputs": [],
   "source": [
    "from sklearn.model_selection import cross_val_predict\n",
    "from sklearn.model_selection import StratifiedKFold\n",
    "from sklearn.model_selection import train_test_split\n",
    "from sklearn.metrics import roc_auc_score\n",
    "from sklearn.metrics import confusion_matrix, precision_score, recall_score\n",
    "from sklearn.neighbors import KNeighborsClassifier\n",
    "from sklearn.naive_bayes import GaussianNB\n",
    "from sklearn.tree import DecisionTreeClassifier\n",
    "from sklearn.linear_model import LogisticRegression\n",
    "from sklearn.linear_model import LinearRegression\n",
    "from sklearn.metrics import r2_score\n",
    "from sklearn.svm import SVC\n",
    "from xgboost import XGBClassifier\n",
    "from sklearn.model_selection import cross_val_score\n",
    "from sklearn.metrics import confusion_matrix\n",
    "from sklearn.metrics import plot_confusion_matrix,recall_score\n",
    "import xgboost as xgb   \n",
    "from sklearn.metrics import precision_score"
   ]
  },
  {
   "cell_type": "markdown",
   "metadata": {},
   "source": [
    "Разбиваем датасет на фичи и таргет"
   ]
  },
  {
   "cell_type": "code",
   "execution_count": 1374,
   "metadata": {},
   "outputs": [],
   "source": [
    "\n",
    "X4 = df.iloc[:,2:21].fillna(value = 2)  \n",
    "target = df['Churn'].values\n"
   ]
  },
  {
   "cell_type": "code",
   "execution_count": 1375,
   "metadata": {},
   "outputs": [
    {
     "data": {
      "text/plain": [
       "0.2651186100902105"
      ]
     },
     "execution_count": 1375,
     "metadata": {},
     "output_type": "execute_result"
    }
   ],
   "source": [
    "target.sum()/len(target)  # Датасет несбалансирован, 0 больше, чем 1"
   ]
  },
  {
   "cell_type": "markdown",
   "metadata": {},
   "source": [
    "формируем тренировочную и валидационную выборку"
   ]
  },
  {
   "cell_type": "code",
   "execution_count": 1376,
   "metadata": {},
   "outputs": [],
   "source": [
    "\n",
    "x_train2, x_test2, y_train2, y_test2 = train_test_split(X4, target, test_size=.3, stratify=target, random_state=17) "
   ]
  },
  {
   "cell_type": "code",
   "execution_count": 1377,
   "metadata": {
    "scrolled": true
   },
   "outputs": [
    {
     "data": {
      "text/html": [
       "<div>\n",
       "<style scoped>\n",
       "    .dataframe tbody tr th:only-of-type {\n",
       "        vertical-align: middle;\n",
       "    }\n",
       "\n",
       "    .dataframe tbody tr th {\n",
       "        vertical-align: top;\n",
       "    }\n",
       "\n",
       "    .dataframe thead th {\n",
       "        text-align: right;\n",
       "    }\n",
       "</style>\n",
       "<table border=\"1\" class=\"dataframe\">\n",
       "  <thead>\n",
       "    <tr style=\"text-align: right;\">\n",
       "      <th></th>\n",
       "      <th>gender</th>\n",
       "      <th>SeniorCitizen</th>\n",
       "      <th>Partner</th>\n",
       "      <th>Dependents</th>\n",
       "      <th>tenure</th>\n",
       "      <th>PhoneService</th>\n",
       "      <th>MultipleLines</th>\n",
       "      <th>InternetService</th>\n",
       "      <th>OnlineSecurity</th>\n",
       "      <th>OnlineBackup</th>\n",
       "      <th>DeviceProtection</th>\n",
       "      <th>TechSupport</th>\n",
       "      <th>StreamingTV</th>\n",
       "      <th>StreamingMovies</th>\n",
       "      <th>Contract</th>\n",
       "      <th>PaperlessBilling</th>\n",
       "      <th>PaymentMethod</th>\n",
       "      <th>MonthlyCharges</th>\n",
       "      <th>TotalCharges</th>\n",
       "    </tr>\n",
       "  </thead>\n",
       "  <tbody>\n",
       "    <tr>\n",
       "      <th>0</th>\n",
       "      <td>1</td>\n",
       "      <td>0</td>\n",
       "      <td>1</td>\n",
       "      <td>1</td>\n",
       "      <td>72</td>\n",
       "      <td>1</td>\n",
       "      <td>1</td>\n",
       "      <td>0</td>\n",
       "      <td>2</td>\n",
       "      <td>2</td>\n",
       "      <td>2</td>\n",
       "      <td>2</td>\n",
       "      <td>2</td>\n",
       "      <td>2</td>\n",
       "      <td>2</td>\n",
       "      <td>0</td>\n",
       "      <td>0</td>\n",
       "      <td>24.10</td>\n",
       "      <td>1734.65</td>\n",
       "    </tr>\n",
       "    <tr>\n",
       "      <th>1</th>\n",
       "      <td>0</td>\n",
       "      <td>0</td>\n",
       "      <td>0</td>\n",
       "      <td>0</td>\n",
       "      <td>44</td>\n",
       "      <td>1</td>\n",
       "      <td>0</td>\n",
       "      <td>1</td>\n",
       "      <td>0</td>\n",
       "      <td>1</td>\n",
       "      <td>1</td>\n",
       "      <td>0</td>\n",
       "      <td>1</td>\n",
       "      <td>0</td>\n",
       "      <td>0</td>\n",
       "      <td>1</td>\n",
       "      <td>0</td>\n",
       "      <td>88.15</td>\n",
       "      <td>3973.20</td>\n",
       "    </tr>\n",
       "    <tr>\n",
       "      <th>2</th>\n",
       "      <td>0</td>\n",
       "      <td>1</td>\n",
       "      <td>1</td>\n",
       "      <td>0</td>\n",
       "      <td>38</td>\n",
       "      <td>1</td>\n",
       "      <td>1</td>\n",
       "      <td>1</td>\n",
       "      <td>0</td>\n",
       "      <td>0</td>\n",
       "      <td>0</td>\n",
       "      <td>0</td>\n",
       "      <td>0</td>\n",
       "      <td>0</td>\n",
       "      <td>0</td>\n",
       "      <td>1</td>\n",
       "      <td>1</td>\n",
       "      <td>74.95</td>\n",
       "      <td>2869.85</td>\n",
       "    </tr>\n",
       "    <tr>\n",
       "      <th>3</th>\n",
       "      <td>1</td>\n",
       "      <td>0</td>\n",
       "      <td>0</td>\n",
       "      <td>0</td>\n",
       "      <td>4</td>\n",
       "      <td>1</td>\n",
       "      <td>0</td>\n",
       "      <td>2</td>\n",
       "      <td>0</td>\n",
       "      <td>0</td>\n",
       "      <td>0</td>\n",
       "      <td>0</td>\n",
       "      <td>0</td>\n",
       "      <td>1</td>\n",
       "      <td>0</td>\n",
       "      <td>1</td>\n",
       "      <td>3</td>\n",
       "      <td>55.90</td>\n",
       "      <td>238.50</td>\n",
       "    </tr>\n",
       "    <tr>\n",
       "      <th>4</th>\n",
       "      <td>1</td>\n",
       "      <td>0</td>\n",
       "      <td>0</td>\n",
       "      <td>0</td>\n",
       "      <td>2</td>\n",
       "      <td>1</td>\n",
       "      <td>0</td>\n",
       "      <td>2</td>\n",
       "      <td>1</td>\n",
       "      <td>0</td>\n",
       "      <td>1</td>\n",
       "      <td>0</td>\n",
       "      <td>0</td>\n",
       "      <td>0</td>\n",
       "      <td>0</td>\n",
       "      <td>0</td>\n",
       "      <td>3</td>\n",
       "      <td>53.45</td>\n",
       "      <td>119.50</td>\n",
       "    </tr>\n",
       "  </tbody>\n",
       "</table>\n",
       "</div>"
      ],
      "text/plain": [
       "   gender  SeniorCitizen  Partner  Dependents  tenure  PhoneService  \\\n",
       "0       1              0        1           1      72             1   \n",
       "1       0              0        0           0      44             1   \n",
       "2       0              1        1           0      38             1   \n",
       "3       1              0        0           0       4             1   \n",
       "4       1              0        0           0       2             1   \n",
       "\n",
       "   MultipleLines  InternetService  OnlineSecurity  OnlineBackup  \\\n",
       "0              1                0               2             2   \n",
       "1              0                1               0             1   \n",
       "2              1                1               0             0   \n",
       "3              0                2               0             0   \n",
       "4              0                2               1             0   \n",
       "\n",
       "   DeviceProtection  TechSupport  StreamingTV  StreamingMovies  Contract  \\\n",
       "0                 2            2            2                2         2   \n",
       "1                 1            0            1                0         0   \n",
       "2                 0            0            0                0         0   \n",
       "3                 0            0            0                1         0   \n",
       "4                 1            0            0                0         0   \n",
       "\n",
       "   PaperlessBilling  PaymentMethod  MonthlyCharges  TotalCharges  \n",
       "0                 0              0           24.10       1734.65  \n",
       "1                 1              0           88.15       3973.20  \n",
       "2                 1              1           74.95       2869.85  \n",
       "3                 1              3           55.90        238.50  \n",
       "4                 0              3           53.45        119.50  "
      ]
     },
     "execution_count": 1377,
     "metadata": {},
     "output_type": "execute_result"
    }
   ],
   "source": [
    "X4.head()"
   ]
  },
  {
   "cell_type": "markdown",
   "metadata": {},
   "source": [
    "Выбираем xgboost, логистическую регрессию, так как решаем задачу классификации."
   ]
  },
  {
   "cell_type": "code",
   "execution_count": 1378,
   "metadata": {
    "scrolled": true
   },
   "outputs": [
    {
     "name": "stdout",
     "output_type": "stream",
     "text": [
      "[0]\ttest-error:0.25167\ttrain-error:0.258711\n",
      "[1]\ttest-error:0.223831\ttrain-error:0.221002\n",
      "[2]\ttest-error:0.236637\ttrain-error:0.22506\n",
      "[3]\ttest-error:0.236637\ttrain-error:0.22506\n",
      "[4]\ttest-error:0.236637\ttrain-error:0.22506\n",
      "[5]\ttest-error:0.203229\ttrain-error:0.205012\n",
      "[6]\ttest-error:0.208797\ttrain-error:0.206921\n",
      "[7]\ttest-error:0.208241\ttrain-error:0.206921\n",
      "[8]\ttest-error:0.208797\ttrain-error:0.20716\n",
      "[9]\ttest-error:0.20657\ttrain-error:0.205967\n",
      "[10]\ttest-error:0.206013\ttrain-error:0.205728\n",
      "[11]\ttest-error:0.20657\ttrain-error:0.205967\n",
      "[12]\ttest-error:0.205457\ttrain-error:0.205967\n",
      "[13]\ttest-error:0.206013\ttrain-error:0.205967\n",
      "[14]\ttest-error:0.20657\ttrain-error:0.205728\n",
      "[15]\ttest-error:0.203229\ttrain-error:0.204296\n",
      "[16]\ttest-error:0.2049\ttrain-error:0.204773\n",
      "[17]\ttest-error:0.205457\ttrain-error:0.204057\n",
      "[18]\ttest-error:0.206013\ttrain-error:0.204773\n",
      "[19]\ttest-error:0.208241\ttrain-error:0.200239\n",
      "[20]\ttest-error:0.207684\ttrain-error:0.200239\n",
      "[21]\ttest-error:0.204343\ttrain-error:0.200955\n",
      "[22]\ttest-error:0.205457\ttrain-error:0.202625\n",
      "[23]\ttest-error:0.202673\ttrain-error:0.202148\n",
      "[24]\ttest-error:0.202673\ttrain-error:0.199761\n",
      "[25]\ttest-error:0.199889\ttrain-error:0.201909\n",
      "[26]\ttest-error:0.199889\ttrain-error:0.202148\n",
      "[27]\ttest-error:0.198218\ttrain-error:0.200239\n",
      "[28]\ttest-error:0.197661\ttrain-error:0.199761\n",
      "[29]\ttest-error:0.196548\ttrain-error:0.199761\n",
      "[30]\ttest-error:0.197661\ttrain-error:0.198568\n",
      "[31]\ttest-error:0.198218\ttrain-error:0.195465\n",
      "[32]\ttest-error:0.197105\ttrain-error:0.19642\n",
      "[33]\ttest-error:0.196548\ttrain-error:0.196181\n",
      "[34]\ttest-error:0.197661\ttrain-error:0.195943\n",
      "[35]\ttest-error:0.197661\ttrain-error:0.195465\n",
      "[36]\ttest-error:0.198775\ttrain-error:0.196181\n",
      "[37]\ttest-error:0.195434\ttrain-error:0.195227\n",
      "[38]\ttest-error:0.195434\ttrain-error:0.195227\n",
      "[39]\ttest-error:0.197105\ttrain-error:0.194511\n",
      "[40]\ttest-error:0.199889\ttrain-error:0.194272\n",
      "[41]\ttest-error:0.200445\ttrain-error:0.194511\n",
      "[42]\ttest-error:0.195991\ttrain-error:0.195227\n",
      "[43]\ttest-error:0.195991\ttrain-error:0.194749\n",
      "[44]\ttest-error:0.196548\ttrain-error:0.194511\n",
      "[45]\ttest-error:0.195991\ttrain-error:0.195227\n",
      "[46]\ttest-error:0.197105\ttrain-error:0.194749\n",
      "[47]\ttest-error:0.197105\ttrain-error:0.194988\n",
      "[48]\ttest-error:0.196548\ttrain-error:0.194749\n",
      "[49]\ttest-error:0.199332\ttrain-error:0.194749\n",
      "[50]\ttest-error:0.198775\ttrain-error:0.195227\n",
      "[51]\ttest-error:0.199332\ttrain-error:0.194272\n",
      "[52]\ttest-error:0.197105\ttrain-error:0.194988\n",
      "[53]\ttest-error:0.198218\ttrain-error:0.194749\n",
      "[54]\ttest-error:0.198775\ttrain-error:0.194272\n",
      "[55]\ttest-error:0.198775\ttrain-error:0.194272\n",
      "[56]\ttest-error:0.197105\ttrain-error:0.194749\n",
      "[57]\ttest-error:0.197105\ttrain-error:0.194749\n",
      "[58]\ttest-error:0.197105\ttrain-error:0.194988\n",
      "[59]\ttest-error:0.197105\ttrain-error:0.194749\n"
     ]
    }
   ],
   "source": [
    "\n",
    "dtrain2 = xgb.DMatrix(x_train2, y_train2)    \n",
    "dtest2 = xgb.DMatrix(x_test2, y_test2)\n",
    "\n",
    "params = {'objective': 'binary:logistic',\n",
    "          'max_depth': 2,\n",
    "          'eta': 0.14}\n",
    "\n",
    "num_rounds = 60\n",
    "\n",
    "\n",
    "evals = [(dtest2, 'test'), (dtrain2,'train')]\n",
    "xgb_model2 = xgb.train(params, dtrain2, num_rounds, evals)"
   ]
  },
  {
   "cell_type": "code",
   "execution_count": 1379,
   "metadata": {},
   "outputs": [
    {
     "data": {
      "text/plain": [
       "0.8534313725490197"
      ]
     },
     "execution_count": 1379,
     "metadata": {},
     "output_type": "execute_result"
    }
   ],
   "source": [
    "# xgboost предсказал 85% результатов правильно\n",
    "prediction2 = xgb_model2.predict(dtest2)   \n",
    "result2 = (prediction2 > 0.5).astype(int)\n",
    "\n",
    "roc_auc_score(y_test2, prediction2)"
   ]
  },
  {
   "cell_type": "code",
   "execution_count": 1380,
   "metadata": {
    "scrolled": true
   },
   "outputs": [
    {
     "data": {
      "text/plain": [
       "array([[1213,  107],\n",
       "       [ 247,  229]], dtype=int64)"
      ]
     },
     "execution_count": 1380,
     "metadata": {},
     "output_type": "execute_result"
    }
   ],
   "source": [
    "confusion_matrix(y_test2, result2)"
   ]
  },
  {
   "cell_type": "code",
   "execution_count": 1381,
   "metadata": {},
   "outputs": [
    {
     "data": {
      "text/plain": [
       "0.4810924369747899"
      ]
     },
     "execution_count": 1381,
     "metadata": {},
     "output_type": "execute_result"
    }
   ],
   "source": [
    "# однако xgboost плохо предсказал  отток, в данном случае нам намного важнее полнота, так как важнее знать именно тех, кто перестал пользоваться услугами\n",
    "recall_score(y_test2, result2 ) "
   ]
  },
  {
   "cell_type": "markdown",
   "metadata": {},
   "source": [
    "Находим самые важные фичи на основании того, как часто делалось разбиение по данному признаку"
   ]
  },
  {
   "cell_type": "code",
   "execution_count": 1382,
   "metadata": {
    "scrolled": true
   },
   "outputs": [
    {
     "data": {
      "text/plain": [
       "<matplotlib.axes._subplots.AxesSubplot at 0x196cf070c88>"
      ]
     },
     "execution_count": 1382,
     "metadata": {},
     "output_type": "execute_result"
    },
    {
     "data": {
      "image/png": "[encoded data removed]",
      "text/plain": [
       "<Figure size 432x288 with 1 Axes>"
      ]
     },
     "metadata": {
      "needs_background": "light"
     },
     "output_type": "display_data"
    }
   ],
   "source": [
    "\n",
    "xgb.plot_importance(xgb_model2) "
   ]
  },
  {
   "cell_type": "code",
   "execution_count": 1383,
   "metadata": {},
   "outputs": [
    {
     "data": {
      "text/plain": [
       "79.5"
      ]
     },
     "execution_count": 1383,
     "metadata": {},
     "output_type": "execute_result"
    }
   ],
   "source": [
    "df2 = df[['Churn','tenure','MonthlyCharges']]  \n",
    "df2[df2['Churn']==1]['MonthlyCharges'].median()\n"
   ]
  },
  {
   "cell_type": "code",
   "execution_count": 1384,
   "metadata": {},
   "outputs": [
    {
     "data": {
      "text/plain": [
       "median     64.750000\n",
       "mean       61.424506\n",
       "min        18.250000\n",
       "max       118.750000\n",
       "Name: MonthlyCharges, dtype: float64"
      ]
     },
     "execution_count": 1384,
     "metadata": {},
     "output_type": "execute_result"
    }
   ],
   "source": [
    "df2[df2['Churn']==0]['MonthlyCharges'].apply(['median','mean','min','max'])"
   ]
  },
  {
   "cell_type": "code",
   "execution_count": 1385,
   "metadata": {},
   "outputs": [
    {
     "data": {
      "text/plain": [
       "median     79.500000\n",
       "mean       74.164871\n",
       "min        18.850000\n",
       "max       118.350000\n",
       "Name: MonthlyCharges, dtype: float64"
      ]
     },
     "execution_count": 1385,
     "metadata": {},
     "output_type": "execute_result"
    }
   ],
   "source": [
    "df2[df2['Churn']==1]['MonthlyCharges'].apply(['median','mean','min','max'])\n",
    "# Видно, что средняя месячная плата выше у тех, кто отказался от услуг"
   ]
  },
  {
   "cell_type": "code",
   "execution_count": 1386,
   "metadata": {},
   "outputs": [
    {
     "data": {
      "text/plain": [
       "median    37.000000\n",
       "mean      37.599682\n",
       "min        0.000000\n",
       "max       72.000000\n",
       "Name: tenure, dtype: float64"
      ]
     },
     "execution_count": 1386,
     "metadata": {},
     "output_type": "execute_result"
    }
   ],
   "source": [
    "df2[df2['Churn']==0]['tenure'].apply(['median','mean','min','max'])"
   ]
  },
  {
   "cell_type": "code",
   "execution_count": 1387,
   "metadata": {},
   "outputs": [
    {
     "data": {
      "text/plain": [
       "median    10.000000\n",
       "mean      18.246377\n",
       "min        1.000000\n",
       "max       72.000000\n",
       "Name: tenure, dtype: float64"
      ]
     },
     "execution_count": 1387,
     "metadata": {},
     "output_type": "execute_result"
    }
   ],
   "source": [
    "df2[df2['Churn']==1]['tenure'].apply(['median','mean','min','max'])\n",
    "# Видно, что отток произошел среди относительно новых клиентов"
   ]
  },
  {
   "cell_type": "markdown",
   "metadata": {},
   "source": [
    "Попробуем использовать только самые важные фичи"
   ]
  },
  {
   "cell_type": "code",
   "execution_count": 1388,
   "metadata": {},
   "outputs": [],
   "source": [
    "\n",
    "X = df[['tenure','TotalCharges', 'MonthlyCharges','Contract']].fillna(value=0).values "
   ]
  },
  {
   "cell_type": "markdown",
   "metadata": {},
   "source": [
    "Разбиваем датаест на тренировочный и валидационный. Указываем stratify=y, чтобы сохранить долю классов"
   ]
  },
  {
   "cell_type": "code",
   "execution_count": 1389,
   "metadata": {},
   "outputs": [],
   "source": [
    "\n",
    "x_train, x_test, y_train, y_test =  train_test_split(X, target, test_size=0.25, stratify=target, random_state=17)  "
   ]
  },
  {
   "cell_type": "code",
   "execution_count": 1390,
   "metadata": {},
   "outputs": [],
   "source": [
    "xgb_model = xgb.train(params, dtrain, num_rounds)\n",
    " \n",
    "\n",
    "dtrain = xgb.DMatrix(x_train, y_train)\n",
    "dtest = xgb.DMatrix(x_test, y_test)\n",
    "\n",
    "params = {'objective': 'binary:logistic',\n",
    "          'max_depth':3,\n",
    "          'eta': 0.14}\n",
    "\n",
    "num_rounds = 70"
   ]
  },
  {
   "cell_type": "markdown",
   "metadata": {},
   "source": [
    "Получаем долю правильных предсказаний на xgboost"
   ]
  },
  {
   "cell_type": "code",
   "execution_count": 1391,
   "metadata": {},
   "outputs": [
    {
     "data": {
      "text/plain": [
       "0.8365651476986489"
      ]
     },
     "execution_count": 1391,
     "metadata": {},
     "output_type": "execute_result"
    }
   ],
   "source": [
    "\n",
    "prediction = xgb_model.predict(dtest)   \n",
    "result = (prediction > 0.5).astype(int)\n",
    "\n",
    "roc_auc_score(y_test, prediction)"
   ]
  },
  {
   "cell_type": "code",
   "execution_count": 1392,
   "metadata": {
    "scrolled": true
   },
   "outputs": [
    {
     "data": {
      "text/plain": [
       "0.6607142857142857"
      ]
     },
     "execution_count": 1392,
     "metadata": {},
     "output_type": "execute_result"
    }
   ],
   "source": [
    "precision_score(y_test, result) "
   ]
  },
  {
   "cell_type": "code",
   "execution_count": 1393,
   "metadata": {
    "scrolled": true
   },
   "outputs": [
    {
     "data": {
      "text/plain": [
       "0.4659949622166247"
      ]
     },
     "execution_count": 1393,
     "metadata": {},
     "output_type": "execute_result"
    }
   ],
   "source": [
    "# получаем полноту. Очень низкий, плохо предсказываем отток\n",
    "recall_score(y_test, result)   "
   ]
  },
  {
   "cell_type": "code",
   "execution_count": 1394,
   "metadata": {
    "scrolled": false
   },
   "outputs": [
    {
     "data": {
      "text/plain": [
       "array([[1005,   95],\n",
       "       [ 212,  185]], dtype=int64)"
      ]
     },
     "execution_count": 1394,
     "metadata": {},
     "output_type": "execute_result"
    }
   ],
   "source": [
    "# рисуем матрицу ошибок\n",
    "confusion_matrix(y_test, result) "
   ]
  },
  {
   "cell_type": "markdown",
   "metadata": {},
   "source": [
    "Посмотрим, как базовые алгориты, опирающиеся на основные фичи, выявленные с помощью xgboost предсказывают отток"
   ]
  },
  {
   "cell_type": "markdown",
   "metadata": {},
   "source": [
    "Так как мы решаем задачу классификации, выбираем соответствующие алгоритмы"
   ]
  },
  {
   "cell_type": "code",
   "execution_count": 1395,
   "metadata": {},
   "outputs": [
    {
     "data": {
      "text/plain": [
       "array([0, 1, 0, ..., 1, 1, 0], dtype=int64)"
      ]
     },
     "execution_count": 1395,
     "metadata": {},
     "output_type": "execute_result"
    }
   ],
   "source": [
    "\n",
    "knn = KNeighborsClassifier(n_neighbors=3) \n",
    "knn_model = knn.fit(x_train, y_train)\n",
    "knn_predictions = knn.predict(x_test)\n",
    "knn_predictions"
   ]
  },
  {
   "cell_type": "code",
   "execution_count": 1396,
   "metadata": {},
   "outputs": [
    {
     "data": {
      "text/plain": [
       "0.6629688573391344"
      ]
     },
     "execution_count": 1396,
     "metadata": {},
     "output_type": "execute_result"
    }
   ],
   "source": [
    "roc_auc_score(y_test, knn_predictions)"
   ]
  },
  {
   "cell_type": "code",
   "execution_count": 1397,
   "metadata": {},
   "outputs": [
    {
     "data": {
      "text/plain": [
       "0.48866498740554154"
      ]
     },
     "execution_count": 1397,
     "metadata": {},
     "output_type": "execute_result"
    }
   ],
   "source": [
    "recall_score(y_test, knn_predictions)"
   ]
  },
  {
   "cell_type": "code",
   "execution_count": 1398,
   "metadata": {},
   "outputs": [
    {
     "data": {
      "text/plain": [
       "0.7448229792919172"
      ]
     },
     "execution_count": 1398,
     "metadata": {},
     "output_type": "execute_result"
    }
   ],
   "source": [
    "accuracy_score(y_test, knn_predictions)"
   ]
  },
  {
   "cell_type": "code",
   "execution_count": 1399,
   "metadata": {},
   "outputs": [
    {
     "data": {
      "text/plain": [
       "array([0, 1, 0, ..., 0, 1, 0], dtype=int64)"
      ]
     },
     "execution_count": 1399,
     "metadata": {},
     "output_type": "execute_result"
    }
   ],
   "source": [
    "nb = GaussianNB()\n",
    "\n",
    "nb_model = nb.fit(x_train,y_train)\n",
    "\n",
    "nb_predictions = nb.predict(x_test)\n",
    "nb_predictions"
   ]
  },
  {
   "cell_type": "code",
   "execution_count": 1400,
   "metadata": {},
   "outputs": [
    {
     "data": {
      "text/plain": [
       "0.7858942065491183"
      ]
     },
     "execution_count": 1400,
     "metadata": {},
     "output_type": "execute_result"
    }
   ],
   "source": [
    "recall_score(y_test, nb_predictions) \n",
    "# Наивный Байесовский классификатор относительно хорошо предсказал переставших пользоваться услугами людей"
   ]
  },
  {
   "cell_type": "code",
   "execution_count": 1401,
   "metadata": {},
   "outputs": [
    {
     "data": {
      "text/plain": [
       "0.687374749498998"
      ]
     },
     "execution_count": 1401,
     "metadata": {},
     "output_type": "execute_result"
    }
   ],
   "source": [
    "nb.score(x_test,y_test)"
   ]
  },
  {
   "cell_type": "code",
   "execution_count": 1402,
   "metadata": {},
   "outputs": [
    {
     "data": {
      "text/plain": [
       "array([[717, 383],\n",
       "       [ 85, 312]], dtype=int64)"
      ]
     },
     "execution_count": 1402,
     "metadata": {},
     "output_type": "execute_result"
    }
   ],
   "source": [
    "confusion_matrix(y_test, nb_predictions)  "
   ]
  },
  {
   "cell_type": "code",
   "execution_count": 1403,
   "metadata": {},
   "outputs": [
    {
     "data": {
      "text/plain": [
       "0.8046759789329059"
      ]
     },
     "execution_count": 1403,
     "metadata": {},
     "output_type": "execute_result"
    }
   ],
   "source": [
    "roc_auc_score(y_test, nb.predict_proba(x_test)[:,1])"
   ]
  },
  {
   "cell_type": "code",
   "execution_count": 1404,
   "metadata": {},
   "outputs": [
    {
     "data": {
      "text/plain": [
       "array([0, 0, 0, ..., 0, 1, 0], dtype=int64)"
      ]
     },
     "execution_count": 1404,
     "metadata": {},
     "output_type": "execute_result"
    }
   ],
   "source": [
    "dtc = DecisionTreeClassifier()\n",
    "\n",
    "dtc_model = dtc.fit(x_train,y_train)\n",
    "\n",
    "dtc_predictions = dtc.predict(x_test)\n",
    "dtc_predictions"
   ]
  },
  {
   "cell_type": "code",
   "execution_count": 1405,
   "metadata": {},
   "outputs": [
    {
     "data": {
      "text/plain": [
       "0.5012594458438288"
      ]
     },
     "execution_count": 1405,
     "metadata": {},
     "output_type": "execute_result"
    }
   ],
   "source": [
    "recall_score(y_test, dtc_predictions)"
   ]
  },
  {
   "cell_type": "code",
   "execution_count": 1406,
   "metadata": {},
   "outputs": [
    {
     "data": {
      "text/plain": [
       "array([0, 0, 0, ..., 0, 1, 0], dtype=int64)"
      ]
     },
     "execution_count": 1406,
     "metadata": {},
     "output_type": "execute_result"
    }
   ],
   "source": [
    "lreg = LogisticRegression(random_state=17)\n",
    "\n",
    "lreg_model = lreg.fit(x_train,y_train)\n",
    "\n",
    "lreg_predictions = lreg.predict(x_test)\n",
    "lreg_predictions"
   ]
  },
  {
   "cell_type": "code",
   "execution_count": 1407,
   "metadata": {},
   "outputs": [
    {
     "data": {
      "text/plain": [
       "0.491183879093199"
      ]
     },
     "execution_count": 1407,
     "metadata": {},
     "output_type": "execute_result"
    }
   ],
   "source": [
    "recall_score(y_test, lreg_predictions)"
   ]
  },
  {
   "cell_type": "markdown",
   "metadata": {},
   "source": [
    "Пробуем улучшить предсказания с помощью стэкинга"
   ]
  },
  {
   "cell_type": "code",
   "execution_count": 1408,
   "metadata": {},
   "outputs": [],
   "source": [
    "\n",
    "def stacking(models, meta_alg, data_train, targets_train, data_test, targets_test, test_size=None, cv=5):  \n",
    "    if test_size is None:\n",
    "        \n",
    "    \n",
    "        meta_mtrx = np.empty((data_train.shape[0], len(models)))\n",
    "        \n",
    "        for n, model in enumerate(models):\n",
    "            \n",
    "            meta_mtrx[:, n] = cross_val_predict(model, data_train, targets_train, cv,  method='predict')\n",
    "            model.fit(data_train, targets_train)\n",
    "       \n",
    "        meta_model = meta.fit(meta_mtrx,targets_test)\n",
    "        \n",
    "        meta_mtrx_test = np.empty((x_test.shape[0], len(models))) \n",
    "        \n",
    "        for n, model in enumerate(models):\n",
    "            meta_mtrx_test[:, n] = model.predict(data_test)\n",
    "            \n",
    "        meta_predict = meta.predict(meta_mtrx_test)\n",
    "        \n",
    "        if targets_test is not None:\n",
    "            print(f'Stacking AUC: {roc_auc_score(y_test, meta_predict)}')\n",
    "            print(f'Recall_score: {recall_score(y_test, meta_predict)}')\n",
    "    \n",
    "    elif test_size > 0 and test_size < 1:\n",
    "        train, valid, train_true, valid_true = train_test_split(x_train, \n",
    "                                                        y_train,\n",
    "                                                        train_size=None,\n",
    "                                                        random_state=None)\n",
    "        meta_mtrx = np.empty((valid.shape[0], len(models)))\n",
    "        \n",
    "        \n",
    "        for n, model in enumerate(models):\n",
    "            model.fit(x_train,y_train)\n",
    "            meta_mtrx[:, n] = model.predict(valid)\n",
    "        \n",
    "        meta_model = meta.fit(meta_mtrx, valid_true)\n",
    "        \n",
    "        meta_mtrx_test = np.empty((x_test.shape[0], len(models))) \n",
    "        \n",
    "        for n, model in enumerate(models):\n",
    "            meta_mtrx_test[:, n] = model.predict(data_test)\n",
    "        \n",
    "        meta_predict = meta.predict(meta_mtrx_test)\n",
    "        \n",
    "        if targets_test is not None:\n",
    "            print(f'Stacking AUC: {roc_auc_score(y_test, meta_predict)}')\n",
    "            print(f'Recall_score: {recall_score(y_test, meta_predict)}')\n",
    "    \n",
    "    else:\n",
    "        raise ValueError(\"test_size must be between 0 and 1\")"
   ]
  },
  {
   "cell_type": "code",
   "execution_count": 1409,
   "metadata": {},
   "outputs": [],
   "source": [
    "models = [nb,dtc,knn,lreg]\n",
    "\n",
    "meta = XGBClassifier(n_estimators=60, max_iter = 1500)"
   ]
  },
  {
   "cell_type": "code",
   "execution_count": 1410,
   "metadata": {
    "scrolled": true
   },
   "outputs": [
    {
     "name": "stdout",
     "output_type": "stream",
     "text": [
      "Stacking AUC: 0.649578658117701\n",
      "Recall_score: 0.49370277078085645\n"
     ]
    }
   ],
   "source": [
    "# Stacking не дал хороших результатов\n",
    "stacking(models, meta, x_train, y_train, x_test, y_test, test_size = 0.3) "
   ]
  },
  {
   "cell_type": "code",
   "execution_count": 1411,
   "metadata": {},
   "outputs": [
    {
     "name": "stdout",
     "output_type": "stream",
     "text": [
      "Stacking AUC: 0.6446450652621938\n",
      "Recall_score: 0.4811083123425693\n"
     ]
    }
   ],
   "source": [
    "stacking(models1, meta, x_train, y_train, x_test, y_test, test_size = 0.3)"
   ]
  },
  {
   "cell_type": "code",
   "execution_count": 1412,
   "metadata": {},
   "outputs": [],
   "source": [
    "from sklearn.manifold import TSNE\n",
    "from sklearn.decomposition import TruncatedSVD\n"
   ]
  },
  {
   "cell_type": "markdown",
   "metadata": {},
   "source": [
    "Пробуем ужать данные, чтоб избавиться от выбросов и убрать линейно зависимые фичи."
   ]
  },
  {
   "cell_type": "code",
   "execution_count": 1413,
   "metadata": {
    "scrolled": true
   },
   "outputs": [
    {
     "data": {
      "image/png": "[encoded data removed]",
      "text/plain": [
       "<Figure size 432x288 with 1 Axes>"
      ]
     },
     "metadata": {
      "needs_background": "light"
     },
     "output_type": "display_data"
    }
   ],
   "source": [
    "\n",
    "svd_model = TruncatedSVD(n_components=2).fit(X4)   \n",
    "X_svd = svd_model.transform(X4)\n",
    "X_svd_restored = svd_model.inverse_transform(X_svd)\n",
    "plt.plot(X_svd_restored[:,0], X_svd_restored[:,1], 'x')\n",
    "plt.show()"
   ]
  },
  {
   "cell_type": "code",
   "execution_count": 1414,
   "metadata": {},
   "outputs": [],
   "source": [
    "def eval_model(input_x, input_y):\n",
    "    \"\"\"Обучаем и валидируем модель\"\"\"\n",
    "    X_train, X_test, y_train, y_test = train_test_split(\n",
    "        input_x, input_y, test_size=.3, stratify=target, random_state=42\n",
    "    )\n",
    "    clf = DecisionTreeClassifier(max_depth=3, random_state=42)\n",
    "    clf.fit(X_train, y_train)\n",
    "    preds = clf.predict_proba(X_test)\n",
    "    acc_score = accuracy_score(y_test, preds.argmax(axis=1))\n",
    "    roc_score = roc_auc_score(y_test, preds.argmax(axis=1))\n",
    "    rec_score = recall_score(y_test, preds.argmax(axis=1))\n",
    "    print('Accuracy: %.5f' % acc_score, 'roc_score: %.5f'% roc_score, 'rec_score:%.5f'% rec_score)"
   ]
  },
  {
   "cell_type": "code",
   "execution_count": 1415,
   "metadata": {},
   "outputs": [
    {
     "name": "stdout",
     "output_type": "stream",
     "text": [
      "Accuracy: 0.78675 roc_score: 0.64806 rec_score:0.35294\n"
     ]
    }
   ],
   "source": [
    "eval_model(X_svd, target)"
   ]
  },
  {
   "cell_type": "code",
   "execution_count": 1416,
   "metadata": {},
   "outputs": [
    {
     "data": {
      "image/png": "[encoded data removed]",
      "text/plain": [
       "<Figure size 432x288 with 1 Axes>"
      ]
     },
     "metadata": {
      "needs_background": "light"
     },
     "output_type": "display_data"
    }
   ],
   "source": [
    "svd_model1 = TruncatedSVD(n_components=2).fit(X)\n",
    "X_svd1 = svd_model1.transform(X)\n",
    "X_svd_restored1 = svd_model1.inverse_transform(X_svd1)\n",
    "plt.plot(X_svd_restored1[:,0], X_svd_restored1[:,1], 'x')\n",
    "plt.show()"
   ]
  },
  {
   "cell_type": "code",
   "execution_count": 1419,
   "metadata": {
    "scrolled": true
   },
   "outputs": [
    {
     "name": "stdout",
     "output_type": "stream",
     "text": [
      "Accuracy: 0.78675 roc_score: 0.64873 rec_score:0.35504\n"
     ]
    }
   ],
   "source": [
    "eval_model(X_svd1, target)"
   ]
  },
  {
   "cell_type": "markdown",
   "metadata": {},
   "source": [
    " Наилучший результат дал gboost, попробуем оптимизирвать алгоритм, используя на новом датасете."
   ]
  },
  {
   "cell_type": "code",
   "execution_count": 1418,
   "metadata": {},
   "outputs": [],
   "source": [
    "data = pd.read_csv('telecom_users.csv')"
   ]
  },
  {
   "cell_type": "code",
   "execution_count": 1420,
   "metadata": {},
   "outputs": [],
   "source": [
    "data.drop('customerID', axis=1, inplace=True)"
   ]
  },
  {
   "cell_type": "code",
   "execution_count": 1421,
   "metadata": {},
   "outputs": [
    {
     "data": {
      "text/html": [
       "<div>\n",
       "<style scoped>\n",
       "    .dataframe tbody tr th:only-of-type {\n",
       "        vertical-align: middle;\n",
       "    }\n",
       "\n",
       "    .dataframe tbody tr th {\n",
       "        vertical-align: top;\n",
       "    }\n",
       "\n",
       "    .dataframe thead th {\n",
       "        text-align: right;\n",
       "    }\n",
       "</style>\n",
       "<table border=\"1\" class=\"dataframe\">\n",
       "  <thead>\n",
       "    <tr style=\"text-align: right;\">\n",
       "      <th></th>\n",
       "      <th>Unnamed: 0</th>\n",
       "      <th>gender</th>\n",
       "      <th>SeniorCitizen</th>\n",
       "      <th>Partner</th>\n",
       "      <th>Dependents</th>\n",
       "      <th>tenure</th>\n",
       "      <th>PhoneService</th>\n",
       "      <th>MultipleLines</th>\n",
       "      <th>InternetService</th>\n",
       "      <th>OnlineSecurity</th>\n",
       "      <th>...</th>\n",
       "      <th>DeviceProtection</th>\n",
       "      <th>TechSupport</th>\n",
       "      <th>StreamingTV</th>\n",
       "      <th>StreamingMovies</th>\n",
       "      <th>Contract</th>\n",
       "      <th>PaperlessBilling</th>\n",
       "      <th>PaymentMethod</th>\n",
       "      <th>MonthlyCharges</th>\n",
       "      <th>TotalCharges</th>\n",
       "      <th>Churn</th>\n",
       "    </tr>\n",
       "  </thead>\n",
       "  <tbody>\n",
       "    <tr>\n",
       "      <th>0</th>\n",
       "      <td>1869</td>\n",
       "      <td>Male</td>\n",
       "      <td>0</td>\n",
       "      <td>Yes</td>\n",
       "      <td>Yes</td>\n",
       "      <td>72</td>\n",
       "      <td>Yes</td>\n",
       "      <td>Yes</td>\n",
       "      <td>No</td>\n",
       "      <td>No internet service</td>\n",
       "      <td>...</td>\n",
       "      <td>No internet service</td>\n",
       "      <td>No internet service</td>\n",
       "      <td>No internet service</td>\n",
       "      <td>No internet service</td>\n",
       "      <td>Two year</td>\n",
       "      <td>No</td>\n",
       "      <td>Credit card (automatic)</td>\n",
       "      <td>24.10</td>\n",
       "      <td>1734.65</td>\n",
       "      <td>No</td>\n",
       "    </tr>\n",
       "    <tr>\n",
       "      <th>1</th>\n",
       "      <td>4528</td>\n",
       "      <td>Female</td>\n",
       "      <td>0</td>\n",
       "      <td>No</td>\n",
       "      <td>No</td>\n",
       "      <td>44</td>\n",
       "      <td>Yes</td>\n",
       "      <td>No</td>\n",
       "      <td>Fiber optic</td>\n",
       "      <td>No</td>\n",
       "      <td>...</td>\n",
       "      <td>Yes</td>\n",
       "      <td>No</td>\n",
       "      <td>Yes</td>\n",
       "      <td>No</td>\n",
       "      <td>Month-to-month</td>\n",
       "      <td>Yes</td>\n",
       "      <td>Credit card (automatic)</td>\n",
       "      <td>88.15</td>\n",
       "      <td>3973.2</td>\n",
       "      <td>No</td>\n",
       "    </tr>\n",
       "    <tr>\n",
       "      <th>2</th>\n",
       "      <td>6344</td>\n",
       "      <td>Female</td>\n",
       "      <td>1</td>\n",
       "      <td>Yes</td>\n",
       "      <td>No</td>\n",
       "      <td>38</td>\n",
       "      <td>Yes</td>\n",
       "      <td>Yes</td>\n",
       "      <td>Fiber optic</td>\n",
       "      <td>No</td>\n",
       "      <td>...</td>\n",
       "      <td>No</td>\n",
       "      <td>No</td>\n",
       "      <td>No</td>\n",
       "      <td>No</td>\n",
       "      <td>Month-to-month</td>\n",
       "      <td>Yes</td>\n",
       "      <td>Bank transfer (automatic)</td>\n",
       "      <td>74.95</td>\n",
       "      <td>2869.85</td>\n",
       "      <td>Yes</td>\n",
       "    </tr>\n",
       "    <tr>\n",
       "      <th>3</th>\n",
       "      <td>6739</td>\n",
       "      <td>Male</td>\n",
       "      <td>0</td>\n",
       "      <td>No</td>\n",
       "      <td>No</td>\n",
       "      <td>4</td>\n",
       "      <td>Yes</td>\n",
       "      <td>No</td>\n",
       "      <td>DSL</td>\n",
       "      <td>No</td>\n",
       "      <td>...</td>\n",
       "      <td>No</td>\n",
       "      <td>No</td>\n",
       "      <td>No</td>\n",
       "      <td>Yes</td>\n",
       "      <td>Month-to-month</td>\n",
       "      <td>Yes</td>\n",
       "      <td>Electronic check</td>\n",
       "      <td>55.90</td>\n",
       "      <td>238.5</td>\n",
       "      <td>No</td>\n",
       "    </tr>\n",
       "    <tr>\n",
       "      <th>4</th>\n",
       "      <td>432</td>\n",
       "      <td>Male</td>\n",
       "      <td>0</td>\n",
       "      <td>No</td>\n",
       "      <td>No</td>\n",
       "      <td>2</td>\n",
       "      <td>Yes</td>\n",
       "      <td>No</td>\n",
       "      <td>DSL</td>\n",
       "      <td>Yes</td>\n",
       "      <td>...</td>\n",
       "      <td>Yes</td>\n",
       "      <td>No</td>\n",
       "      <td>No</td>\n",
       "      <td>No</td>\n",
       "      <td>Month-to-month</td>\n",
       "      <td>No</td>\n",
       "      <td>Electronic check</td>\n",
       "      <td>53.45</td>\n",
       "      <td>119.5</td>\n",
       "      <td>No</td>\n",
       "    </tr>\n",
       "  </tbody>\n",
       "</table>\n",
       "<p>5 rows × 21 columns</p>\n",
       "</div>"
      ],
      "text/plain": [
       "   Unnamed: 0  gender  SeniorCitizen Partner Dependents  tenure PhoneService  \\\n",
       "0        1869    Male              0     Yes        Yes      72          Yes   \n",
       "1        4528  Female              0      No         No      44          Yes   \n",
       "2        6344  Female              1     Yes         No      38          Yes   \n",
       "3        6739    Male              0      No         No       4          Yes   \n",
       "4         432    Male              0      No         No       2          Yes   \n",
       "\n",
       "  MultipleLines InternetService       OnlineSecurity  ...  \\\n",
       "0           Yes              No  No internet service  ...   \n",
       "1            No     Fiber optic                   No  ...   \n",
       "2           Yes     Fiber optic                   No  ...   \n",
       "3            No             DSL                   No  ...   \n",
       "4            No             DSL                  Yes  ...   \n",
       "\n",
       "      DeviceProtection          TechSupport          StreamingTV  \\\n",
       "0  No internet service  No internet service  No internet service   \n",
       "1                  Yes                   No                  Yes   \n",
       "2                   No                   No                   No   \n",
       "3                   No                   No                   No   \n",
       "4                  Yes                   No                   No   \n",
       "\n",
       "       StreamingMovies        Contract PaperlessBilling  \\\n",
       "0  No internet service        Two year               No   \n",
       "1                   No  Month-to-month              Yes   \n",
       "2                   No  Month-to-month              Yes   \n",
       "3                  Yes  Month-to-month              Yes   \n",
       "4                   No  Month-to-month               No   \n",
       "\n",
       "               PaymentMethod MonthlyCharges  TotalCharges Churn  \n",
       "0    Credit card (automatic)          24.10       1734.65    No  \n",
       "1    Credit card (automatic)          88.15        3973.2    No  \n",
       "2  Bank transfer (automatic)          74.95       2869.85   Yes  \n",
       "3           Electronic check          55.90         238.5    No  \n",
       "4           Electronic check          53.45         119.5    No  \n",
       "\n",
       "[5 rows x 21 columns]"
      ]
     },
     "execution_count": 1421,
     "metadata": {},
     "output_type": "execute_result"
    }
   ],
   "source": [
    "data.head()"
   ]
  },
  {
   "cell_type": "code",
   "execution_count": 1422,
   "metadata": {},
   "outputs": [
    {
     "data": {
      "text/plain": [
       "10"
      ]
     },
     "execution_count": 1422,
     "metadata": {},
     "output_type": "execute_result"
    }
   ],
   "source": [
    "len(data.loc[data['TotalCharges']==' '])"
   ]
  },
  {
   "cell_type": "code",
   "execution_count": 1423,
   "metadata": {},
   "outputs": [
    {
     "data": {
      "text/html": [
       "<div>\n",
       "<style scoped>\n",
       "    .dataframe tbody tr th:only-of-type {\n",
       "        vertical-align: middle;\n",
       "    }\n",
       "\n",
       "    .dataframe tbody tr th {\n",
       "        vertical-align: top;\n",
       "    }\n",
       "\n",
       "    .dataframe thead th {\n",
       "        text-align: right;\n",
       "    }\n",
       "</style>\n",
       "<table border=\"1\" class=\"dataframe\">\n",
       "  <thead>\n",
       "    <tr style=\"text-align: right;\">\n",
       "      <th></th>\n",
       "      <th>Unnamed: 0</th>\n",
       "      <th>gender</th>\n",
       "      <th>SeniorCitizen</th>\n",
       "      <th>Partner</th>\n",
       "      <th>Dependents</th>\n",
       "      <th>tenure</th>\n",
       "      <th>PhoneService</th>\n",
       "      <th>MultipleLines</th>\n",
       "      <th>InternetService</th>\n",
       "      <th>OnlineSecurity</th>\n",
       "      <th>...</th>\n",
       "      <th>DeviceProtection</th>\n",
       "      <th>TechSupport</th>\n",
       "      <th>StreamingTV</th>\n",
       "      <th>StreamingMovies</th>\n",
       "      <th>Contract</th>\n",
       "      <th>PaperlessBilling</th>\n",
       "      <th>PaymentMethod</th>\n",
       "      <th>MonthlyCharges</th>\n",
       "      <th>TotalCharges</th>\n",
       "      <th>Churn</th>\n",
       "    </tr>\n",
       "  </thead>\n",
       "  <tbody>\n",
       "    <tr>\n",
       "      <th>356</th>\n",
       "      <td>6754</td>\n",
       "      <td>Male</td>\n",
       "      <td>0</td>\n",
       "      <td>No</td>\n",
       "      <td>Yes</td>\n",
       "      <td>0</td>\n",
       "      <td>Yes</td>\n",
       "      <td>Yes</td>\n",
       "      <td>DSL</td>\n",
       "      <td>Yes</td>\n",
       "      <td>...</td>\n",
       "      <td>No</td>\n",
       "      <td>Yes</td>\n",
       "      <td>No</td>\n",
       "      <td>No</td>\n",
       "      <td>Two year</td>\n",
       "      <td>Yes</td>\n",
       "      <td>Bank transfer (automatic)</td>\n",
       "      <td>61.90</td>\n",
       "      <td></td>\n",
       "      <td>No</td>\n",
       "    </tr>\n",
       "    <tr>\n",
       "      <th>634</th>\n",
       "      <td>1340</td>\n",
       "      <td>Female</td>\n",
       "      <td>0</td>\n",
       "      <td>Yes</td>\n",
       "      <td>Yes</td>\n",
       "      <td>0</td>\n",
       "      <td>No</td>\n",
       "      <td>No phone service</td>\n",
       "      <td>DSL</td>\n",
       "      <td>Yes</td>\n",
       "      <td>...</td>\n",
       "      <td>Yes</td>\n",
       "      <td>Yes</td>\n",
       "      <td>Yes</td>\n",
       "      <td>No</td>\n",
       "      <td>Two year</td>\n",
       "      <td>No</td>\n",
       "      <td>Credit card (automatic)</td>\n",
       "      <td>56.05</td>\n",
       "      <td></td>\n",
       "      <td>No</td>\n",
       "    </tr>\n",
       "    <tr>\n",
       "      <th>2771</th>\n",
       "      <td>3826</td>\n",
       "      <td>Male</td>\n",
       "      <td>0</td>\n",
       "      <td>Yes</td>\n",
       "      <td>Yes</td>\n",
       "      <td>0</td>\n",
       "      <td>Yes</td>\n",
       "      <td>Yes</td>\n",
       "      <td>No</td>\n",
       "      <td>No internet service</td>\n",
       "      <td>...</td>\n",
       "      <td>No internet service</td>\n",
       "      <td>No internet service</td>\n",
       "      <td>No internet service</td>\n",
       "      <td>No internet service</td>\n",
       "      <td>Two year</td>\n",
       "      <td>No</td>\n",
       "      <td>Mailed check</td>\n",
       "      <td>25.35</td>\n",
       "      <td></td>\n",
       "      <td>No</td>\n",
       "    </tr>\n",
       "    <tr>\n",
       "      <th>3086</th>\n",
       "      <td>5218</td>\n",
       "      <td>Male</td>\n",
       "      <td>0</td>\n",
       "      <td>Yes</td>\n",
       "      <td>Yes</td>\n",
       "      <td>0</td>\n",
       "      <td>Yes</td>\n",
       "      <td>No</td>\n",
       "      <td>No</td>\n",
       "      <td>No internet service</td>\n",
       "      <td>...</td>\n",
       "      <td>No internet service</td>\n",
       "      <td>No internet service</td>\n",
       "      <td>No internet service</td>\n",
       "      <td>No internet service</td>\n",
       "      <td>One year</td>\n",
       "      <td>Yes</td>\n",
       "      <td>Mailed check</td>\n",
       "      <td>19.70</td>\n",
       "      <td></td>\n",
       "      <td>No</td>\n",
       "    </tr>\n",
       "    <tr>\n",
       "      <th>3255</th>\n",
       "      <td>3331</td>\n",
       "      <td>Male</td>\n",
       "      <td>0</td>\n",
       "      <td>Yes</td>\n",
       "      <td>Yes</td>\n",
       "      <td>0</td>\n",
       "      <td>Yes</td>\n",
       "      <td>No</td>\n",
       "      <td>No</td>\n",
       "      <td>No internet service</td>\n",
       "      <td>...</td>\n",
       "      <td>No internet service</td>\n",
       "      <td>No internet service</td>\n",
       "      <td>No internet service</td>\n",
       "      <td>No internet service</td>\n",
       "      <td>Two year</td>\n",
       "      <td>No</td>\n",
       "      <td>Mailed check</td>\n",
       "      <td>19.85</td>\n",
       "      <td></td>\n",
       "      <td>No</td>\n",
       "    </tr>\n",
       "    <tr>\n",
       "      <th>4326</th>\n",
       "      <td>936</td>\n",
       "      <td>Female</td>\n",
       "      <td>0</td>\n",
       "      <td>Yes</td>\n",
       "      <td>Yes</td>\n",
       "      <td>0</td>\n",
       "      <td>Yes</td>\n",
       "      <td>No</td>\n",
       "      <td>DSL</td>\n",
       "      <td>Yes</td>\n",
       "      <td>...</td>\n",
       "      <td>Yes</td>\n",
       "      <td>No</td>\n",
       "      <td>Yes</td>\n",
       "      <td>Yes</td>\n",
       "      <td>Two year</td>\n",
       "      <td>No</td>\n",
       "      <td>Mailed check</td>\n",
       "      <td>80.85</td>\n",
       "      <td></td>\n",
       "      <td>No</td>\n",
       "    </tr>\n",
       "    <tr>\n",
       "      <th>5375</th>\n",
       "      <td>753</td>\n",
       "      <td>Male</td>\n",
       "      <td>0</td>\n",
       "      <td>No</td>\n",
       "      <td>Yes</td>\n",
       "      <td>0</td>\n",
       "      <td>Yes</td>\n",
       "      <td>No</td>\n",
       "      <td>No</td>\n",
       "      <td>No internet service</td>\n",
       "      <td>...</td>\n",
       "      <td>No internet service</td>\n",
       "      <td>No internet service</td>\n",
       "      <td>No internet service</td>\n",
       "      <td>No internet service</td>\n",
       "      <td>Two year</td>\n",
       "      <td>No</td>\n",
       "      <td>Mailed check</td>\n",
       "      <td>20.25</td>\n",
       "      <td></td>\n",
       "      <td>No</td>\n",
       "    </tr>\n",
       "    <tr>\n",
       "      <th>5382</th>\n",
       "      <td>4380</td>\n",
       "      <td>Female</td>\n",
       "      <td>0</td>\n",
       "      <td>Yes</td>\n",
       "      <td>Yes</td>\n",
       "      <td>0</td>\n",
       "      <td>Yes</td>\n",
       "      <td>No</td>\n",
       "      <td>No</td>\n",
       "      <td>No internet service</td>\n",
       "      <td>...</td>\n",
       "      <td>No internet service</td>\n",
       "      <td>No internet service</td>\n",
       "      <td>No internet service</td>\n",
       "      <td>No internet service</td>\n",
       "      <td>Two year</td>\n",
       "      <td>No</td>\n",
       "      <td>Mailed check</td>\n",
       "      <td>20.00</td>\n",
       "      <td></td>\n",
       "      <td>No</td>\n",
       "    </tr>\n",
       "    <tr>\n",
       "      <th>5695</th>\n",
       "      <td>488</td>\n",
       "      <td>Female</td>\n",
       "      <td>0</td>\n",
       "      <td>Yes</td>\n",
       "      <td>Yes</td>\n",
       "      <td>0</td>\n",
       "      <td>No</td>\n",
       "      <td>No phone service</td>\n",
       "      <td>DSL</td>\n",
       "      <td>Yes</td>\n",
       "      <td>...</td>\n",
       "      <td>Yes</td>\n",
       "      <td>Yes</td>\n",
       "      <td>Yes</td>\n",
       "      <td>No</td>\n",
       "      <td>Two year</td>\n",
       "      <td>Yes</td>\n",
       "      <td>Bank transfer (automatic)</td>\n",
       "      <td>52.55</td>\n",
       "      <td></td>\n",
       "      <td>No</td>\n",
       "    </tr>\n",
       "    <tr>\n",
       "      <th>5951</th>\n",
       "      <td>1082</td>\n",
       "      <td>Male</td>\n",
       "      <td>0</td>\n",
       "      <td>Yes</td>\n",
       "      <td>Yes</td>\n",
       "      <td>0</td>\n",
       "      <td>Yes</td>\n",
       "      <td>Yes</td>\n",
       "      <td>No</td>\n",
       "      <td>No internet service</td>\n",
       "      <td>...</td>\n",
       "      <td>No internet service</td>\n",
       "      <td>No internet service</td>\n",
       "      <td>No internet service</td>\n",
       "      <td>No internet service</td>\n",
       "      <td>Two year</td>\n",
       "      <td>No</td>\n",
       "      <td>Mailed check</td>\n",
       "      <td>25.75</td>\n",
       "      <td></td>\n",
       "      <td>No</td>\n",
       "    </tr>\n",
       "  </tbody>\n",
       "</table>\n",
       "<p>10 rows × 21 columns</p>\n",
       "</div>"
      ],
      "text/plain": [
       "      Unnamed: 0  gender  SeniorCitizen Partner Dependents  tenure  \\\n",
       "356         6754    Male              0      No        Yes       0   \n",
       "634         1340  Female              0     Yes        Yes       0   \n",
       "2771        3826    Male              0     Yes        Yes       0   \n",
       "3086        5218    Male              0     Yes        Yes       0   \n",
       "3255        3331    Male              0     Yes        Yes       0   \n",
       "4326         936  Female              0     Yes        Yes       0   \n",
       "5375         753    Male              0      No        Yes       0   \n",
       "5382        4380  Female              0     Yes        Yes       0   \n",
       "5695         488  Female              0     Yes        Yes       0   \n",
       "5951        1082    Male              0     Yes        Yes       0   \n",
       "\n",
       "     PhoneService     MultipleLines InternetService       OnlineSecurity  ...  \\\n",
       "356           Yes               Yes             DSL                  Yes  ...   \n",
       "634            No  No phone service             DSL                  Yes  ...   \n",
       "2771          Yes               Yes              No  No internet service  ...   \n",
       "3086          Yes                No              No  No internet service  ...   \n",
       "3255          Yes                No              No  No internet service  ...   \n",
       "4326          Yes                No             DSL                  Yes  ...   \n",
       "5375          Yes                No              No  No internet service  ...   \n",
       "5382          Yes                No              No  No internet service  ...   \n",
       "5695           No  No phone service             DSL                  Yes  ...   \n",
       "5951          Yes               Yes              No  No internet service  ...   \n",
       "\n",
       "         DeviceProtection          TechSupport          StreamingTV  \\\n",
       "356                    No                  Yes                   No   \n",
       "634                   Yes                  Yes                  Yes   \n",
       "2771  No internet service  No internet service  No internet service   \n",
       "3086  No internet service  No internet service  No internet service   \n",
       "3255  No internet service  No internet service  No internet service   \n",
       "4326                  Yes                   No                  Yes   \n",
       "5375  No internet service  No internet service  No internet service   \n",
       "5382  No internet service  No internet service  No internet service   \n",
       "5695                  Yes                  Yes                  Yes   \n",
       "5951  No internet service  No internet service  No internet service   \n",
       "\n",
       "          StreamingMovies  Contract PaperlessBilling  \\\n",
       "356                    No  Two year              Yes   \n",
       "634                    No  Two year               No   \n",
       "2771  No internet service  Two year               No   \n",
       "3086  No internet service  One year              Yes   \n",
       "3255  No internet service  Two year               No   \n",
       "4326                  Yes  Two year               No   \n",
       "5375  No internet service  Two year               No   \n",
       "5382  No internet service  Two year               No   \n",
       "5695                   No  Two year              Yes   \n",
       "5951  No internet service  Two year               No   \n",
       "\n",
       "                  PaymentMethod MonthlyCharges  TotalCharges Churn  \n",
       "356   Bank transfer (automatic)          61.90                  No  \n",
       "634     Credit card (automatic)          56.05                  No  \n",
       "2771               Mailed check          25.35                  No  \n",
       "3086               Mailed check          19.70                  No  \n",
       "3255               Mailed check          19.85                  No  \n",
       "4326               Mailed check          80.85                  No  \n",
       "5375               Mailed check          20.25                  No  \n",
       "5382               Mailed check          20.00                  No  \n",
       "5695  Bank transfer (automatic)          52.55                  No  \n",
       "5951               Mailed check          25.75                  No  \n",
       "\n",
       "[10 rows x 21 columns]"
      ]
     },
     "execution_count": 1423,
     "metadata": {},
     "output_type": "execute_result"
    }
   ],
   "source": [
    "data.loc[data['TotalCharges']==' '] #клиенты только оформили услуги, с них еще не взяли плату, можно заменить TotalCharges на 0"
   ]
  },
  {
   "cell_type": "code",
   "execution_count": 1424,
   "metadata": {},
   "outputs": [],
   "source": [
    "data.loc[(data['TotalCharges']==' '), 'TotalCharges'] = 0  "
   ]
  },
  {
   "cell_type": "code",
   "execution_count": 1425,
   "metadata": {
    "scrolled": true
   },
   "outputs": [
    {
     "data": {
      "text/html": [
       "<div>\n",
       "<style scoped>\n",
       "    .dataframe tbody tr th:only-of-type {\n",
       "        vertical-align: middle;\n",
       "    }\n",
       "\n",
       "    .dataframe tbody tr th {\n",
       "        vertical-align: top;\n",
       "    }\n",
       "\n",
       "    .dataframe thead th {\n",
       "        text-align: right;\n",
       "    }\n",
       "</style>\n",
       "<table border=\"1\" class=\"dataframe\">\n",
       "  <thead>\n",
       "    <tr style=\"text-align: right;\">\n",
       "      <th></th>\n",
       "      <th>Unnamed: 0</th>\n",
       "      <th>gender</th>\n",
       "      <th>SeniorCitizen</th>\n",
       "      <th>Partner</th>\n",
       "      <th>Dependents</th>\n",
       "      <th>tenure</th>\n",
       "      <th>PhoneService</th>\n",
       "      <th>MultipleLines</th>\n",
       "      <th>InternetService</th>\n",
       "      <th>OnlineSecurity</th>\n",
       "      <th>...</th>\n",
       "      <th>DeviceProtection</th>\n",
       "      <th>TechSupport</th>\n",
       "      <th>StreamingTV</th>\n",
       "      <th>StreamingMovies</th>\n",
       "      <th>Contract</th>\n",
       "      <th>PaperlessBilling</th>\n",
       "      <th>PaymentMethod</th>\n",
       "      <th>MonthlyCharges</th>\n",
       "      <th>TotalCharges</th>\n",
       "      <th>Churn</th>\n",
       "    </tr>\n",
       "  </thead>\n",
       "  <tbody>\n",
       "    <tr>\n",
       "      <th>356</th>\n",
       "      <td>6754</td>\n",
       "      <td>Male</td>\n",
       "      <td>0</td>\n",
       "      <td>No</td>\n",
       "      <td>Yes</td>\n",
       "      <td>0</td>\n",
       "      <td>Yes</td>\n",
       "      <td>Yes</td>\n",
       "      <td>DSL</td>\n",
       "      <td>Yes</td>\n",
       "      <td>...</td>\n",
       "      <td>No</td>\n",
       "      <td>Yes</td>\n",
       "      <td>No</td>\n",
       "      <td>No</td>\n",
       "      <td>Two year</td>\n",
       "      <td>Yes</td>\n",
       "      <td>Bank transfer (automatic)</td>\n",
       "      <td>61.90</td>\n",
       "      <td>0</td>\n",
       "      <td>No</td>\n",
       "    </tr>\n",
       "    <tr>\n",
       "      <th>634</th>\n",
       "      <td>1340</td>\n",
       "      <td>Female</td>\n",
       "      <td>0</td>\n",
       "      <td>Yes</td>\n",
       "      <td>Yes</td>\n",
       "      <td>0</td>\n",
       "      <td>No</td>\n",
       "      <td>No phone service</td>\n",
       "      <td>DSL</td>\n",
       "      <td>Yes</td>\n",
       "      <td>...</td>\n",
       "      <td>Yes</td>\n",
       "      <td>Yes</td>\n",
       "      <td>Yes</td>\n",
       "      <td>No</td>\n",
       "      <td>Two year</td>\n",
       "      <td>No</td>\n",
       "      <td>Credit card (automatic)</td>\n",
       "      <td>56.05</td>\n",
       "      <td>0</td>\n",
       "      <td>No</td>\n",
       "    </tr>\n",
       "    <tr>\n",
       "      <th>2771</th>\n",
       "      <td>3826</td>\n",
       "      <td>Male</td>\n",
       "      <td>0</td>\n",
       "      <td>Yes</td>\n",
       "      <td>Yes</td>\n",
       "      <td>0</td>\n",
       "      <td>Yes</td>\n",
       "      <td>Yes</td>\n",
       "      <td>No</td>\n",
       "      <td>No internet service</td>\n",
       "      <td>...</td>\n",
       "      <td>No internet service</td>\n",
       "      <td>No internet service</td>\n",
       "      <td>No internet service</td>\n",
       "      <td>No internet service</td>\n",
       "      <td>Two year</td>\n",
       "      <td>No</td>\n",
       "      <td>Mailed check</td>\n",
       "      <td>25.35</td>\n",
       "      <td>0</td>\n",
       "      <td>No</td>\n",
       "    </tr>\n",
       "    <tr>\n",
       "      <th>3086</th>\n",
       "      <td>5218</td>\n",
       "      <td>Male</td>\n",
       "      <td>0</td>\n",
       "      <td>Yes</td>\n",
       "      <td>Yes</td>\n",
       "      <td>0</td>\n",
       "      <td>Yes</td>\n",
       "      <td>No</td>\n",
       "      <td>No</td>\n",
       "      <td>No internet service</td>\n",
       "      <td>...</td>\n",
       "      <td>No internet service</td>\n",
       "      <td>No internet service</td>\n",
       "      <td>No internet service</td>\n",
       "      <td>No internet service</td>\n",
       "      <td>One year</td>\n",
       "      <td>Yes</td>\n",
       "      <td>Mailed check</td>\n",
       "      <td>19.70</td>\n",
       "      <td>0</td>\n",
       "      <td>No</td>\n",
       "    </tr>\n",
       "    <tr>\n",
       "      <th>3255</th>\n",
       "      <td>3331</td>\n",
       "      <td>Male</td>\n",
       "      <td>0</td>\n",
       "      <td>Yes</td>\n",
       "      <td>Yes</td>\n",
       "      <td>0</td>\n",
       "      <td>Yes</td>\n",
       "      <td>No</td>\n",
       "      <td>No</td>\n",
       "      <td>No internet service</td>\n",
       "      <td>...</td>\n",
       "      <td>No internet service</td>\n",
       "      <td>No internet service</td>\n",
       "      <td>No internet service</td>\n",
       "      <td>No internet service</td>\n",
       "      <td>Two year</td>\n",
       "      <td>No</td>\n",
       "      <td>Mailed check</td>\n",
       "      <td>19.85</td>\n",
       "      <td>0</td>\n",
       "      <td>No</td>\n",
       "    </tr>\n",
       "    <tr>\n",
       "      <th>4326</th>\n",
       "      <td>936</td>\n",
       "      <td>Female</td>\n",
       "      <td>0</td>\n",
       "      <td>Yes</td>\n",
       "      <td>Yes</td>\n",
       "      <td>0</td>\n",
       "      <td>Yes</td>\n",
       "      <td>No</td>\n",
       "      <td>DSL</td>\n",
       "      <td>Yes</td>\n",
       "      <td>...</td>\n",
       "      <td>Yes</td>\n",
       "      <td>No</td>\n",
       "      <td>Yes</td>\n",
       "      <td>Yes</td>\n",
       "      <td>Two year</td>\n",
       "      <td>No</td>\n",
       "      <td>Mailed check</td>\n",
       "      <td>80.85</td>\n",
       "      <td>0</td>\n",
       "      <td>No</td>\n",
       "    </tr>\n",
       "    <tr>\n",
       "      <th>5375</th>\n",
       "      <td>753</td>\n",
       "      <td>Male</td>\n",
       "      <td>0</td>\n",
       "      <td>No</td>\n",
       "      <td>Yes</td>\n",
       "      <td>0</td>\n",
       "      <td>Yes</td>\n",
       "      <td>No</td>\n",
       "      <td>No</td>\n",
       "      <td>No internet service</td>\n",
       "      <td>...</td>\n",
       "      <td>No internet service</td>\n",
       "      <td>No internet service</td>\n",
       "      <td>No internet service</td>\n",
       "      <td>No internet service</td>\n",
       "      <td>Two year</td>\n",
       "      <td>No</td>\n",
       "      <td>Mailed check</td>\n",
       "      <td>20.25</td>\n",
       "      <td>0</td>\n",
       "      <td>No</td>\n",
       "    </tr>\n",
       "    <tr>\n",
       "      <th>5382</th>\n",
       "      <td>4380</td>\n",
       "      <td>Female</td>\n",
       "      <td>0</td>\n",
       "      <td>Yes</td>\n",
       "      <td>Yes</td>\n",
       "      <td>0</td>\n",
       "      <td>Yes</td>\n",
       "      <td>No</td>\n",
       "      <td>No</td>\n",
       "      <td>No internet service</td>\n",
       "      <td>...</td>\n",
       "      <td>No internet service</td>\n",
       "      <td>No internet service</td>\n",
       "      <td>No internet service</td>\n",
       "      <td>No internet service</td>\n",
       "      <td>Two year</td>\n",
       "      <td>No</td>\n",
       "      <td>Mailed check</td>\n",
       "      <td>20.00</td>\n",
       "      <td>0</td>\n",
       "      <td>No</td>\n",
       "    </tr>\n",
       "    <tr>\n",
       "      <th>5695</th>\n",
       "      <td>488</td>\n",
       "      <td>Female</td>\n",
       "      <td>0</td>\n",
       "      <td>Yes</td>\n",
       "      <td>Yes</td>\n",
       "      <td>0</td>\n",
       "      <td>No</td>\n",
       "      <td>No phone service</td>\n",
       "      <td>DSL</td>\n",
       "      <td>Yes</td>\n",
       "      <td>...</td>\n",
       "      <td>Yes</td>\n",
       "      <td>Yes</td>\n",
       "      <td>Yes</td>\n",
       "      <td>No</td>\n",
       "      <td>Two year</td>\n",
       "      <td>Yes</td>\n",
       "      <td>Bank transfer (automatic)</td>\n",
       "      <td>52.55</td>\n",
       "      <td>0</td>\n",
       "      <td>No</td>\n",
       "    </tr>\n",
       "    <tr>\n",
       "      <th>5951</th>\n",
       "      <td>1082</td>\n",
       "      <td>Male</td>\n",
       "      <td>0</td>\n",
       "      <td>Yes</td>\n",
       "      <td>Yes</td>\n",
       "      <td>0</td>\n",
       "      <td>Yes</td>\n",
       "      <td>Yes</td>\n",
       "      <td>No</td>\n",
       "      <td>No internet service</td>\n",
       "      <td>...</td>\n",
       "      <td>No internet service</td>\n",
       "      <td>No internet service</td>\n",
       "      <td>No internet service</td>\n",
       "      <td>No internet service</td>\n",
       "      <td>Two year</td>\n",
       "      <td>No</td>\n",
       "      <td>Mailed check</td>\n",
       "      <td>25.75</td>\n",
       "      <td>0</td>\n",
       "      <td>No</td>\n",
       "    </tr>\n",
       "  </tbody>\n",
       "</table>\n",
       "<p>10 rows × 21 columns</p>\n",
       "</div>"
      ],
      "text/plain": [
       "      Unnamed: 0  gender  SeniorCitizen Partner Dependents  tenure  \\\n",
       "356         6754    Male              0      No        Yes       0   \n",
       "634         1340  Female              0     Yes        Yes       0   \n",
       "2771        3826    Male              0     Yes        Yes       0   \n",
       "3086        5218    Male              0     Yes        Yes       0   \n",
       "3255        3331    Male              0     Yes        Yes       0   \n",
       "4326         936  Female              0     Yes        Yes       0   \n",
       "5375         753    Male              0      No        Yes       0   \n",
       "5382        4380  Female              0     Yes        Yes       0   \n",
       "5695         488  Female              0     Yes        Yes       0   \n",
       "5951        1082    Male              0     Yes        Yes       0   \n",
       "\n",
       "     PhoneService     MultipleLines InternetService       OnlineSecurity  ...  \\\n",
       "356           Yes               Yes             DSL                  Yes  ...   \n",
       "634            No  No phone service             DSL                  Yes  ...   \n",
       "2771          Yes               Yes              No  No internet service  ...   \n",
       "3086          Yes                No              No  No internet service  ...   \n",
       "3255          Yes                No              No  No internet service  ...   \n",
       "4326          Yes                No             DSL                  Yes  ...   \n",
       "5375          Yes                No              No  No internet service  ...   \n",
       "5382          Yes                No              No  No internet service  ...   \n",
       "5695           No  No phone service             DSL                  Yes  ...   \n",
       "5951          Yes               Yes              No  No internet service  ...   \n",
       "\n",
       "         DeviceProtection          TechSupport          StreamingTV  \\\n",
       "356                    No                  Yes                   No   \n",
       "634                   Yes                  Yes                  Yes   \n",
       "2771  No internet service  No internet service  No internet service   \n",
       "3086  No internet service  No internet service  No internet service   \n",
       "3255  No internet service  No internet service  No internet service   \n",
       "4326                  Yes                   No                  Yes   \n",
       "5375  No internet service  No internet service  No internet service   \n",
       "5382  No internet service  No internet service  No internet service   \n",
       "5695                  Yes                  Yes                  Yes   \n",
       "5951  No internet service  No internet service  No internet service   \n",
       "\n",
       "          StreamingMovies  Contract PaperlessBilling  \\\n",
       "356                    No  Two year              Yes   \n",
       "634                    No  Two year               No   \n",
       "2771  No internet service  Two year               No   \n",
       "3086  No internet service  One year              Yes   \n",
       "3255  No internet service  Two year               No   \n",
       "4326                  Yes  Two year               No   \n",
       "5375  No internet service  Two year               No   \n",
       "5382  No internet service  Two year               No   \n",
       "5695                   No  Two year              Yes   \n",
       "5951  No internet service  Two year               No   \n",
       "\n",
       "                  PaymentMethod MonthlyCharges  TotalCharges Churn  \n",
       "356   Bank transfer (automatic)          61.90             0    No  \n",
       "634     Credit card (automatic)          56.05             0    No  \n",
       "2771               Mailed check          25.35             0    No  \n",
       "3086               Mailed check          19.70             0    No  \n",
       "3255               Mailed check          19.85             0    No  \n",
       "4326               Mailed check          80.85             0    No  \n",
       "5375               Mailed check          20.25             0    No  \n",
       "5382               Mailed check          20.00             0    No  \n",
       "5695  Bank transfer (automatic)          52.55             0    No  \n",
       "5951               Mailed check          25.75             0    No  \n",
       "\n",
       "[10 rows x 21 columns]"
      ]
     },
     "execution_count": 1425,
     "metadata": {},
     "output_type": "execute_result"
    }
   ],
   "source": [
    "data.loc[data['tenure']==0]"
   ]
  },
  {
   "cell_type": "code",
   "execution_count": 1426,
   "metadata": {},
   "outputs": [],
   "source": [
    "data['TotalCharges'] = pd.to_numeric(data['TotalCharges']) # Переводим TotalCharges в float"
   ]
  },
  {
   "cell_type": "code",
   "execution_count": 1427,
   "metadata": {
    "scrolled": true
   },
   "outputs": [
    {
     "data": {
      "text/html": [
       "<div>\n",
       "<style scoped>\n",
       "    .dataframe tbody tr th:only-of-type {\n",
       "        vertical-align: middle;\n",
       "    }\n",
       "\n",
       "    .dataframe tbody tr th {\n",
       "        vertical-align: top;\n",
       "    }\n",
       "\n",
       "    .dataframe thead th {\n",
       "        text-align: right;\n",
       "    }\n",
       "</style>\n",
       "<table border=\"1\" class=\"dataframe\">\n",
       "  <thead>\n",
       "    <tr style=\"text-align: right;\">\n",
       "      <th></th>\n",
       "      <th>Unnamed: 0</th>\n",
       "      <th>gender</th>\n",
       "      <th>SeniorCitizen</th>\n",
       "      <th>Partner</th>\n",
       "      <th>Dependents</th>\n",
       "      <th>tenure</th>\n",
       "      <th>PhoneService</th>\n",
       "      <th>MultipleLines</th>\n",
       "      <th>InternetService</th>\n",
       "      <th>OnlineSecurity</th>\n",
       "      <th>OnlineBackup</th>\n",
       "      <th>DeviceProtection</th>\n",
       "      <th>TechSupport</th>\n",
       "      <th>StreamingTV</th>\n",
       "      <th>StreamingMovies</th>\n",
       "      <th>Contract</th>\n",
       "      <th>PaperlessBilling</th>\n",
       "      <th>PaymentMethod</th>\n",
       "      <th>MonthlyCharges</th>\n",
       "      <th>TotalCharges</th>\n",
       "    </tr>\n",
       "  </thead>\n",
       "  <tbody>\n",
       "    <tr>\n",
       "      <th>0</th>\n",
       "      <td>1869</td>\n",
       "      <td>Male</td>\n",
       "      <td>0</td>\n",
       "      <td>Yes</td>\n",
       "      <td>Yes</td>\n",
       "      <td>72</td>\n",
       "      <td>Yes</td>\n",
       "      <td>Yes</td>\n",
       "      <td>No</td>\n",
       "      <td>No internet service</td>\n",
       "      <td>No internet service</td>\n",
       "      <td>No internet service</td>\n",
       "      <td>No internet service</td>\n",
       "      <td>No internet service</td>\n",
       "      <td>No internet service</td>\n",
       "      <td>Two year</td>\n",
       "      <td>No</td>\n",
       "      <td>Credit card (automatic)</td>\n",
       "      <td>24.10</td>\n",
       "      <td>1734.65</td>\n",
       "    </tr>\n",
       "    <tr>\n",
       "      <th>1</th>\n",
       "      <td>4528</td>\n",
       "      <td>Female</td>\n",
       "      <td>0</td>\n",
       "      <td>No</td>\n",
       "      <td>No</td>\n",
       "      <td>44</td>\n",
       "      <td>Yes</td>\n",
       "      <td>No</td>\n",
       "      <td>Fiber optic</td>\n",
       "      <td>No</td>\n",
       "      <td>Yes</td>\n",
       "      <td>Yes</td>\n",
       "      <td>No</td>\n",
       "      <td>Yes</td>\n",
       "      <td>No</td>\n",
       "      <td>Month-to-month</td>\n",
       "      <td>Yes</td>\n",
       "      <td>Credit card (automatic)</td>\n",
       "      <td>88.15</td>\n",
       "      <td>3973.20</td>\n",
       "    </tr>\n",
       "    <tr>\n",
       "      <th>2</th>\n",
       "      <td>6344</td>\n",
       "      <td>Female</td>\n",
       "      <td>1</td>\n",
       "      <td>Yes</td>\n",
       "      <td>No</td>\n",
       "      <td>38</td>\n",
       "      <td>Yes</td>\n",
       "      <td>Yes</td>\n",
       "      <td>Fiber optic</td>\n",
       "      <td>No</td>\n",
       "      <td>No</td>\n",
       "      <td>No</td>\n",
       "      <td>No</td>\n",
       "      <td>No</td>\n",
       "      <td>No</td>\n",
       "      <td>Month-to-month</td>\n",
       "      <td>Yes</td>\n",
       "      <td>Bank transfer (automatic)</td>\n",
       "      <td>74.95</td>\n",
       "      <td>2869.85</td>\n",
       "    </tr>\n",
       "    <tr>\n",
       "      <th>3</th>\n",
       "      <td>6739</td>\n",
       "      <td>Male</td>\n",
       "      <td>0</td>\n",
       "      <td>No</td>\n",
       "      <td>No</td>\n",
       "      <td>4</td>\n",
       "      <td>Yes</td>\n",
       "      <td>No</td>\n",
       "      <td>DSL</td>\n",
       "      <td>No</td>\n",
       "      <td>No</td>\n",
       "      <td>No</td>\n",
       "      <td>No</td>\n",
       "      <td>No</td>\n",
       "      <td>Yes</td>\n",
       "      <td>Month-to-month</td>\n",
       "      <td>Yes</td>\n",
       "      <td>Electronic check</td>\n",
       "      <td>55.90</td>\n",
       "      <td>238.50</td>\n",
       "    </tr>\n",
       "    <tr>\n",
       "      <th>4</th>\n",
       "      <td>432</td>\n",
       "      <td>Male</td>\n",
       "      <td>0</td>\n",
       "      <td>No</td>\n",
       "      <td>No</td>\n",
       "      <td>2</td>\n",
       "      <td>Yes</td>\n",
       "      <td>No</td>\n",
       "      <td>DSL</td>\n",
       "      <td>Yes</td>\n",
       "      <td>No</td>\n",
       "      <td>Yes</td>\n",
       "      <td>No</td>\n",
       "      <td>No</td>\n",
       "      <td>No</td>\n",
       "      <td>Month-to-month</td>\n",
       "      <td>No</td>\n",
       "      <td>Electronic check</td>\n",
       "      <td>53.45</td>\n",
       "      <td>119.50</td>\n",
       "    </tr>\n",
       "  </tbody>\n",
       "</table>\n",
       "</div>"
      ],
      "text/plain": [
       "   Unnamed: 0  gender  SeniorCitizen Partner Dependents  tenure PhoneService  \\\n",
       "0        1869    Male              0     Yes        Yes      72          Yes   \n",
       "1        4528  Female              0      No         No      44          Yes   \n",
       "2        6344  Female              1     Yes         No      38          Yes   \n",
       "3        6739    Male              0      No         No       4          Yes   \n",
       "4         432    Male              0      No         No       2          Yes   \n",
       "\n",
       "  MultipleLines InternetService       OnlineSecurity         OnlineBackup  \\\n",
       "0           Yes              No  No internet service  No internet service   \n",
       "1            No     Fiber optic                   No                  Yes   \n",
       "2           Yes     Fiber optic                   No                   No   \n",
       "3            No             DSL                   No                   No   \n",
       "4            No             DSL                  Yes                   No   \n",
       "\n",
       "      DeviceProtection          TechSupport          StreamingTV  \\\n",
       "0  No internet service  No internet service  No internet service   \n",
       "1                  Yes                   No                  Yes   \n",
       "2                   No                   No                   No   \n",
       "3                   No                   No                   No   \n",
       "4                  Yes                   No                   No   \n",
       "\n",
       "       StreamingMovies        Contract PaperlessBilling  \\\n",
       "0  No internet service        Two year               No   \n",
       "1                   No  Month-to-month              Yes   \n",
       "2                   No  Month-to-month              Yes   \n",
       "3                  Yes  Month-to-month              Yes   \n",
       "4                   No  Month-to-month               No   \n",
       "\n",
       "               PaymentMethod  MonthlyCharges  TotalCharges  \n",
       "0    Credit card (automatic)           24.10       1734.65  \n",
       "1    Credit card (automatic)           88.15       3973.20  \n",
       "2  Bank transfer (automatic)           74.95       2869.85  \n",
       "3           Electronic check           55.90        238.50  \n",
       "4           Electronic check           53.45        119.50  "
      ]
     },
     "execution_count": 1427,
     "metadata": {},
     "output_type": "execute_result"
    }
   ],
   "source": [
    "X5 = data.drop('Churn', axis=1).copy() # Формируем фичи\n",
    "X5.head()"
   ]
  },
  {
   "cell_type": "code",
   "execution_count": 1428,
   "metadata": {},
   "outputs": [
    {
     "data": {
      "text/plain": [
       "0    0\n",
       "1    0\n",
       "2    1\n",
       "3    0\n",
       "4    0\n",
       "Name: Churn, dtype: int64"
      ]
     },
     "execution_count": 1428,
     "metadata": {},
     "output_type": "execute_result"
    }
   ],
   "source": [
    "y = data['Churn'].copy() # формируем таргет\n",
    "y = y.replace(['Yes','No'], [1,0])# нужно заменить на 0 и 1\n",
    "y.head()"
   ]
  },
  {
   "cell_type": "markdown",
   "metadata": {},
   "source": [
    "кодируем категорийные данные, используя One-Hot encoding. Так как, если мы кодируем категорийные данные вручную, \n",
    "например Electronic check, Mailed check, Bank transfer (automatic), Credit card (automatic) как [1,2,3,4],\n",
    "то классификатор будет определять 1 более похожим на 2, чем, например, 1 на 4, что может сказаться на качестве."
   ]
  },
  {
   "cell_type": "code",
   "execution_count": 1429,
   "metadata": {
    "scrolled": true
   },
   "outputs": [
    {
     "data": {
      "text/html": [
       "<div>\n",
       "<style scoped>\n",
       "    .dataframe tbody tr th:only-of-type {\n",
       "        vertical-align: middle;\n",
       "    }\n",
       "\n",
       "    .dataframe tbody tr th {\n",
       "        vertical-align: top;\n",
       "    }\n",
       "\n",
       "    .dataframe thead th {\n",
       "        text-align: right;\n",
       "    }\n",
       "</style>\n",
       "<table border=\"1\" class=\"dataframe\">\n",
       "  <thead>\n",
       "    <tr style=\"text-align: right;\">\n",
       "      <th></th>\n",
       "      <th>Unnamed: 0</th>\n",
       "      <th>SeniorCitizen</th>\n",
       "      <th>tenure</th>\n",
       "      <th>MonthlyCharges</th>\n",
       "      <th>TotalCharges</th>\n",
       "      <th>gender_Female</th>\n",
       "      <th>gender_Male</th>\n",
       "      <th>Partner_No</th>\n",
       "      <th>Partner_Yes</th>\n",
       "      <th>Dependents_No</th>\n",
       "      <th>...</th>\n",
       "      <th>StreamingMovies_Yes</th>\n",
       "      <th>Contract_Month-to-month</th>\n",
       "      <th>Contract_One year</th>\n",
       "      <th>Contract_Two year</th>\n",
       "      <th>PaperlessBilling_No</th>\n",
       "      <th>PaperlessBilling_Yes</th>\n",
       "      <th>PaymentMethod_Bank transfer (automatic)</th>\n",
       "      <th>PaymentMethod_Credit card (automatic)</th>\n",
       "      <th>PaymentMethod_Electronic check</th>\n",
       "      <th>PaymentMethod_Mailed check</th>\n",
       "    </tr>\n",
       "  </thead>\n",
       "  <tbody>\n",
       "    <tr>\n",
       "      <th>0</th>\n",
       "      <td>1869</td>\n",
       "      <td>0</td>\n",
       "      <td>72</td>\n",
       "      <td>24.10</td>\n",
       "      <td>1734.65</td>\n",
       "      <td>0</td>\n",
       "      <td>1</td>\n",
       "      <td>0</td>\n",
       "      <td>1</td>\n",
       "      <td>0</td>\n",
       "      <td>...</td>\n",
       "      <td>0</td>\n",
       "      <td>0</td>\n",
       "      <td>0</td>\n",
       "      <td>1</td>\n",
       "      <td>1</td>\n",
       "      <td>0</td>\n",
       "      <td>0</td>\n",
       "      <td>1</td>\n",
       "      <td>0</td>\n",
       "      <td>0</td>\n",
       "    </tr>\n",
       "    <tr>\n",
       "      <th>1</th>\n",
       "      <td>4528</td>\n",
       "      <td>0</td>\n",
       "      <td>44</td>\n",
       "      <td>88.15</td>\n",
       "      <td>3973.20</td>\n",
       "      <td>1</td>\n",
       "      <td>0</td>\n",
       "      <td>1</td>\n",
       "      <td>0</td>\n",
       "      <td>1</td>\n",
       "      <td>...</td>\n",
       "      <td>0</td>\n",
       "      <td>1</td>\n",
       "      <td>0</td>\n",
       "      <td>0</td>\n",
       "      <td>0</td>\n",
       "      <td>1</td>\n",
       "      <td>0</td>\n",
       "      <td>1</td>\n",
       "      <td>0</td>\n",
       "      <td>0</td>\n",
       "    </tr>\n",
       "    <tr>\n",
       "      <th>2</th>\n",
       "      <td>6344</td>\n",
       "      <td>1</td>\n",
       "      <td>38</td>\n",
       "      <td>74.95</td>\n",
       "      <td>2869.85</td>\n",
       "      <td>1</td>\n",
       "      <td>0</td>\n",
       "      <td>0</td>\n",
       "      <td>1</td>\n",
       "      <td>1</td>\n",
       "      <td>...</td>\n",
       "      <td>0</td>\n",
       "      <td>1</td>\n",
       "      <td>0</td>\n",
       "      <td>0</td>\n",
       "      <td>0</td>\n",
       "      <td>1</td>\n",
       "      <td>1</td>\n",
       "      <td>0</td>\n",
       "      <td>0</td>\n",
       "      <td>0</td>\n",
       "    </tr>\n",
       "    <tr>\n",
       "      <th>3</th>\n",
       "      <td>6739</td>\n",
       "      <td>0</td>\n",
       "      <td>4</td>\n",
       "      <td>55.90</td>\n",
       "      <td>238.50</td>\n",
       "      <td>0</td>\n",
       "      <td>1</td>\n",
       "      <td>1</td>\n",
       "      <td>0</td>\n",
       "      <td>1</td>\n",
       "      <td>...</td>\n",
       "      <td>1</td>\n",
       "      <td>1</td>\n",
       "      <td>0</td>\n",
       "      <td>0</td>\n",
       "      <td>0</td>\n",
       "      <td>1</td>\n",
       "      <td>0</td>\n",
       "      <td>0</td>\n",
       "      <td>1</td>\n",
       "      <td>0</td>\n",
       "    </tr>\n",
       "    <tr>\n",
       "      <th>4</th>\n",
       "      <td>432</td>\n",
       "      <td>0</td>\n",
       "      <td>2</td>\n",
       "      <td>53.45</td>\n",
       "      <td>119.50</td>\n",
       "      <td>0</td>\n",
       "      <td>1</td>\n",
       "      <td>1</td>\n",
       "      <td>0</td>\n",
       "      <td>1</td>\n",
       "      <td>...</td>\n",
       "      <td>0</td>\n",
       "      <td>1</td>\n",
       "      <td>0</td>\n",
       "      <td>0</td>\n",
       "      <td>1</td>\n",
       "      <td>0</td>\n",
       "      <td>0</td>\n",
       "      <td>0</td>\n",
       "      <td>1</td>\n",
       "      <td>0</td>\n",
       "    </tr>\n",
       "  </tbody>\n",
       "</table>\n",
       "<p>5 rows × 46 columns</p>\n",
       "</div>"
      ],
      "text/plain": [
       "   Unnamed: 0  SeniorCitizen  tenure  MonthlyCharges  TotalCharges  \\\n",
       "0        1869              0      72           24.10       1734.65   \n",
       "1        4528              0      44           88.15       3973.20   \n",
       "2        6344              1      38           74.95       2869.85   \n",
       "3        6739              0       4           55.90        238.50   \n",
       "4         432              0       2           53.45        119.50   \n",
       "\n",
       "   gender_Female  gender_Male  Partner_No  Partner_Yes  Dependents_No  ...  \\\n",
       "0              0            1           0            1              0  ...   \n",
       "1              1            0           1            0              1  ...   \n",
       "2              1            0           0            1              1  ...   \n",
       "3              0            1           1            0              1  ...   \n",
       "4              0            1           1            0              1  ...   \n",
       "\n",
       "   StreamingMovies_Yes  Contract_Month-to-month  Contract_One year  \\\n",
       "0                    0                        0                  0   \n",
       "1                    0                        1                  0   \n",
       "2                    0                        1                  0   \n",
       "3                    1                        1                  0   \n",
       "4                    0                        1                  0   \n",
       "\n",
       "   Contract_Two year  PaperlessBilling_No  PaperlessBilling_Yes  \\\n",
       "0                  1                    1                     0   \n",
       "1                  0                    0                     1   \n",
       "2                  0                    0                     1   \n",
       "3                  0                    0                     1   \n",
       "4                  0                    1                     0   \n",
       "\n",
       "   PaymentMethod_Bank transfer (automatic)  \\\n",
       "0                                        0   \n",
       "1                                        0   \n",
       "2                                        1   \n",
       "3                                        0   \n",
       "4                                        0   \n",
       "\n",
       "   PaymentMethod_Credit card (automatic)  PaymentMethod_Electronic check  \\\n",
       "0                                      1                               0   \n",
       "1                                      1                               0   \n",
       "2                                      0                               0   \n",
       "3                                      0                               1   \n",
       "4                                      0                               1   \n",
       "\n",
       "   PaymentMethod_Mailed check  \n",
       "0                           0  \n",
       "1                           0  \n",
       "2                           0  \n",
       "3                           0  \n",
       "4                           0  \n",
       "\n",
       "[5 rows x 46 columns]"
      ]
     },
     "execution_count": 1429,
     "metadata": {},
     "output_type": "execute_result"
    }
   ],
   "source": [
    "\n",
    "X_encoded = pd.get_dummies(X5, columns = ['gender',   \n",
    "                                        'Partner',\n",
    "                                        'Dependents',\n",
    "                                        'PhoneService',\n",
    "                                        'MultipleLines',\n",
    "                                        'InternetService',\n",
    "                                        'OnlineSecurity',\n",
    "                                        'OnlineBackup',\n",
    "                                        'DeviceProtection',\n",
    "                                        'TechSupport',\n",
    "                                        'StreamingTV',\n",
    "                                        'StreamingMovies',\n",
    "                                        'Contract',\n",
    "                                        'PaperlessBilling',\n",
    "                                        'PaymentMethod',\n",
    "                                        ])\n",
    "X_encoded.head()"
   ]
  },
  {
   "cell_type": "code",
   "execution_count": 1430,
   "metadata": {},
   "outputs": [],
   "source": [
    "x_train5, x_test5, y_train5, y_test5 =  train_test_split(X_encoded, y,  stratify=y, random_state=42) #указываем stratify=y, чтобы сохранить долю классов"
   ]
  },
  {
   "cell_type": "markdown",
   "metadata": {},
   "source": [
    "Выбираем логистическую регрессию, т.к решаем задачу классификации"
   ]
  },
  {
   "cell_type": "code",
   "execution_count": 1431,
   "metadata": {
    "scrolled": false
   },
   "outputs": [
    {
     "name": "stdout",
     "output_type": "stream",
     "text": [
      "[0]\tvalidation_0-aucpr:0.529472\n",
      "Will train until validation_0-aucpr hasn't improved in 10 rounds.\n",
      "[1]\tvalidation_0-aucpr:0.585019\n",
      "[2]\tvalidation_0-aucpr:0.597952\n",
      "[3]\tvalidation_0-aucpr:0.603345\n",
      "[4]\tvalidation_0-aucpr:0.608032\n",
      "[5]\tvalidation_0-aucpr:0.609826\n",
      "[6]\tvalidation_0-aucpr:0.614797\n",
      "[7]\tvalidation_0-aucpr:0.617059\n",
      "[8]\tvalidation_0-aucpr:0.638326\n",
      "[9]\tvalidation_0-aucpr:0.637694\n",
      "[10]\tvalidation_0-aucpr:0.6418\n",
      "[11]\tvalidation_0-aucpr:0.640931\n",
      "[12]\tvalidation_0-aucpr:0.641474\n",
      "[13]\tvalidation_0-aucpr:0.64308\n",
      "[14]\tvalidation_0-aucpr:0.642871\n",
      "[15]\tvalidation_0-aucpr:0.648897\n",
      "[16]\tvalidation_0-aucpr:0.650264\n",
      "[17]\tvalidation_0-aucpr:0.650801\n",
      "[18]\tvalidation_0-aucpr:0.652839\n",
      "[19]\tvalidation_0-aucpr:0.653409\n",
      "[20]\tvalidation_0-aucpr:0.654043\n",
      "[21]\tvalidation_0-aucpr:0.652892\n",
      "[22]\tvalidation_0-aucpr:0.654761\n",
      "[23]\tvalidation_0-aucpr:0.656208\n",
      "[24]\tvalidation_0-aucpr:0.652975\n",
      "[25]\tvalidation_0-aucpr:0.653451\n",
      "[26]\tvalidation_0-aucpr:0.653727\n",
      "[27]\tvalidation_0-aucpr:0.654582\n",
      "[28]\tvalidation_0-aucpr:0.654886\n",
      "[29]\tvalidation_0-aucpr:0.655434\n",
      "[30]\tvalidation_0-aucpr:0.656888\n",
      "[31]\tvalidation_0-aucpr:0.658397\n",
      "[32]\tvalidation_0-aucpr:0.658049\n",
      "[33]\tvalidation_0-aucpr:0.657459\n",
      "[34]\tvalidation_0-aucpr:0.655754\n",
      "[35]\tvalidation_0-aucpr:0.654585\n",
      "[36]\tvalidation_0-aucpr:0.654521\n",
      "[37]\tvalidation_0-aucpr:0.653776\n",
      "[38]\tvalidation_0-aucpr:0.653767\n",
      "[39]\tvalidation_0-aucpr:0.655934\n",
      "[40]\tvalidation_0-aucpr:0.655758\n",
      "[41]\tvalidation_0-aucpr:0.656713\n",
      "Stopping. Best iteration:\n",
      "[31]\tvalidation_0-aucpr:0.658397\n",
      "\n"
     ]
    },
    {
     "data": {
      "text/plain": [
       "XGBClassifier(base_score=0.5, booster='gbtree', colsample_bylevel=1,\n",
       "              colsample_bynode=1, colsample_bytree=1, gamma=0,\n",
       "              learning_rate=0.1, max_delta_step=0, max_depth=3,\n",
       "              min_child_weight=1, missing=None, n_estimators=100, n_jobs=1,\n",
       "              nthread=None, objective='binary:logistic', random_state=0,\n",
       "              reg_alpha=0, reg_lambda=1, scale_pos_weight=1, seed=42,\n",
       "              silent=None, subsample=1, verbosity=1)"
      ]
     },
     "execution_count": 1431,
     "metadata": {},
     "output_type": "execute_result"
    }
   ],
   "source": [
    "clf_xgb = xgb.XGBClassifier(objective = 'binary:logistic',  seed =42) \n",
    "clf_xgb.fit(x_train5,\n",
    "            y_train5, \n",
    "            verbose = True,\n",
    "            early_stopping_rounds =10,\n",
    "            eval_metric ='aucpr',\n",
    "            eval_set = [(x_test5, y_test5)])"
   ]
  },
  {
   "cell_type": "code",
   "execution_count": 1432,
   "metadata": {
    "scrolled": true
   },
   "outputs": [
    {
     "data": {
      "text/plain": [
       "<sklearn.metrics._plot.confusion_matrix.ConfusionMatrixDisplay at 0x196c7bfe708>"
      ]
     },
     "execution_count": 1432,
     "metadata": {},
     "output_type": "execute_result"
    },
    {
     "data": {
      "image/png": "[encoded data removed]",
      "text/plain": [
       "<Figure size 432x288 with 2 Axes>"
      ]
     },
     "metadata": {
      "needs_background": "light"
     },
     "output_type": "display_data"
    }
   ],
   "source": [
    "#Рисуем матрицу ошибок. Больше половины оттока классифицирована неверно, нужно подкрутить веса.\n",
    "plot_confusion_matrix (clf_xgb, x_test5, y_test5,values_format='d' ) "
   ]
  },
  {
   "cell_type": "code",
   "execution_count": 1433,
   "metadata": {},
   "outputs": [
    {
     "name": "stdout",
     "output_type": "stream",
     "text": [
      "ROC AUC Score 0.8423391344172202\n"
     ]
    }
   ],
   "source": [
    "predictions = clf_xgb.predict_proba(x_test5)\n",
    "print ('ROC AUC Score',roc_auc_score(y_test5,predictions[:,1]))"
   ]
  },
  {
   "cell_type": "code",
   "execution_count": 1434,
   "metadata": {},
   "outputs": [
    {
     "data": {
      "text/plain": [
       "0.48614609571788414"
      ]
     },
     "execution_count": 1434,
     "metadata": {},
     "output_type": "execute_result"
    }
   ],
   "source": [
    "predictions3 = clf_xgb.predict(x_test5)\n",
    "recall_score(y_test5,predictions3)"
   ]
  },
  {
   "cell_type": "code",
   "execution_count": 1435,
   "metadata": {},
   "outputs": [
    {
     "data": {
      "text/plain": [
       "0.6819787985865724"
      ]
     },
     "execution_count": 1435,
     "metadata": {},
     "output_type": "execute_result"
    }
   ],
   "source": [
    "\n",
    "precision_score(y_test5,predictions3)"
   ]
  },
  {
   "cell_type": "markdown",
   "metadata": {},
   "source": [
    "Чтобы улучшить полноту увеличиваем веса, устанавливаем scale_pos_weight = 50."
   ]
  },
  {
   "cell_type": "code",
   "execution_count": 1436,
   "metadata": {},
   "outputs": [
    {
     "name": "stdout",
     "output_type": "stream",
     "text": [
      "[0]\tvalidation_0-aucpr:0.532332\n",
      "Will train until validation_0-aucpr hasn't improved in 10 rounds.\n",
      "[1]\tvalidation_0-aucpr:0.537551\n",
      "[2]\tvalidation_0-aucpr:0.537569\n",
      "[3]\tvalidation_0-aucpr:0.579066\n",
      "[4]\tvalidation_0-aucpr:0.579209\n",
      "[5]\tvalidation_0-aucpr:0.577928\n",
      "[6]\tvalidation_0-aucpr:0.585789\n",
      "[7]\tvalidation_0-aucpr:0.582327\n",
      "[8]\tvalidation_0-aucpr:0.582309\n",
      "[9]\tvalidation_0-aucpr:0.580625\n",
      "[10]\tvalidation_0-aucpr:0.580806\n",
      "[11]\tvalidation_0-aucpr:0.582363\n",
      "[12]\tvalidation_0-aucpr:0.582245\n",
      "[13]\tvalidation_0-aucpr:0.584536\n",
      "[14]\tvalidation_0-aucpr:0.584417\n",
      "[15]\tvalidation_0-aucpr:0.588985\n",
      "[16]\tvalidation_0-aucpr:0.588021\n",
      "[17]\tvalidation_0-aucpr:0.589695\n",
      "[18]\tvalidation_0-aucpr:0.607817\n",
      "[19]\tvalidation_0-aucpr:0.609552\n",
      "[20]\tvalidation_0-aucpr:0.609424\n",
      "[21]\tvalidation_0-aucpr:0.610318\n",
      "[22]\tvalidation_0-aucpr:0.608867\n",
      "[23]\tvalidation_0-aucpr:0.611854\n",
      "[24]\tvalidation_0-aucpr:0.614093\n",
      "[25]\tvalidation_0-aucpr:0.614311\n",
      "[26]\tvalidation_0-aucpr:0.614594\n",
      "[27]\tvalidation_0-aucpr:0.615698\n",
      "[28]\tvalidation_0-aucpr:0.630437\n",
      "[29]\tvalidation_0-aucpr:0.631243\n",
      "[30]\tvalidation_0-aucpr:0.632882\n",
      "[31]\tvalidation_0-aucpr:0.63101\n",
      "[32]\tvalidation_0-aucpr:0.632475\n",
      "[33]\tvalidation_0-aucpr:0.630897\n",
      "[34]\tvalidation_0-aucpr:0.632787\n",
      "[35]\tvalidation_0-aucpr:0.635144\n",
      "[36]\tvalidation_0-aucpr:0.6406\n",
      "[37]\tvalidation_0-aucpr:0.64022\n",
      "[38]\tvalidation_0-aucpr:0.641693\n",
      "[39]\tvalidation_0-aucpr:0.639774\n",
      "[40]\tvalidation_0-aucpr:0.641218\n",
      "[41]\tvalidation_0-aucpr:0.645398\n",
      "[42]\tvalidation_0-aucpr:0.645445\n",
      "[43]\tvalidation_0-aucpr:0.645577\n",
      "[44]\tvalidation_0-aucpr:0.647029\n",
      "[45]\tvalidation_0-aucpr:0.647627\n",
      "[46]\tvalidation_0-aucpr:0.648233\n",
      "[47]\tvalidation_0-aucpr:0.648781\n",
      "[48]\tvalidation_0-aucpr:0.647155\n",
      "[49]\tvalidation_0-aucpr:0.647013\n",
      "[50]\tvalidation_0-aucpr:0.645763\n",
      "[51]\tvalidation_0-aucpr:0.645875\n",
      "[52]\tvalidation_0-aucpr:0.644147\n",
      "[53]\tvalidation_0-aucpr:0.64426\n",
      "[54]\tvalidation_0-aucpr:0.640777\n",
      "[55]\tvalidation_0-aucpr:0.641354\n",
      "[56]\tvalidation_0-aucpr:0.642664\n",
      "[57]\tvalidation_0-aucpr:0.641795\n",
      "Stopping. Best iteration:\n",
      "[47]\tvalidation_0-aucpr:0.648781\n",
      "\n"
     ]
    },
    {
     "data": {
      "text/plain": [
       "XGBClassifier(base_score=0.5, booster='gbtree', colsample_bylevel=1,\n",
       "              colsample_bynode=1, colsample_bytree=1, gamma=0,\n",
       "              learning_rate=0.1, max_delta_step=0, max_depth=4,\n",
       "              min_child_weight=1, missing=None, n_estimators=100, n_jobs=1,\n",
       "              nthread=None, objective='binary:logistic', random_state=0,\n",
       "              reg_alpha=0, reg_lambda=1, scale_pos_weight=50, seed=42,\n",
       "              silent=None, subsample=1, verbosity=1)"
      ]
     },
     "execution_count": 1436,
     "metadata": {},
     "output_type": "execute_result"
    }
   ],
   "source": [
    "\n",
    "clf_xgb1 = xgb.XGBClassifier(objective = 'binary:logistic', \n",
    "                            seed =42,\n",
    "                            max_depth = 4,\n",
    "                            scale_pos_weight = 50\n",
    "                           ) \n",
    "clf_xgb1.fit(x_train5,\n",
    "            y_train5, \n",
    "            verbose = True,\n",
    "            early_stopping_rounds =10,\n",
    "            eval_metric ='aucpr',\n",
    "            eval_set = [(x_test5, y_test5)])"
   ]
  },
  {
   "cell_type": "code",
   "execution_count": 1437,
   "metadata": {},
   "outputs": [
    {
     "data": {
      "text/plain": [
       "<sklearn.metrics._plot.confusion_matrix.ConfusionMatrixDisplay at 0x196b7a13588>"
      ]
     },
     "execution_count": 1437,
     "metadata": {},
     "output_type": "execute_result"
    },
    {
     "data": {
      "image/png": "[encoded data removed]",
      "text/plain": [
       "<Figure size 432x288 with 2 Axes>"
      ]
     },
     "metadata": {
      "needs_background": "light"
     },
     "output_type": "display_data"
    }
   ],
   "source": [
    "plot_confusion_matrix (clf_xgb1, x_test5, y_test5,values_format='d' ) "
   ]
  },
  {
   "cell_type": "code",
   "execution_count": 1438,
   "metadata": {},
   "outputs": [
    {
     "name": "stdout",
     "output_type": "stream",
     "text": [
      "ROC AUC Score 0.8333684451568583\n"
     ]
    }
   ],
   "source": [
    "predictions1 = clf_xgb1.predict_proba(x_test5)\n",
    "print ('ROC AUC Score',roc_auc_score(y_test5,predictions1[:,1]))"
   ]
  },
  {
   "cell_type": "code",
   "execution_count": 1439,
   "metadata": {},
   "outputs": [],
   "source": [
    "predictions2 = clf_xgb1.predict(x_test5)\n"
   ]
  },
  {
   "cell_type": "code",
   "execution_count": 1440,
   "metadata": {},
   "outputs": [
    {
     "data": {
      "text/plain": [
       "0.9798488664987406"
      ]
     },
     "execution_count": 1440,
     "metadata": {},
     "output_type": "execute_result"
    }
   ],
   "source": [
    "\n",
    "recall_score(y_test5,predictions2)"
   ]
  },
  {
   "cell_type": "code",
   "execution_count": 1441,
   "metadata": {},
   "outputs": [
    {
     "data": {
      "text/plain": [
       "0.6540153423402794"
      ]
     },
     "execution_count": 1441,
     "metadata": {},
     "output_type": "execute_result"
    }
   ],
   "source": [
    "roc_auc_score(y_test5,predictions2)"
   ]
  },
  {
   "cell_type": "code",
   "execution_count": 1442,
   "metadata": {},
   "outputs": [
    {
     "data": {
      "text/plain": [
       "0.3448581560283688"
      ]
     },
     "execution_count": 1442,
     "metadata": {},
     "output_type": "execute_result"
    }
   ],
   "source": [
    "precision_score(y_test5,predictions2)"
   ]
  },
  {
   "cell_type": "markdown",
   "metadata": {},
   "source": [
    "В данном случае полнота нам более важна, чем точность. Увеличив веса, удалось улучшить полноту, то есть более точно спрогнозировать, кто из клиентов вероятнее всего перестанет пользоваться услугами. "
   ]
  },
  {
   "cell_type": "code",
   "execution_count": 1443,
   "metadata": {},
   "outputs": [
    {
     "data": {
      "text/plain": [
       "<matplotlib.legend.Legend at 0x196c3cecf88>"
      ]
     },
     "execution_count": 1443,
     "metadata": {},
     "output_type": "execute_result"
    },
    {
     "data": {
      "image/png": "[encoded data removed]",
      "text/plain": [
       "<Figure size 432x288 with 1 Axes>"
      ]
     },
     "metadata": {
      "needs_background": "light"
     },
     "output_type": "display_data"
    }
   ],
   "source": [
    "\n",
    "probas = clf_xgb1.predict_proba(x_test5)\n",
    "fpr, tpr, _ = roc_curve(y_test5, probas[:, 1])\n",
    "auc = roc_auc_score(y_test5, probas[:, 1])\n",
    "plt.plot(fpr, tpr, label=\"auc=\" + str(auc))\n",
    "plt.legend(loc=4)"
   ]
  },
  {
   "cell_type": "code",
   "execution_count": 1444,
   "metadata": {},
   "outputs": [
    {
     "data": {
      "text/plain": [
       "<matplotlib.legend.Legend at 0x196c3cfb648>"
      ]
     },
     "execution_count": 1444,
     "metadata": {},
     "output_type": "execute_result"
    },
    {
     "data": {
      "image/png": "[encoded data removed]",
      "text/plain": [
       "<Figure size 432x288 with 1 Axes>"
      ]
     },
     "metadata": {
      "needs_background": "light"
     },
     "output_type": "display_data"
    }
   ],
   "source": [
    "probas1 = clf_xgb1.predict(x_test5)\n",
    "fpr, tpr, _ = roc_curve(y_test5, probas1)\n",
    "auc = roc_auc_score(y_test5, probas1)\n",
    "plt.plot(fpr, tpr, label=\"auc=\" + str(auc))\n",
    "plt.legend(loc=4)"
   ]
  },
  {
   "cell_type": "code",
   "execution_count": null,
   "metadata": {},
   "outputs": [],
   "source": []
  }
 ],
 "metadata": {
  "kernelspec": {
   "display_name": "Python 3",
   "language": "python",
   "name": "python3"
  },
  "language_info": {
   "codemirror_mode": {
    "name": "ipython",
    "version": 3
   },
   "file_extension": ".py",
   "mimetype": "text/x-python",
   "name": "python",
   "nbconvert_exporter": "python",
   "pygments_lexer": "ipython3",
   "version": "3.7.6"
  }
 },
 "nbformat": 4,
 "nbformat_minor": 4
}
