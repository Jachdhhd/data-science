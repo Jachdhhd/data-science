{
 "cells": [
  {
   "cell_type": "markdown",
   "metadata": {},
   "source": [
    "# Чтение и запись данных. Часть 2\n",
    "\n",
    "## 1. Работа с базой данных из pandas\n"
   ]
  },
  {
   "cell_type": "markdown",
   "metadata": {},
   "source": [
    "### 1.1 \n",
    "\n",
    "Подготовка данных:"
   ]
  },
  {
   "cell_type": "code",
   "execution_count": 3,
   "metadata": {},
   "outputs": [
    {
     "name": "stdout",
     "output_type": "stream",
     "text": [
      "Какие таблицы содержатся в Postgres: [('keywords',), ('links',), ('ratings',), ('exploratory',), ('course_purchases',)]\n"
     ]
    },
    {
     "data": {
      "text/html": [
       "<div>\n",
       "<style scoped>\n",
       "    .dataframe tbody tr th:only-of-type {\n",
       "        vertical-align: middle;\n",
       "    }\n",
       "\n",
       "    .dataframe tbody tr th {\n",
       "        vertical-align: top;\n",
       "    }\n",
       "\n",
       "    .dataframe thead th {\n",
       "        text-align: right;\n",
       "    }\n",
       "</style>\n",
       "<table border=\"1\" class=\"dataframe\">\n",
       "  <thead>\n",
       "    <tr style=\"text-align: right;\">\n",
       "      <th></th>\n",
       "      <th>userid</th>\n",
       "      <th>movieid</th>\n",
       "      <th>rating</th>\n",
       "      <th>timestamp</th>\n",
       "    </tr>\n",
       "  </thead>\n",
       "  <tbody>\n",
       "    <tr>\n",
       "      <th>0</th>\n",
       "      <td>251</td>\n",
       "      <td>1544</td>\n",
       "      <td>2.0</td>\n",
       "      <td>1054058782</td>\n",
       "    </tr>\n",
       "    <tr>\n",
       "      <th>1</th>\n",
       "      <td>251</td>\n",
       "      <td>1552</td>\n",
       "      <td>2.0</td>\n",
       "      <td>1054058699</td>\n",
       "    </tr>\n",
       "    <tr>\n",
       "      <th>2</th>\n",
       "      <td>251</td>\n",
       "      <td>1562</td>\n",
       "      <td>2.0</td>\n",
       "      <td>1055007066</td>\n",
       "    </tr>\n",
       "    <tr>\n",
       "      <th>3</th>\n",
       "      <td>251</td>\n",
       "      <td>1573</td>\n",
       "      <td>2.5</td>\n",
       "      <td>1054058486</td>\n",
       "    </tr>\n",
       "    <tr>\n",
       "      <th>4</th>\n",
       "      <td>251</td>\n",
       "      <td>1580</td>\n",
       "      <td>3.5</td>\n",
       "      <td>1054830483</td>\n",
       "    </tr>\n",
       "  </tbody>\n",
       "</table>\n",
       "</div>"
      ],
      "text/plain": [
       "   userid  movieid  rating   timestamp\n",
       "0     251     1544     2.0  1054058782\n",
       "1     251     1552     2.0  1054058699\n",
       "2     251     1562     2.0  1055007066\n",
       "3     251     1573     2.5  1054058486\n",
       "4     251     1580     3.5  1054830483"
      ]
     },
     "execution_count": 3,
     "metadata": {},
     "output_type": "execute_result"
    }
   ],
   "source": [
    "import psycopg2\n",
    "import pandas as pd\n",
    "import sqlite3\n",
    "\n",
    "pg_connection = {\n",
    "    \"host\": \"dsstudents.skillbox.ru\",\n",
    "    \"port\": 5432,\n",
    "    \"dbname\": \"human_resources\",\n",
    "    \"user\": \"readonly\",\n",
    "    \"password\": \"6hajV34RTQfmxhS\"\n",
    "}\n",
    "conn = psycopg2.connect(**pg_connection)\n",
    "\n",
    "cursor = conn.cursor()\n",
    "\n",
    "# получаем имена таблиц из базы\n",
    "sql_str = \"SELECT table_name FROM information_schema.tables WHERE table_schema='public';\"\n",
    "cursor.execute(sql_str)\n",
    "tables_data = [a for a in cursor.fetchall()]\n",
    "conn.commit()\n",
    "\n",
    "print(\"Какие таблицы содержатся в Postgres: %s\" % tables_data)\n",
    "\n",
    "df = pd.read_sql_query(\"select * from public.ratings limit 5;\", conn)\n",
    "df.head()"
   ]
  },
  {
   "cell_type": "markdown",
   "metadata": {},
   "source": [
    "**Задание простого уровня** <br>Посчитайте количество записей в каждой из таблиц **keywords, links, ratings** и выведите в формате имя *таблицы:количество строк*\n",
    "\n",
    "*Результат работы:*\n",
    "<pre>\n",
    "table keywords:92838\n",
    "table links:91686\n",
    "table ratings:1555552\n",
    "</pre>"
   ]
  },
  {
   "cell_type": "code",
   "execution_count": 13,
   "metadata": {},
   "outputs": [
    {
     "name": "stdout",
     "output_type": "stream",
     "text": [
      "table keywords:[(92838,)]\n",
      "table links:[(91686,)]\n",
      "table ratings:[(1555552,)]\n",
      "table exploratory:[(100,)]\n",
      "table course_purchases:[(154,)]\n"
     ]
    }
   ],
   "source": [
    "import psycopg2\n",
    "\n",
    "pg_connection = {\n",
    "    \"host\": \"dsstudents.skillbox.ru\",\n",
    "    \"port\": 5432,\n",
    "    \"dbname\": \"db_ds_students\",\n",
    "    \"user\": \"readonly\",\n",
    "    \"password\": \"6hajV34RTQfmxhS\"\n",
    "}\n",
    "conn = psycopg2.connect(**pg_connection)\n",
    "cursor = conn.cursor()\n",
    "\n",
    "table_names = [i[0] for i in tables_data]\n",
    "for table in table_names:\n",
    "        # -- ВАШ КОД ТУТ --\n",
    "        sql_str = \"SELECT COUNT(*) FROM public.{} \".format(table)\n",
    "        cursor.execute(sql_str)\n",
    "        row_count = [a for a in cursor.fetchall()]\n",
    "        print(\"table {}:{}\".format(table, row_count))\n",
    "\n",
    "cursor.close()"
   ]
  },
  {
   "cell_type": "markdown",
   "metadata": {},
   "source": [
    "### 1.2\n",
    "\n",
    "**Задание среднего уровня** <br>Напечатайте колонки таблицы *ratings*. Подсказка: поисследуйте объект **cursor** с помощью встроенной в python команды *dir()*"
   ]
  },
  {
   "cell_type": "code",
   "execution_count": 52,
   "metadata": {},
   "outputs": [
    {
     "name": "stdout",
     "output_type": "stream",
     "text": [
      "Поля таблицы ratings: ['userid', 'movieid', 'rating', 'timestamp']\n"
     ]
    }
   ],
   "source": [
    "import psycopg2\n",
    "\n",
    "pg_connection = {\n",
    "    \"host\": \"dsstudents.skillbox.ru\",\n",
    "    \"port\": 5432,\n",
    "    \"dbname\": \"db_ds_students\",\n",
    "    \"user\": \"readonly\",\n",
    "    \"password\": \"6hajV34RTQfmxhS\"\n",
    "}\n",
    "conn = psycopg2.connect(**pg_connection)\n",
    "cursor = conn.cursor()\n",
    "\n",
    "sql_str = \"SELECT * FROM ratings LIMIT 10;\"\n",
    "cursor.execute(sql_str)\n",
    "conn.commit()\n",
    "\n",
    "table_rating_fields = []\n",
    "for i in cursor.description:\n",
    "    for k in i:\n",
    "        if type(k) == str:\n",
    "            table_rating_fields.append(k)\n",
    "            \n",
    "print(\"Поля таблицы ratings: %s\" % table_rating_fields)\n",
    "cursor.close()"
   ]
  },
  {
   "cell_type": "markdown",
   "metadata": {},
   "source": [
    "### 1.3\n",
    "\n",
    "**Задание высокого уровня**\n",
    "* Посмотрите на столбцы таблицы **links** и столбцы таблицы **ratings** по какому полю можно заджойнить эти две таблицы\n",
    "* Посчитайте количество фильмов из links, у который нет оценок в ratings."
   ]
  },
  {
   "cell_type": "code",
   "execution_count": 118,
   "metadata": {},
   "outputs": [
    {
     "name": "stdout",
     "output_type": "stream",
     "text": [
      "Количество фильмов без рейтингов: 51\n"
     ]
    }
   ],
   "source": [
    "import psycopg2\n",
    "\n",
    "pg_connection = {\n",
    "    \"host\": \"dsstudents.skillbox.ru\",\n",
    "    \"port\": 5432,\n",
    "    \"dbname\": \"db_ds_students\",\n",
    "    \"user\": \"readonly\",\n",
    "    \"password\": \"6hajV34RTQfmxhS\"\n",
    "}\n",
    "conn = psycopg2.connect(**pg_connection)\n",
    "cursor = conn.cursor()\n",
    "\n",
    "\n",
    "# -- ВАШ КОД ТУТ --\n",
    "sql_str = \"\"\"\n",
    "    SELECT *\n",
    "    FROM links limit 3;\n",
    "\"\"\"\n",
    "sql_str1 =  \"\"\"\n",
    "    SELECT Distinct links.movieId as lin_m, Count(ratings.rating) as r_r  From ratings \n",
    "    Full join  links on links.movieid = ratings.movieid\n",
    "    group by links.movieid\n",
    "    having count(ratings.rating) = 0\n",
    "    order by r_r desc \n",
    "\"\"\"\n",
    "df = pd.read_sql_query(sql_str1,conn)\n",
    "\n",
    "cursor.execute(sql_str1)\n",
    "\n",
    "row_count = [a for a in cursor.fetchall()][0][0]\n",
    "conn.commit()\n",
    "\n",
    "print(\"Количество фильмов без рейтингов: %s\" % row_count)\n",
    "\n",
    "cursor.close()\n",
    "\n",
    "\n",
    "\n",
    "\n",
    "\n"
   ]
  },
  {
   "cell_type": "markdown",
   "metadata": {},
   "source": [
    "## 2. Работа с БД: MongoDB\n",
    "\n",
    "### 2.1\n",
    "\n",
    "Подготовка данных"
   ]
  },
  {
   "cell_type": "code",
   "execution_count": 120,
   "metadata": {},
   "outputs": [
    {
     "name": "stdout",
     "output_type": "stream",
     "text": [
      "Коллекции, доступные в MongoDB: ['tags', 'users']\n",
      "Число документов в коллекции 158680\n"
     ]
    }
   ],
   "source": [
    "from pymongo import MongoClient\n",
    "\n",
    "mongo_connection = {\n",
    "    \"host\": \"dsstudents.skillbox.ru\",\n",
    "    \"port\": 27017,\n",
    "    \"user\": \"students\",\n",
    "    \"password\": \"X63673t47Gl03Sq\",\n",
    "    \"authSource\": \"movies\"\n",
    "}\n",
    "\n",
    "mongo = MongoClient('mongodb://%s:%s@%s:%s/?authSource=%s' % (\n",
    "    mongo_connection['user'], mongo_connection['password'],\n",
    "    mongo_connection['host'], mongo_connection['port'], mongo_connection['authSource'])\n",
    ")\n",
    "db = mongo[\"movies\"]\n",
    "\n",
    "print(\"Коллекции, доступные в MongoDB: %s\" % db.list_collection_names())\n",
    "\n",
    "collection = db['tags']\n",
    "print(\"Число документов в коллекции %s\" % collection.estimated_document_count())"
   ]
  },
  {
   "cell_type": "markdown",
   "metadata": {},
   "source": [
    "**Задание простого уровня** <br>Посчитайте количество контента, у которого встречается тэг \"toy\"\n",
    "\n",
    "* сделайте выборку такого контента (а точнее - поля `id`) в питоновский `list`\n",
    "* подсчитайте количество элементов в `list`"
   ]
  },
  {
   "cell_type": "code",
   "execution_count": 125,
   "metadata": {},
   "outputs": [
    {
     "name": "stdout",
     "output_type": "stream",
     "text": [
      "Количество контента с тэгом 'toy': 19\n",
      "\n"
     ]
    }
   ],
   "source": [
    "selector = {'name': 'toy'}\n",
    "exclude_id = {'_id': False}\n",
    "\n",
    "mongo_cursor = collection.find(projection=exclude_id, filter={'name': 'toy'})\n",
    "\n",
    "# -- ВАШ КОД ТУТ --\n",
    "cursor_items = [i for i in mongo_cursor]\n",
    "\n",
    "print(\"Количество контента с тэгом 'toy': %s\\n\" % len(cursor_items))"
   ]
  },
  {
   "cell_type": "markdown",
   "metadata": {},
   "source": [
    "### 2.2\n",
    "\n",
    "**Задание среднего уровня** <br> Выведите **только названия** 10 самых непопулярных тэгов <br>\n",
    "\n",
    "Подсказка: посмотрите в уроке, как MongoDB позволяет также выполнять сложные агрегирующие запросы средствами СУБД\n",
    "\n",
    "*Результат работы*\n",
    "<pre>\n",
    "Счётчик тэгов ['ancient tablet', 'remains', 'robespierre', 'social scandal', 'brain implant', 'adam west', 'arm cast', 'acab', 'gas explosion', 'female psychologist']\n",
    "</pre>"
   ]
  },
  {
   "cell_type": "code",
   "execution_count": 167,
   "metadata": {},
   "outputs": [
    {
     "name": "stdout",
     "output_type": "stream",
     "text": [
      "[{'_id': 'ancient tablet', 'tag_count': 1}, {'_id': 'remains', 'tag_count': 1}, {'_id': 'robespierre', 'tag_count': 1}, {'_id': 'social scandal', 'tag_count': 1}, {'_id': 'brain implant', 'tag_count': 1}, {'_id': 'adam west', 'tag_count': 1}, {'_id': 'arm cast', 'tag_count': 1}, {'_id': 'acab', 'tag_count': 1}, {'_id': 'gas explosion', 'tag_count': 1}, {'_id': 'female psychologist', 'tag_count': 1}]\n"
     ]
    }
   ],
   "source": [
    "# -- ВАШ КОД ТУТ --\n",
    "pipeline = [{'$group':{'_id':'$name', 'tag_count':{'$sum':1}}}, {'$sort': {'tag_count':1}},{'$limit':10}]\n",
    "    \n",
    "print([i for i in collection.aggregate(pipeline)])\n",
    "\n"
   ]
  },
  {
   "cell_type": "markdown",
   "metadata": {},
   "source": [
    "### 2.3\n",
    "\n",
    "**Задание высокого уровня**\n",
    "\n",
    "1. Подключитесь к Postgres. Найдите top-10 самого популярного контента\n",
    "1. Сохраните в файл `content_popularity.json` в виде\n",
    "<pre>\n",
    "{'movieId': 931, 'popularity': 999}\n",
    "{'movieId': 429, 'popularity': 111}\n",
    "</pre>\n",
    "\n",
    "Этот формат называется single-line json и его можно загрузить в MongoDB с помощью команды\n",
    "<pre>\n",
    "mongoimport --host $APP_MONGO_HOST --port $APP_MONGO_PORT --db movies --collection tags --file content_popularity.json\n",
    "</pre>\n",
    "\n",
    "**ВНИМАНИЕ!** Это просто пример как можно использовать single-line JSON, заливать его никуда не нужно - в задаче требуется только подготовить файл в правильном виде\n",
    "\n",
    "*Подсказка* воспользуйтесь функцией `json.dumps`\n",
    "\n",
    "*Результат работы* - файл `content_popularity.json`:\n",
    "\n",
    "<pre>\n",
    "{\"movieId\": 318, \"popularity\": 5626}\n",
    "{\"movieId\": 356, \"popularity\": 5464}\n",
    "{\"movieId\": 296, \"popularity\": 5242}\n",
    "{\"movieId\": 593, \"popularity\": 5048}\n",
    "{\"movieId\": 2571, \"popularity\": 4718}\n",
    "{\"movieId\": 260, \"popularity\": 4556}\n",
    "{\"movieId\": 480, \"popularity\": 4540}\n",
    "{\"movieId\": 527, \"popularity\": 4120}\n",
    "{\"movieId\": 1, \"popularity\": 4072}\n",
    "{\"movieId\": 110, \"popularity\": 3928}\n",
    "</pre>"
   ]
  },
  {
   "cell_type": "code",
   "execution_count": 225,
   "metadata": {},
   "outputs": [],
   "source": [
    "import psycopg2\n",
    "import json\n",
    "import numpy as np\n",
    "pg_connection = {\n",
    "    \"host\": \"dsstudents.skillbox.ru\",\n",
    "    \"port\": 5432,\n",
    "    \"dbname\": \"db_ds_students\",\n",
    "    \"user\": \"readonly\",\n",
    "    \"password\": \"6hajV34RTQfmxhS\"\n",
    "}\n",
    "conn = psycopg2.connect(**pg_connection)\n",
    "cursor = conn.cursor()\n",
    "\n",
    "\n",
    "sql_str =  \"\"\"\n",
    "    SELECT movieid as m_id, sum(rating)as popularity FROM ratings  \n",
    "    group by movieid\n",
    "    Order by popularity\n",
    "    Desc limit 10\n",
    "\"\"\"\n",
    "    \n",
    "cursor.execute(sql_str)\n",
    "conn.commit()\n",
    "df = pd.read_sql_query(sql_str,conn)\n",
    "\n",
    "df.to_json('content_popularity.json', orient='records')\n",
    "\n",
    "\n",
    "\n"
   ]
  },
  {
   "cell_type": "code",
   "execution_count": null,
   "metadata": {},
   "outputs": [],
   "source": []
  }
 ],
 "metadata": {
  "kernelspec": {
   "display_name": "Python 3",
   "language": "python",
   "name": "python3"
  },
  "language_info": {
   "codemirror_mode": {
    "name": "ipython",
    "version": 3
   },
   "file_extension": ".py",
   "mimetype": "text/x-python",
   "name": "python",
   "nbconvert_exporter": "python",
   "pygments_lexer": "ipython3",
   "version": "3.7.8"
  }
 },
 "nbformat": 4,
 "nbformat_minor": 4
}
