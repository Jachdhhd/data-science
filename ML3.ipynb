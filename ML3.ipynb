{
 "cells": [
  {
   "cell_type": "code",
   "execution_count": 2,
   "metadata": {},
   "outputs": [],
   "source": [
    "import numpy as np\n",
    "import pandas as pd\n",
    "from numpy.linalg import inv\n",
    "from matplotlib import pyplot as plt\n",
    "%matplotlib inline"
   ]
  },
  {
   "cell_type": "code",
   "execution_count": 3,
   "metadata": {},
   "outputs": [
    {
     "data": {
      "image/png": "[encoded data removed]",
      "text/plain": [
       "<Figure size 432x288 with 1 Axes>"
      ]
     },
     "metadata": {
      "needs_background": "light"
     },
     "output_type": "display_data"
    }
   ],
   "source": [
    "x_hw = [50, 60, 70, 100]\n",
    "y_hw = [10, 15, 40, 45]\n",
    "plt.scatter(x_hw, y_hw )\n",
    "plt.show()"
   ]
  },
  {
   "cell_type": "code",
   "execution_count": 307,
   "metadata": {},
   "outputs": [
    {
     "name": "stdout",
     "output_type": "stream",
     "text": [
      "w1 =-22.50000, w2 = 0.714\n"
     ]
    }
   ],
   "source": [
    "X = np.array([[1,50], [1,60],[1,70],[1,100]])\n",
    "Y = np.array([[10],[15],[40],[45]])\n",
    "\n",
    "w = (inv((X.T).dot(X))).dot(X.T).dot(Y)\n",
    "print(\"w1 =%.5f, w2 = %.3f\" % (w[0][0],w[1][0]))"
   ]
  },
  {
   "cell_type": "code",
   "execution_count": 5,
   "metadata": {},
   "outputs": [
    {
     "data": {
      "image/png": "[encoded data removed]",
      "text/plain": [
       "<Figure size 432x288 with 1 Axes>"
      ]
     },
     "metadata": {
      "needs_background": "light"
     },
     "output_type": "display_data"
    }
   ],
   "source": [
    "margin = 70\n",
    "X_min = X[:,1].max()-margin\n",
    "X_max = X[:,1].max()+margin/2\n",
    "X_support = np.linspace(X_min, X_max, num=100)\n",
    "Y_model = w[0][0] +w[1][0]*X_support\n",
    "\n",
    "plt.xlim(X_min,X_max)\n",
    "plt.ylim(0, Y[:,0].max()+ margin)\n",
    "plt.scatter(X[:,1], Y[:,0], 40,'g','o')\n",
    "plt.plot(X_support,Y_model)\n",
    "plt.show()"
   ]
  },
  {
   "cell_type": "code",
   "execution_count": 34,
   "metadata": {},
   "outputs": [
    {
     "data": {
      "text/plain": [
       "45"
      ]
     },
     "execution_count": 34,
     "metadata": {},
     "output_type": "execute_result"
    }
   ],
   "source": []
  },
  {
   "cell_type": "code",
   "execution_count": 6,
   "metadata": {},
   "outputs": [
    {
     "data": {
      "image/png": "[encoded data removed]",
      "text/plain": [
       "<Figure size 432x288 with 1 Axes>"
      ]
     },
     "metadata": {
      "needs_background": "light"
     },
     "output_type": "display_data"
    }
   ],
   "source": [
    "y_pred_ = np.array([30.0, 25.03, 30.57, 28.61, 27.94, 25.26, 23.0, 19.54, 11.52, 18.92, 19.0, 21.59, 20.91, 19.55, 19.28, 19.3, 20.53, 16.91, 16.18, 18.41, 12.52, 17.67, 15.83, 13.81, 15.68, 13.39, 15.46, 14.71, 19.55, 20.88, 11.46, 18.06, 8.81, 14.28, 13.71, 23.81, 22.34, 23.11, 22.92, 31.36])\n",
    "y_true_ = np.array([24.0, 21.6, 34.7, 33.4, 36.2, 28.7, 22.9, 27.1, 16.5, 18.9, 15.0, 18.9, 21.7, 20.4, 18.2, 19.9, 23.1, 17.5, 20.2, 18.2, 13.6, 19.6, 15.2, 14.5, 15.6, 13.9, 16.6, 14.8, 18.4, 21.0, 12.7, 14.5, 13.2, 13.1, 13.5, 18.9, 20.0, 21.0, 24.7, 30.8])\n",
    "\n",
    "diff = y_true_ - y_pred_\n",
    "diff_squ = diff**2\n",
    "plt.scatter(diff, diff_squ)\n",
    "plt.show()"
   ]
  },
  {
   "cell_type": "code",
   "execution_count": 7,
   "metadata": {},
   "outputs": [
    {
     "data": {
      "image/png": "[encoded data removed]",
      "text/plain": [
       "<Figure size 432x288 with 1 Axes>"
      ]
     },
     "metadata": {
      "needs_background": "light"
     },
     "output_type": "display_data"
    }
   ],
   "source": [
    "from sklearn.preprocessing import StandardScaler\n",
    "\n",
    "\n",
    "x = np.linspace(1,10,num=10)\n",
    "y = np.array(\n",
    "    [1.,  3.,  4.,  2., 10.,  5.,  5.,  2.,  5., 10.],\n",
    "    dtype=np.float32\n",
    ")\n",
    "\n",
    "tr_data = StandardScaler().fit_transform(y.reshape(-1,1)).reshape(-1)\n",
    "tr_data\n",
    "\n",
    "plt.scatter(x,tr_data)\n",
    "plt.show()"
   ]
  },
  {
   "cell_type": "code",
   "execution_count": 8,
   "metadata": {},
   "outputs": [
    {
     "data": {
      "text/html": [
       "<div>\n",
       "<style scoped>\n",
       "    .dataframe tbody tr th:only-of-type {\n",
       "        vertical-align: middle;\n",
       "    }\n",
       "\n",
       "    .dataframe tbody tr th {\n",
       "        vertical-align: top;\n",
       "    }\n",
       "\n",
       "    .dataframe thead th {\n",
       "        text-align: right;\n",
       "    }\n",
       "</style>\n",
       "<table border=\"1\" class=\"dataframe\">\n",
       "  <thead>\n",
       "    <tr style=\"text-align: right;\">\n",
       "      <th></th>\n",
       "      <th>x_train</th>\n",
       "      <th>y_train</th>\n",
       "    </tr>\n",
       "  </thead>\n",
       "  <tbody>\n",
       "    <tr>\n",
       "      <th>0</th>\n",
       "      <td>0.138368</td>\n",
       "      <td>0.838812</td>\n",
       "    </tr>\n",
       "    <tr>\n",
       "      <th>1</th>\n",
       "      <td>0.157237</td>\n",
       "      <td>0.889313</td>\n",
       "    </tr>\n",
       "    <tr>\n",
       "      <th>2</th>\n",
       "      <td>0.188684</td>\n",
       "      <td>1.430040</td>\n",
       "    </tr>\n",
       "    <tr>\n",
       "      <th>3</th>\n",
       "      <td>0.685553</td>\n",
       "      <td>1.717309</td>\n",
       "    </tr>\n",
       "    <tr>\n",
       "      <th>4</th>\n",
       "      <td>0.874237</td>\n",
       "      <td>2.032588</td>\n",
       "    </tr>\n",
       "  </tbody>\n",
       "</table>\n",
       "</div>"
      ],
      "text/plain": [
       "    x_train   y_train\n",
       "0  0.138368  0.838812\n",
       "1  0.157237  0.889313\n",
       "2  0.188684  1.430040\n",
       "3  0.685553  1.717309\n",
       "4  0.874237  2.032588"
      ]
     },
     "execution_count": 8,
     "metadata": {},
     "output_type": "execute_result"
    }
   ],
   "source": [
    "dtf = pd.read_csv('3.10_non_linear.csv', sep=\",\")\n",
    "dtf.head()"
   ]
  },
  {
   "cell_type": "code",
   "execution_count": 10,
   "metadata": {},
   "outputs": [],
   "source": [
    "def generate_degrees(source_data: list, degree: int):\n",
    "    \"\"\"Функция, которая принимает на вход одномерный массив, а возвращает n-мерный\n",
    "    \n",
    "    Для каждой степени от 1 до  degree возводим x в эту степень\n",
    "    \"\"\"\n",
    "    return np.array([\n",
    "          source_data**n for n in range(1, degree + 1)  \n",
    "    ]).T"
   ]
  },
  {
   "cell_type": "code",
   "execution_count": 20,
   "metadata": {},
   "outputs": [
    {
     "name": "stdout",
     "output_type": "stream",
     "text": [
      "[1.38368445e-01 1.91458266e-02 2.64917826e-03 3.66562677e-04\n",
      " 5.07207077e-05 7.01814547e-06 9.71089877e-07 1.34368196e-07\n",
      " 1.85923184e-08 2.57259019e-09]\n"
     ]
    }
   ],
   "source": [
    "degree = 10\n",
    "\n",
    "X = generate_degrees(dtf['x_train'], degree)\n",
    "\n",
    "print(X)"
   ]
  },
  {
   "cell_type": "code",
   "execution_count": 1,
   "metadata": {},
   "outputs": [],
   "source": [
    "from sklearn.metrics import mean_squared_error\n",
    "from sklearn.linear_model import LinearRegression\n",
    "from sklearn.metrics import r2_score\n",
    "\n",
    "def train_polynomial(degree, dtf):\n",
    "    \n",
    "    \n",
    "    X = generate_degrees(dtf['x_train'], degree)\n",
    "\n",
    "    model = LinearRegression().fit(X, dtf['y_train'])\n",
    "    y_pred = model.predict(X)\n",
    "\n",
    "    error = r2_score(dtf['y_train'], y_pred)\n",
    "    print(\"Коэффициент детерминации %d Ошибка %.3f\" % (degree, error))\n",
    "\n",
    "    "
   ]
  },
  {
   "cell_type": "code",
   "execution_count": 227,
   "metadata": {},
   "outputs": [
    {
     "name": "stdout",
     "output_type": "stream",
     "text": [
      "Коэффициент детерминации 1 Ошибка 0.519\n",
      "None\n",
      "Коэффициент детерминации 2 Ошибка 0.533\n",
      "None\n",
      "Коэффициент детерминации 3 Ошибка 0.888\n",
      "None\n",
      "Коэффициент детерминации 4 Ошибка 0.895\n",
      "None\n",
      "Коэффициент детерминации 5 Ошибка 0.896\n",
      "None\n",
      "Коэффициент детерминации 6 Ошибка 0.899\n",
      "None\n",
      "Коэффициент детерминации 7 Ошибка 0.900\n",
      "None\n",
      "Коэффициент детерминации 8 Ошибка 0.909\n",
      "None\n",
      "Коэффициент детерминации 9 Ошибка 0.909\n",
      "None\n",
      "Коэффициент детерминации 10 Ошибка 0.909\n",
      "None\n"
     ]
    }
   ],
   "source": [
    "for degree in range(1,11):\n",
    "    print(train_polynomial(degree,dtf))\n"
   ]
  },
  {
   "cell_type": "code",
   "execution_count": null,
   "metadata": {},
   "outputs": [],
   "source": [
    "error"
   ]
  },
  {
   "cell_type": "code",
   "execution_count": 300,
   "metadata": {},
   "outputs": [],
   "source": [
    "def train_polynomial(degree, dtf):\n",
    "    \n",
    "    \n",
    "    X = generate_degrees(dtf['x_train'], degree)\n",
    "\n",
    "    model = LinearRegression().fit(X, dtf['y_train'])\n",
    "    y_pred = model.predict(X)\n",
    "\n",
    "    error = r2_score(dtf['y_train'], y_pred)\n",
    "    return degree, error"
   ]
  },
  {
   "cell_type": "code",
   "execution_count": 301,
   "metadata": {},
   "outputs": [
    {
     "data": {
      "text/plain": [
       "[[14.0, 0.9163998644919205]]"
      ]
     },
     "execution_count": 301,
     "metadata": {},
     "output_type": "execute_result"
    }
   ],
   "source": [
    "k=[]\n",
    "for degree in range(1,25):\n",
    "    k.append(train_polynomial(degree,dtf))\n",
    "k1=pd.DataFrame(k)\n",
    "np.array(k1[k1[1]==k1[1].max()]).tolist()"
   ]
  },
  {
   "cell_type": "code",
   "execution_count": 305,
   "metadata": {},
   "outputs": [
    {
     "data": {
      "text/plain": [
       "array([ 0.88210097,  1.01897622,  1.21593663,  1.90777397,  1.89320068,\n",
       "        1.96799159,  1.99510714,  2.00255713,  2.05113541,  2.05904861,\n",
       "        2.07135515,  2.08488904,  2.0878935 ,  2.05782442,  1.96152895,\n",
       "        1.70752908,  1.25295913,  1.19221964,  1.03691937,  1.00291056,\n",
       "        0.88643136,  0.87018964,  0.48418417,  0.44549163,  0.29608611,\n",
       "        0.26126515,  0.20252298,  0.19922475,  0.17116326,  0.15216131,\n",
       "        0.15216131,  0.15070403,  0.14577292,  0.13117661,  0.0936225 ,\n",
       "        0.08594859,  0.07275958,  0.06757109, -0.0088838 , -0.00456109,\n",
       "        0.00499679,  0.0586599 ,  0.10034354,  0.22510037,  0.27123177,\n",
       "        0.37545173,  0.56831688,  0.96442833,  0.93519255,  0.93519255])"
      ]
     },
     "execution_count": 305,
     "metadata": {},
     "output_type": "execute_result"
    }
   ],
   "source": [
    "degree = 14\n",
    "\n",
    "train_polynomial(degree,dtf)\n",
    "model = LinearRegression().fit(X, dtf['y_train'])\n",
    "y_pred = model.predict(X)\n",
    "y_pred"
   ]
  },
  {
   "cell_type": "code",
   "execution_count": 404,
   "metadata": {},
   "outputs": [],
   "source": [
    "class CustomLinearRegression:\n",
    "    \n",
    "    def __init__(self, fit_intercept=True):\n",
    "        self.coef_ = None\n",
    "        self.intercept_ = None\n",
    "        self._fit_intercept = fit_intercept\n",
    "\n",
    "    \n",
    "    def fit(self, X, y):\n",
    "        \n",
    "        \n",
    "        if len(X.shape) == 1:\n",
    "            X = X.reshape(-1,1)\n",
    "            \n",
    "        \n",
    "        if self._fit_intercept:\n",
    "            X = np.c_[np.ones(X.shape[0]), X]\n",
    "        \n",
    "        \n",
    "        xTx = np.dot(X.T, X)\n",
    "        inverse_xTx = np.linalg.inv(xTx)\n",
    "        xTy = np.dot(X.T, y)\n",
    "        coef = np.dot(inverse_xTx, xTy)\n",
    "        \n",
    "       \n",
    "        if self._fit_intercept:\n",
    "            self.intercept_ = coef[0]\n",
    "            self.coef_ = coef[1:]\n",
    "        else:\n",
    "            self.intercept_ = 0\n",
    "            self.coef_ = coef\n",
    "            \n",
    "    def predict(self, X):\n",
    "        \n",
    "       \n",
    "        if len(X.shape) == 1:\n",
    "            X = X.reshape(-1,1) \n",
    "        return self.intercept_ + np.dot(X, self.coef_) \n",
    "\n"
   ]
  },
  {
   "cell_type": "code",
   "execution_count": 480,
   "metadata": {},
   "outputs": [],
   "source": [
    "from sklearn.datasets import load_boston\n",
    "from sklearn.model_selection import train_test_split\n",
    "\n",
    "data = load_boston()\n",
    "X = boston_dataset.data\n",
    "y = boston_dataset.target\n",
    "\n",
    "X_train, X_valid, y_train, y_valid = train_test_split(X, y, test_size=0.2, random_state=10)\n"
   ]
  },
  {
   "cell_type": "code",
   "execution_count": 481,
   "metadata": {},
   "outputs": [],
   "source": [
    "from sklearn.linear_model import Ridge, Lasso\n",
    "model = LinearRegression().fit(X_train,y_train)\n",
    "y_pred = model.predict(X_valid)\n",
    "y_pred_train = model.predict(X_train)\n"
   ]
  },
  {
   "cell_type": "code",
   "execution_count": 482,
   "metadata": {},
   "outputs": [
    {
     "data": {
      "text/plain": [
       "0.670933983911564"
      ]
     },
     "execution_count": 482,
     "metadata": {},
     "output_type": "execute_result"
    }
   ],
   "source": [
    "error = r2_score(y_valid, y_pred)\n",
    "error"
   ]
  },
  {
   "cell_type": "code",
   "execution_count": 483,
   "metadata": {},
   "outputs": [],
   "source": [
    "tr_data1 = StandardScaler().fit_transform(y.reshape(-1,1)).reshape(-1)\n",
    "tr_data2 = StandardScaler().fit_transform(X)"
   ]
  },
  {
   "cell_type": "code",
   "execution_count": 484,
   "metadata": {},
   "outputs": [],
   "source": [
    "X_train1, X_valid1, y_train1, y_valid1 = train_test_split(tr_data2, tr_data1, test_size=0.2, random_state=10)\n",
    "\n",
    "model = LinearRegression().fit(X_train1,y_train1)\n",
    "y_pred1 = model.predict(X_valid1)\n",
    "y_pred_train1 = model.predict(X_train1)"
   ]
  },
  {
   "cell_type": "code",
   "execution_count": 485,
   "metadata": {},
   "outputs": [
    {
     "data": {
      "text/plain": [
       "0.6709339839115632"
      ]
     },
     "execution_count": 485,
     "metadata": {},
     "output_type": "execute_result"
    }
   ],
   "source": [
    "error1 = r2_score(y_valid1, y_pred1)\n",
    "error1  #Метрика не поменялась"
   ]
  },
  {
   "cell_type": "code",
   "execution_count": null,
   "metadata": {},
   "outputs": [],
   "source": []
  }
 ],
 "metadata": {
  "kernelspec": {
   "display_name": "Python 3",
   "language": "python",
   "name": "python3"
  },
  "language_info": {
   "codemirror_mode": {
    "name": "ipython",
    "version": 3
   },
   "file_extension": ".py",
   "mimetype": "text/x-python",
   "name": "python",
   "nbconvert_exporter": "python",
   "pygments_lexer": "ipython3",
   "version": "3.7.6"
  }
 },
 "nbformat": 4,
 "nbformat_minor": 4
}
