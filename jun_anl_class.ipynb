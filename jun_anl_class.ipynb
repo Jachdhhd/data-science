{
 "cells": [
  {
   "cell_type": "markdown",
   "metadata": {
    "colab_type": "text",
    "id": "RbR5OTe50Za4"
   },
   "source": [
    "# Классы\n",
    "## Домашнее задание"
   ]
  },
  {
   "cell_type": "markdown",
   "metadata": {
    "colab_type": "text",
    "id": "Xh_DBCdu0Za5"
   },
   "source": [
    "### Вопросы по лекциям\n",
    "\n",
    "#### 1.\n",
    "\n",
    "Напишите название функции, которая является конструктором класса."
   ]
  },
  {
   "cell_type": "markdown",
   "metadata": {
    "colab_type": "text",
    "id": "8-Tj4AMg0Za6"
   },
   "source": [
    "**Ответ:**__init__"
   ]
  },
  {
   "cell_type": "markdown",
   "metadata": {
    "colab_type": "text",
    "id": "lf14yx330Za7"
   },
   "source": [
    "#### 2.\n",
    "\n",
    "На что указывает переменная `self`?"
   ]
  },
  {
   "cell_type": "markdown",
   "metadata": {
    "colab_type": "text",
    "id": "wI-0FWlF0Za8"
   },
   "source": [
    "**Ответ:** ссылка на объект класса"
   ]
  },
  {
   "cell_type": "markdown",
   "metadata": {
    "colab_type": "text",
    "id": "j_8_O_nl0Za8"
   },
   "source": [
    "#### 3.\n",
    "С помощью какой функции можно проверить, что некая строка является именем одного из атрибутов объекта?"
   ]
  },
  {
   "cell_type": "markdown",
   "metadata": {
    "colab_type": "text",
    "id": "5h8ASTrV0Za9"
   },
   "source": [
    "**Ответ:**  hasattr"
   ]
  },
  {
   "cell_type": "markdown",
   "metadata": {
    "colab_type": "text",
    "id": "G104VWgj0Za-"
   },
   "source": [
    "#### 4.\n",
    "Когда вызывается метод `__del__`? (относительно события удаления объекта)"
   ]
  },
  {
   "cell_type": "markdown",
   "metadata": {
    "colab_type": "text",
    "id": "Ukzoyxkn0Za-"
   },
   "source": [
    "**Ответ:** если на них больше нет ссылок "
   ]
  },
  {
   "cell_type": "markdown",
   "metadata": {
    "colab_type": "text",
    "id": "MkF-HyBM0ZbA"
   },
   "source": [
    "#### 5.\n",
    "Верно ли, что атрибут класса перекрывает атрибут объекта?"
   ]
  },
  {
   "cell_type": "markdown",
   "metadata": {
    "colab_type": "text",
    "id": "o7B52kVt0ZbC"
   },
   "source": [
    "**Ответ:** нет"
   ]
  },
  {
   "cell_type": "markdown",
   "metadata": {
    "colab_type": "text",
    "id": "kSwZWV2B0ZbC"
   },
   "source": [
    "#### 6.\n",
    "Можно ли атрибуты базового класса вызывать в дочернем классе? Если да, то напишите, нет ли исклчений?"
   ]
  },
  {
   "cell_type": "markdown",
   "metadata": {
    "colab_type": "text",
    "id": "6i74Koih0ZbE"
   },
   "source": [
    "**Ответ:** можно, но нельзя называть их с двойного подчеркивания"
   ]
  },
  {
   "cell_type": "markdown",
   "metadata": {
    "colab_type": "text",
    "id": "tl1St2O20ZbE"
   },
   "source": [
    "#### 7.\n",
    "Объясните своими словами для чего нужен метод `super`."
   ]
  },
  {
   "cell_type": "markdown",
   "metadata": {
    "colab_type": "text",
    "id": "rg3u1PoY0ZbF"
   },
   "source": [
    "**Ответ:** для обращения к родительскому классу"
   ]
  },
  {
   "cell_type": "raw",
   "metadata": {
    "colab_type": "text",
    "id": "5AiJn8ut0ZbG"
   },
   "source": [
    "### Практика\n",
    "\n",
    "1. Напишите класс `Fraction` для работы с дробями. Пусть дробь в нашем классе предстает в виде `числитель/знаменатель`. Дробное число должно создаваться по запросу `Fraction(a, b)`, где `a` – это числитель, а `b` – знаменатель дроби. \n",
    "2. Добавьте возможность сложения (сложения через оператор сложения) для дроби. Предполагается, что операция сложения может проводиться как только между дробями, так и между дробью и целым числом. Результат операции должен быть представлен в виде дроби.\n",
    "3. Добавьте возможность взятия разности (вычитания через оператор вычитания) для дробей. Предполагается, что операция вычитания может проводиться как только для двух дробей, так и для дроби и целого числа. Результат операции должен быть представлен в виде дроби.\n",
    "4. Добавьте возможность умножения (умножения через оператор умножения) для дробей. Предполагается, что операция умножения может проводиться как только для двух дробей, так и для дроби и целого числа. Результат операции должен быть представлен в виде дроби.\n",
    "5. Добавьте возможность приведения дроби к целому числу через стандартную функцию `int()`.\n",
    "6. Добавьте возможность приведения дроби к числу с плавающей точкой через стандартную функцию `float()`.\n",
    "7. Создайте дочерний класс `OperationsOnFraction` и добавьте туда собственные методы `getint` и `getfloat`, которые будут возвращать целую часть дроби и представление дроби в виде числа с плавающей точкой соответственно. \n",
    " "
   ]
  },
  {
   "cell_type": "code",
   "execution_count": 87,
   "metadata": {
    "colab": {},
    "colab_type": "code",
    "id": "ru3BJ52J0ZbG"
   },
   "outputs": [
    {
     "name": "stdout",
     "output_type": "stream",
     "text": [
      "1\n"
     ]
    }
   ],
   "source": [
    "### YOUR CODE HERE ###\n",
    "def gcd(a, b):\n",
    "\n",
    "    while a % b != 0:\n",
    "        old_a = a\n",
    "        old_b = b\n",
    "\n",
    "        a = old_b\n",
    "        b = old_a % old_b\n",
    "\n",
    "    return b\n",
    "\n",
    "\n",
    "class Fraction:\n",
    "    def __init__(self,a,b):\n",
    "        self.a = a\n",
    "        self.b = b\n",
    "    \n",
    "    def __repr__(self):\n",
    "        return '{}/{}'.format(self.a, self.b)\n",
    "\n",
    "        \n",
    "    def __add__(self, other):\n",
    "        if isinstance(other, Fraction):\n",
    "            other_a, other_b = other.a, other.b\n",
    "        elif isinstance(other, int):\n",
    "            other_a, other_b = other, 1\n",
    "        \n",
    "\n",
    "        new_a = self.a * other_b + self.b * other_a\n",
    "        new_b = self.b * other_b\n",
    "        common = gcd(new_a,new_b)\n",
    "        if new_a == 0:\n",
    "            return 0\n",
    "        elif new_a % new_b == 0:\n",
    "            return int(new_a/new_b)\n",
    "        else:\n",
    "            return Fraction (new_a//common, new_b//common)\n",
    "    \n",
    "    def __sub__(self,other):\n",
    "        if isinstance(other, Fraction):\n",
    "            other_a, other_b = other.a, other.b\n",
    "        elif isinstance(other, int):\n",
    "            other_a, other_b = other, 1\n",
    "        \n",
    "        new_a = self.a*other_b - self.b*other_a\n",
    "        new_b = self.b * other_b\n",
    "        common = gcd(new_a,new_b)\n",
    "        if new_a == 0:\n",
    "            return 0\n",
    "        elif new_a % new_b == 0:\n",
    "            return int(new_a/new_b)\n",
    "        else:\n",
    "            return Fraction(new_a//common, new_b//common)\n",
    "        \n",
    "    def __mul__(self,other):\n",
    "        if isinstance(other, Fraction):\n",
    "            other_a, other_b = other.a, other.b\n",
    "        elif isinstance(other, int):\n",
    "            other_a, other_b = other, 1\n",
    "        \n",
    "        new_a = self.a*other_a\n",
    "        new_b = self.b * other_b\n",
    "        common = gcd(new_a,new_b)\n",
    "        if new_a == 0:\n",
    "            return 0\n",
    "        elif new_a % new_b == 0:\n",
    "            return int(new_a/new_b)\n",
    "        else:\n",
    "            return Fraction(new_a//common, new_b//common)\n",
    "        \n",
    "    def __int__(self):\n",
    "        return int(self.a/self.b)\n",
    "    \n",
    "    def __float__(self):\n",
    "        return float(self.a/self.b)\n",
    "    \n",
    "class OperationsOnFraction(Fraction):\n",
    "    \n",
    "    def getfloat(self):\n",
    "        super().__float__()\n",
    "    \n",
    "    def getint(self):\n",
    "        super.__init__()\n",
    "        \n",
    "        \n",
    "        \n",
    "        \n",
    "c = OperationsOnFraction(7,7)  \n",
    "d = Fraction(3,4)\n",
    "\n",
    "print(int(c))\n",
    "\n",
    "\n",
    "    \n"
   ]
  },
  {
   "cell_type": "code",
   "execution_count": null,
   "metadata": {},
   "outputs": [],
   "source": []
  }
 ],
 "metadata": {
  "colab": {
   "collapsed_sections": [],
   "name": "jun_anl_class.ipynb",
   "provenance": []
  },
  "kernelspec": {
   "display_name": "Python 3",
   "language": "python",
   "name": "python3"
  },
  "language_info": {
   "codemirror_mode": {
    "name": "ipython",
    "version": 3
   },
   "file_extension": ".py",
   "mimetype": "text/x-python",
   "name": "python",
   "nbconvert_exporter": "python",
   "pygments_lexer": "ipython3",
   "version": "3.7.6"
  }
 },
 "nbformat": 4,
 "nbformat_minor": 4
}
